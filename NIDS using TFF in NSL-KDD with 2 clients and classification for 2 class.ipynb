{
 "cells": [
  {
   "cell_type": "code",
   "execution_count": 59,
   "metadata": {},
   "outputs": [
    {
     "name": "stdout",
     "output_type": "stream",
     "text": [
      "E0228 12:08:35.524955023   21499 completion_queue.cc:746]              Kick failed: UNKNOWN:Bad file descriptor {syscall:\"eventfd_write\", os_error:\"Bad file descriptor\", errno:9, created_time:\"2024-02-28T12:08:35.524905611+00:00\"}\n",
      "Requirement already satisfied: tensorflow in /usr/local/python/3.10.13/lib/python3.10/site-packages (2.14.1)\n",
      "Requirement already satisfied: absl-py>=1.0.0 in /usr/local/python/3.10.13/lib/python3.10/site-packages (from tensorflow) (1.4.0)\n",
      "Requirement already satisfied: astunparse>=1.6.0 in /usr/local/python/3.10.13/lib/python3.10/site-packages (from tensorflow) (1.6.3)\n",
      "Requirement already satisfied: flatbuffers>=23.5.26 in /usr/local/python/3.10.13/lib/python3.10/site-packages (from tensorflow) (23.5.26)\n",
      "Requirement already satisfied: gast!=0.5.0,!=0.5.1,!=0.5.2,>=0.2.1 in /usr/local/python/3.10.13/lib/python3.10/site-packages (from tensorflow) (0.5.4)\n",
      "Requirement already satisfied: google-pasta>=0.1.1 in /usr/local/python/3.10.13/lib/python3.10/site-packages (from tensorflow) (0.2.0)\n",
      "Requirement already satisfied: h5py>=2.9.0 in /usr/local/python/3.10.13/lib/python3.10/site-packages (from tensorflow) (3.10.0)\n",
      "Requirement already satisfied: libclang>=13.0.0 in /usr/local/python/3.10.13/lib/python3.10/site-packages (from tensorflow) (16.0.6)\n",
      "Requirement already satisfied: ml-dtypes==0.2.0 in /usr/local/python/3.10.13/lib/python3.10/site-packages (from tensorflow) (0.2.0)\n",
      "Requirement already satisfied: numpy<2.0.0,>=1.23.5 in /usr/local/python/3.10.13/lib/python3.10/site-packages (from tensorflow) (1.25.2)\n",
      "Requirement already satisfied: opt-einsum>=2.3.2 in /usr/local/python/3.10.13/lib/python3.10/site-packages (from tensorflow) (3.3.0)\n",
      "Requirement already satisfied: packaging in /usr/local/python/3.10.13/lib/python3.10/site-packages (from tensorflow) (22.0)\n",
      "Requirement already satisfied: protobuf!=4.21.0,!=4.21.1,!=4.21.2,!=4.21.3,!=4.21.4,!=4.21.5,<5.0.0dev,>=3.20.3 in /usr/local/python/3.10.13/lib/python3.10/site-packages (from tensorflow) (4.25.3)\n",
      "Requirement already satisfied: setuptools in /usr/local/python/3.10.13/lib/python3.10/site-packages (from tensorflow) (68.2.2)\n",
      "Requirement already satisfied: six>=1.12.0 in /home/codespace/.local/lib/python3.10/site-packages (from tensorflow) (1.16.0)\n",
      "Requirement already satisfied: termcolor>=1.1.0 in /usr/local/python/3.10.13/lib/python3.10/site-packages (from tensorflow) (2.4.0)\n",
      "Requirement already satisfied: typing-extensions>=3.6.6 in /usr/local/python/3.10.13/lib/python3.10/site-packages (from tensorflow) (4.5.0)\n",
      "Requirement already satisfied: wrapt<1.15,>=1.11.0 in /usr/local/python/3.10.13/lib/python3.10/site-packages (from tensorflow) (1.14.1)\n",
      "Requirement already satisfied: tensorflow-io-gcs-filesystem>=0.23.1 in /usr/local/python/3.10.13/lib/python3.10/site-packages (from tensorflow) (0.36.0)\n",
      "Requirement already satisfied: grpcio<2.0,>=1.24.3 in /usr/local/python/3.10.13/lib/python3.10/site-packages (from tensorflow) (1.62.0)\n",
      "Requirement already satisfied: tensorboard<2.15,>=2.14 in /usr/local/python/3.10.13/lib/python3.10/site-packages (from tensorflow) (2.14.1)\n",
      "Requirement already satisfied: tensorflow-estimator<2.15,>=2.14.0 in /usr/local/python/3.10.13/lib/python3.10/site-packages (from tensorflow) (2.14.0)\n",
      "Requirement already satisfied: keras<2.15,>=2.14.0 in /usr/local/python/3.10.13/lib/python3.10/site-packages (from tensorflow) (2.14.0)\n",
      "Requirement already satisfied: wheel<1.0,>=0.23.0 in /usr/local/python/3.10.13/lib/python3.10/site-packages (from astunparse>=1.6.0->tensorflow) (0.42.0)\n",
      "Requirement already satisfied: google-auth<3,>=1.6.3 in /usr/local/python/3.10.13/lib/python3.10/site-packages (from tensorboard<2.15,>=2.14->tensorflow) (2.28.1)\n",
      "Requirement already satisfied: google-auth-oauthlib<1.1,>=0.5 in /usr/local/python/3.10.13/lib/python3.10/site-packages (from tensorboard<2.15,>=2.14->tensorflow) (1.0.0)\n",
      "Requirement already satisfied: markdown>=2.6.8 in /usr/local/python/3.10.13/lib/python3.10/site-packages (from tensorboard<2.15,>=2.14->tensorflow) (3.5.2)\n",
      "Requirement already satisfied: requests<3,>=2.21.0 in /home/codespace/.local/lib/python3.10/site-packages (from tensorboard<2.15,>=2.14->tensorflow) (2.31.0)\n",
      "Requirement already satisfied: tensorboard-data-server<0.8.0,>=0.7.0 in /usr/local/python/3.10.13/lib/python3.10/site-packages (from tensorboard<2.15,>=2.14->tensorflow) (0.7.2)\n",
      "Requirement already satisfied: werkzeug>=1.0.1 in /usr/local/python/3.10.13/lib/python3.10/site-packages (from tensorboard<2.15,>=2.14->tensorflow) (3.0.1)\n",
      "Requirement already satisfied: cachetools<6.0,>=2.0.0 in /usr/local/python/3.10.13/lib/python3.10/site-packages (from google-auth<3,>=1.6.3->tensorboard<2.15,>=2.14->tensorflow) (5.3.2)\n",
      "Requirement already satisfied: pyasn1-modules>=0.2.1 in /usr/local/python/3.10.13/lib/python3.10/site-packages (from google-auth<3,>=1.6.3->tensorboard<2.15,>=2.14->tensorflow) (0.3.0)\n",
      "Requirement already satisfied: rsa<5,>=3.1.4 in /usr/local/python/3.10.13/lib/python3.10/site-packages (from google-auth<3,>=1.6.3->tensorboard<2.15,>=2.14->tensorflow) (4.9)\n",
      "Requirement already satisfied: requests-oauthlib>=0.7.0 in /usr/local/python/3.10.13/lib/python3.10/site-packages (from google-auth-oauthlib<1.1,>=0.5->tensorboard<2.15,>=2.14->tensorflow) (1.3.1)\n",
      "Requirement already satisfied: charset-normalizer<4,>=2 in /home/codespace/.local/lib/python3.10/site-packages (from requests<3,>=2.21.0->tensorboard<2.15,>=2.14->tensorflow) (3.3.2)\n",
      "Requirement already satisfied: idna<4,>=2.5 in /home/codespace/.local/lib/python3.10/site-packages (from requests<3,>=2.21.0->tensorboard<2.15,>=2.14->tensorflow) (3.6)\n",
      "Requirement already satisfied: urllib3<3,>=1.21.1 in /usr/local/python/3.10.13/lib/python3.10/site-packages (from requests<3,>=2.21.0->tensorboard<2.15,>=2.14->tensorflow) (2.0.7)\n",
      "Requirement already satisfied: certifi>=2017.4.17 in /home/codespace/.local/lib/python3.10/site-packages (from requests<3,>=2.21.0->tensorboard<2.15,>=2.14->tensorflow) (2024.2.2)\n",
      "Requirement already satisfied: MarkupSafe>=2.1.1 in /home/codespace/.local/lib/python3.10/site-packages (from werkzeug>=1.0.1->tensorboard<2.15,>=2.14->tensorflow) (2.1.5)\n",
      "Requirement already satisfied: pyasn1<0.6.0,>=0.4.6 in /usr/local/python/3.10.13/lib/python3.10/site-packages (from pyasn1-modules>=0.2.1->google-auth<3,>=1.6.3->tensorboard<2.15,>=2.14->tensorflow) (0.5.1)\n",
      "Requirement already satisfied: oauthlib>=3.0.0 in /usr/local/python/3.10.13/lib/python3.10/site-packages (from requests-oauthlib>=0.7.0->google-auth-oauthlib<1.1,>=0.5->tensorboard<2.15,>=2.14->tensorflow) (3.2.2)\n",
      "Note: you may need to restart the kernel to use updated packages.\n"
     ]
    }
   ],
   "source": [
    "\n",
    "pip install tensorflow"
   ]
  },
  {
   "cell_type": "code",
   "execution_count": 60,
   "metadata": {},
   "outputs": [
    {
     "name": "stdout",
     "output_type": "stream",
     "text": [
      "Requirement already satisfied: tensorflow-federated in /usr/local/python/3.10.13/lib/python3.10/site-packages (0.71.0)\n",
      "Requirement already satisfied: absl-py==1.*,>=1.0 in /usr/local/python/3.10.13/lib/python3.10/site-packages (from tensorflow-federated) (1.4.0)\n",
      "Requirement already satisfied: attrs~=23.1 in /usr/local/python/3.10.13/lib/python3.10/site-packages (from tensorflow-federated) (23.1.0)\n",
      "Requirement already satisfied: cachetools~=5.3 in /usr/local/python/3.10.13/lib/python3.10/site-packages (from tensorflow-federated) (5.3.2)\n",
      "Requirement already satisfied: dm-tree==0.1.8 in /usr/local/python/3.10.13/lib/python3.10/site-packages (from tensorflow-federated) (0.1.8)\n",
      "Requirement already satisfied: dp-accounting==0.4.3 in /usr/local/python/3.10.13/lib/python3.10/site-packages (from tensorflow-federated) (0.4.3)\n",
      "Requirement already satisfied: farmhashpy==0.4.0 in /usr/local/python/3.10.13/lib/python3.10/site-packages (from tensorflow-federated) (0.4.0)\n",
      "Requirement already satisfied: google-vizier==0.1.11 in /usr/local/python/3.10.13/lib/python3.10/site-packages (from tensorflow-federated) (0.1.11)\n",
      "Requirement already satisfied: grpcio~=1.46 in /usr/local/python/3.10.13/lib/python3.10/site-packages (from tensorflow-federated) (1.62.0)\n",
      "Requirement already satisfied: jaxlib==0.4.14 in /usr/local/python/3.10.13/lib/python3.10/site-packages (from tensorflow-federated) (0.4.14)\n",
      "Requirement already satisfied: jax==0.4.14 in /usr/local/python/3.10.13/lib/python3.10/site-packages (from tensorflow-federated) (0.4.14)\n",
      "Requirement already satisfied: numpy~=1.25 in /usr/local/python/3.10.13/lib/python3.10/site-packages (from tensorflow-federated) (1.25.2)\n",
      "Requirement already satisfied: portpicker~=1.6 in /usr/local/python/3.10.13/lib/python3.10/site-packages (from tensorflow-federated) (1.6.0)\n",
      "Requirement already satisfied: scipy~=1.9.3 in /usr/local/python/3.10.13/lib/python3.10/site-packages (from tensorflow-federated) (1.9.3)\n",
      "Requirement already satisfied: semantic-version~=2.6 in /usr/local/python/3.10.13/lib/python3.10/site-packages (from tensorflow-federated) (2.10.0)\n",
      "Requirement already satisfied: tensorflow-compression==2.14.*,>=2.14.0 in /usr/local/python/3.10.13/lib/python3.10/site-packages (from tensorflow-federated) (2.14.0)\n",
      "Requirement already satisfied: tensorflow-model-optimization==0.7.5 in /usr/local/python/3.10.13/lib/python3.10/site-packages (from tensorflow-federated) (0.7.5)\n",
      "Requirement already satisfied: tensorflow-privacy==0.8.12 in /usr/local/python/3.10.13/lib/python3.10/site-packages (from tensorflow-federated) (0.8.12)\n",
      "Requirement already satisfied: tensorflow==2.14.*,>=2.14.0 in /usr/local/python/3.10.13/lib/python3.10/site-packages (from tensorflow-federated) (2.14.1)\n",
      "Requirement already satisfied: tqdm~=4.64 in /usr/local/python/3.10.13/lib/python3.10/site-packages (from tensorflow-federated) (4.66.2)\n",
      "Requirement already satisfied: typing-extensions==4.5.*,>=4.5.0 in /usr/local/python/3.10.13/lib/python3.10/site-packages (from tensorflow-federated) (4.5.0)\n",
      "Requirement already satisfied: googleapis-common-protos==1.61.0 in /usr/local/python/3.10.13/lib/python3.10/site-packages (from tensorflow-federated) (1.61.0)\n",
      "Requirement already satisfied: mpmath~=1.2 in /home/codespace/.local/lib/python3.10/site-packages (from dp-accounting==0.4.3->tensorflow-federated) (1.3.0)\n",
      "Requirement already satisfied: protobuf>=3.6 in /usr/local/python/3.10.13/lib/python3.10/site-packages (from google-vizier==0.1.11->tensorflow-federated) (4.25.3)\n",
      "Requirement already satisfied: grpcio-tools>=1.35.0 in /usr/local/python/3.10.13/lib/python3.10/site-packages (from google-vizier==0.1.11->tensorflow-federated) (1.62.0)\n",
      "Requirement already satisfied: sqlalchemy<=1.4.20,>=1.4 in /usr/local/python/3.10.13/lib/python3.10/site-packages (from google-vizier==0.1.11->tensorflow-federated) (1.4.20)\n",
      "Requirement already satisfied: ml-dtypes>=0.2.0 in /usr/local/python/3.10.13/lib/python3.10/site-packages (from jax==0.4.14->tensorflow-federated) (0.2.0)\n",
      "Requirement already satisfied: opt-einsum in /usr/local/python/3.10.13/lib/python3.10/site-packages (from jax==0.4.14->tensorflow-federated) (3.3.0)\n",
      "Requirement already satisfied: astunparse>=1.6.0 in /usr/local/python/3.10.13/lib/python3.10/site-packages (from tensorflow==2.14.*,>=2.14.0->tensorflow-federated) (1.6.3)\n",
      "Requirement already satisfied: flatbuffers>=23.5.26 in /usr/local/python/3.10.13/lib/python3.10/site-packages (from tensorflow==2.14.*,>=2.14.0->tensorflow-federated) (23.5.26)\n",
      "Requirement already satisfied: gast!=0.5.0,!=0.5.1,!=0.5.2,>=0.2.1 in /usr/local/python/3.10.13/lib/python3.10/site-packages (from tensorflow==2.14.*,>=2.14.0->tensorflow-federated) (0.5.4)\n",
      "Requirement already satisfied: google-pasta>=0.1.1 in /usr/local/python/3.10.13/lib/python3.10/site-packages (from tensorflow==2.14.*,>=2.14.0->tensorflow-federated) (0.2.0)\n",
      "Requirement already satisfied: h5py>=2.9.0 in /usr/local/python/3.10.13/lib/python3.10/site-packages (from tensorflow==2.14.*,>=2.14.0->tensorflow-federated) (3.10.0)\n",
      "Requirement already satisfied: libclang>=13.0.0 in /usr/local/python/3.10.13/lib/python3.10/site-packages (from tensorflow==2.14.*,>=2.14.0->tensorflow-federated) (16.0.6)\n",
      "Requirement already satisfied: packaging in /usr/local/python/3.10.13/lib/python3.10/site-packages (from tensorflow==2.14.*,>=2.14.0->tensorflow-federated) (22.0)\n",
      "Requirement already satisfied: setuptools in /usr/local/python/3.10.13/lib/python3.10/site-packages (from tensorflow==2.14.*,>=2.14.0->tensorflow-federated) (68.2.2)\n",
      "Requirement already satisfied: six>=1.12.0 in /home/codespace/.local/lib/python3.10/site-packages (from tensorflow==2.14.*,>=2.14.0->tensorflow-federated) (1.16.0)\n",
      "Requirement already satisfied: termcolor>=1.1.0 in /usr/local/python/3.10.13/lib/python3.10/site-packages (from tensorflow==2.14.*,>=2.14.0->tensorflow-federated) (2.4.0)\n",
      "Requirement already satisfied: wrapt<1.15,>=1.11.0 in /usr/local/python/3.10.13/lib/python3.10/site-packages (from tensorflow==2.14.*,>=2.14.0->tensorflow-federated) (1.14.1)\n",
      "Requirement already satisfied: tensorflow-io-gcs-filesystem>=0.23.1 in /usr/local/python/3.10.13/lib/python3.10/site-packages (from tensorflow==2.14.*,>=2.14.0->tensorflow-federated) (0.36.0)\n",
      "Requirement already satisfied: tensorboard<2.15,>=2.14 in /usr/local/python/3.10.13/lib/python3.10/site-packages (from tensorflow==2.14.*,>=2.14.0->tensorflow-federated) (2.14.1)\n",
      "Requirement already satisfied: tensorflow-estimator<2.15,>=2.14.0 in /usr/local/python/3.10.13/lib/python3.10/site-packages (from tensorflow==2.14.*,>=2.14.0->tensorflow-federated) (2.14.0)\n",
      "Requirement already satisfied: keras<2.15,>=2.14.0 in /usr/local/python/3.10.13/lib/python3.10/site-packages (from tensorflow==2.14.*,>=2.14.0->tensorflow-federated) (2.14.0)\n",
      "Requirement already satisfied: tensorflow-probability~=0.15 in /usr/local/python/3.10.13/lib/python3.10/site-packages (from tensorflow-compression==2.14.*,>=2.14.0->tensorflow-federated) (0.22.1)\n",
      "Requirement already satisfied: immutabledict~=2.2 in /usr/local/python/3.10.13/lib/python3.10/site-packages (from tensorflow-privacy==0.8.12->tensorflow-federated) (2.2.5)\n",
      "Requirement already satisfied: matplotlib~=3.3 in /home/codespace/.local/lib/python3.10/site-packages (from tensorflow-privacy==0.8.12->tensorflow-federated) (3.8.2)\n",
      "Requirement already satisfied: pandas~=1.4 in /usr/local/python/3.10.13/lib/python3.10/site-packages (from tensorflow-privacy==0.8.12->tensorflow-federated) (1.5.3)\n",
      "Requirement already satisfied: scikit-learn==1.*,>=1.0 in /home/codespace/.local/lib/python3.10/site-packages (from tensorflow-privacy==0.8.12->tensorflow-federated) (1.4.0)\n",
      "Requirement already satisfied: statsmodels~=0.13 in /usr/local/python/3.10.13/lib/python3.10/site-packages (from tensorflow-privacy==0.8.12->tensorflow-federated) (0.14.1)\n",
      "Requirement already satisfied: tf-models-official~=2.13 in /usr/local/python/3.10.13/lib/python3.10/site-packages (from tensorflow-privacy==0.8.12->tensorflow-federated) (2.14.2)\n",
      "Requirement already satisfied: joblib>=1.2.0 in /home/codespace/.local/lib/python3.10/site-packages (from scikit-learn==1.*,>=1.0->tensorflow-privacy==0.8.12->tensorflow-federated) (1.3.2)\n",
      "Requirement already satisfied: threadpoolctl>=2.0.0 in /home/codespace/.local/lib/python3.10/site-packages (from scikit-learn==1.*,>=1.0->tensorflow-privacy==0.8.12->tensorflow-federated) (3.2.0)\n",
      "Requirement already satisfied: psutil in /home/codespace/.local/lib/python3.10/site-packages (from portpicker~=1.6->tensorflow-federated) (5.9.8)\n",
      "Requirement already satisfied: wheel<1.0,>=0.23.0 in /usr/local/python/3.10.13/lib/python3.10/site-packages (from astunparse>=1.6.0->tensorflow==2.14.*,>=2.14.0->tensorflow-federated) (0.42.0)\n",
      "Requirement already satisfied: contourpy>=1.0.1 in /home/codespace/.local/lib/python3.10/site-packages (from matplotlib~=3.3->tensorflow-privacy==0.8.12->tensorflow-federated) (1.2.0)\n",
      "Requirement already satisfied: cycler>=0.10 in /home/codespace/.local/lib/python3.10/site-packages (from matplotlib~=3.3->tensorflow-privacy==0.8.12->tensorflow-federated) (0.12.1)\n",
      "Requirement already satisfied: fonttools>=4.22.0 in /home/codespace/.local/lib/python3.10/site-packages (from matplotlib~=3.3->tensorflow-privacy==0.8.12->tensorflow-federated) (4.48.1)\n",
      "Requirement already satisfied: kiwisolver>=1.3.1 in /home/codespace/.local/lib/python3.10/site-packages (from matplotlib~=3.3->tensorflow-privacy==0.8.12->tensorflow-federated) (1.4.5)\n",
      "Requirement already satisfied: pillow>=8 in /home/codespace/.local/lib/python3.10/site-packages (from matplotlib~=3.3->tensorflow-privacy==0.8.12->tensorflow-federated) (10.2.0)\n",
      "Requirement already satisfied: pyparsing>=2.3.1 in /home/codespace/.local/lib/python3.10/site-packages (from matplotlib~=3.3->tensorflow-privacy==0.8.12->tensorflow-federated) (3.1.1)\n",
      "Requirement already satisfied: python-dateutil>=2.7 in /home/codespace/.local/lib/python3.10/site-packages (from matplotlib~=3.3->tensorflow-privacy==0.8.12->tensorflow-federated) (2.8.2)\n",
      "Requirement already satisfied: pytz>=2020.1 in /home/codespace/.local/lib/python3.10/site-packages (from pandas~=1.4->tensorflow-privacy==0.8.12->tensorflow-federated) (2024.1)\n",
      "Requirement already satisfied: greenlet!=0.4.17 in /usr/local/python/3.10.13/lib/python3.10/site-packages (from sqlalchemy<=1.4.20,>=1.4->google-vizier==0.1.11->tensorflow-federated) (3.0.3)\n",
      "Requirement already satisfied: patsy>=0.5.4 in /usr/local/python/3.10.13/lib/python3.10/site-packages (from statsmodels~=0.13->tensorflow-privacy==0.8.12->tensorflow-federated) (0.5.6)\n",
      "Requirement already satisfied: google-auth<3,>=1.6.3 in /usr/local/python/3.10.13/lib/python3.10/site-packages (from tensorboard<2.15,>=2.14->tensorflow==2.14.*,>=2.14.0->tensorflow-federated) (2.28.1)\n",
      "Requirement already satisfied: google-auth-oauthlib<1.1,>=0.5 in /usr/local/python/3.10.13/lib/python3.10/site-packages (from tensorboard<2.15,>=2.14->tensorflow==2.14.*,>=2.14.0->tensorflow-federated) (1.0.0)\n",
      "Requirement already satisfied: markdown>=2.6.8 in /usr/local/python/3.10.13/lib/python3.10/site-packages (from tensorboard<2.15,>=2.14->tensorflow==2.14.*,>=2.14.0->tensorflow-federated) (3.5.2)\n",
      "Requirement already satisfied: requests<3,>=2.21.0 in /home/codespace/.local/lib/python3.10/site-packages (from tensorboard<2.15,>=2.14->tensorflow==2.14.*,>=2.14.0->tensorflow-federated) (2.31.0)\n",
      "Requirement already satisfied: tensorboard-data-server<0.8.0,>=0.7.0 in /usr/local/python/3.10.13/lib/python3.10/site-packages (from tensorboard<2.15,>=2.14->tensorflow==2.14.*,>=2.14.0->tensorflow-federated) (0.7.2)\n",
      "Requirement already satisfied: werkzeug>=1.0.1 in /usr/local/python/3.10.13/lib/python3.10/site-packages (from tensorboard<2.15,>=2.14->tensorflow==2.14.*,>=2.14.0->tensorflow-federated) (3.0.1)\n",
      "Requirement already satisfied: decorator in /home/codespace/.local/lib/python3.10/site-packages (from tensorflow-probability~=0.15->tensorflow-compression==2.14.*,>=2.14.0->tensorflow-federated) (5.1.1)\n",
      "Requirement already satisfied: cloudpickle>=1.3 in /usr/local/python/3.10.13/lib/python3.10/site-packages (from tensorflow-probability~=0.15->tensorflow-compression==2.14.*,>=2.14.0->tensorflow-federated) (3.0.0)\n",
      "Requirement already satisfied: Cython in /usr/local/python/3.10.13/lib/python3.10/site-packages (from tf-models-official~=2.13->tensorflow-privacy==0.8.12->tensorflow-federated) (3.0.8)\n",
      "Requirement already satisfied: gin-config in /usr/local/python/3.10.13/lib/python3.10/site-packages (from tf-models-official~=2.13->tensorflow-privacy==0.8.12->tensorflow-federated) (0.5.0)\n",
      "Requirement already satisfied: google-api-python-client>=1.6.7 in /usr/local/python/3.10.13/lib/python3.10/site-packages (from tf-models-official~=2.13->tensorflow-privacy==0.8.12->tensorflow-federated) (2.119.0)\n",
      "Requirement already satisfied: kaggle>=1.3.9 in /usr/local/python/3.10.13/lib/python3.10/site-packages (from tf-models-official~=2.13->tensorflow-privacy==0.8.12->tensorflow-federated) (1.6.6)\n",
      "Requirement already satisfied: oauth2client in /usr/local/python/3.10.13/lib/python3.10/site-packages (from tf-models-official~=2.13->tensorflow-privacy==0.8.12->tensorflow-federated) (4.1.3)\n",
      "Requirement already satisfied: opencv-python-headless in /usr/local/python/3.10.13/lib/python3.10/site-packages (from tf-models-official~=2.13->tensorflow-privacy==0.8.12->tensorflow-federated) (4.9.0.80)\n",
      "Requirement already satisfied: py-cpuinfo>=3.3.0 in /usr/local/python/3.10.13/lib/python3.10/site-packages (from tf-models-official~=2.13->tensorflow-privacy==0.8.12->tensorflow-federated) (9.0.0)\n",
      "Requirement already satisfied: pycocotools in /usr/local/python/3.10.13/lib/python3.10/site-packages (from tf-models-official~=2.13->tensorflow-privacy==0.8.12->tensorflow-federated) (2.0.7)\n",
      "Requirement already satisfied: pyyaml>=6.0.0 in /home/codespace/.local/lib/python3.10/site-packages (from tf-models-official~=2.13->tensorflow-privacy==0.8.12->tensorflow-federated) (6.0.1)\n",
      "Requirement already satisfied: sacrebleu in /usr/local/python/3.10.13/lib/python3.10/site-packages (from tf-models-official~=2.13->tensorflow-privacy==0.8.12->tensorflow-federated) (2.4.0)\n",
      "Requirement already satisfied: sentencepiece in /usr/local/python/3.10.13/lib/python3.10/site-packages (from tf-models-official~=2.13->tensorflow-privacy==0.8.12->tensorflow-federated) (0.2.0)\n",
      "Requirement already satisfied: seqeval in /usr/local/python/3.10.13/lib/python3.10/site-packages (from tf-models-official~=2.13->tensorflow-privacy==0.8.12->tensorflow-federated) (1.2.2)\n",
      "Requirement already satisfied: tensorflow-datasets in /usr/local/python/3.10.13/lib/python3.10/site-packages (from tf-models-official~=2.13->tensorflow-privacy==0.8.12->tensorflow-federated) (4.9.4)\n",
      "Requirement already satisfied: tensorflow-hub>=0.6.0 in /usr/local/python/3.10.13/lib/python3.10/site-packages (from tf-models-official~=2.13->tensorflow-privacy==0.8.12->tensorflow-federated) (0.16.1)\n",
      "Requirement already satisfied: tensorflow-text~=2.14.0 in /usr/local/python/3.10.13/lib/python3.10/site-packages (from tf-models-official~=2.13->tensorflow-privacy==0.8.12->tensorflow-federated) (2.14.0)\n",
      "Requirement already satisfied: tf-slim>=1.1.0 in /usr/local/python/3.10.13/lib/python3.10/site-packages (from tf-models-official~=2.13->tensorflow-privacy==0.8.12->tensorflow-federated) (1.1.0)\n",
      "Requirement already satisfied: httplib2<1.dev0,>=0.15.0 in /usr/local/python/3.10.13/lib/python3.10/site-packages (from google-api-python-client>=1.6.7->tf-models-official~=2.13->tensorflow-privacy==0.8.12->tensorflow-federated) (0.22.0)\n",
      "Requirement already satisfied: google-auth-httplib2>=0.1.0 in /usr/local/python/3.10.13/lib/python3.10/site-packages (from google-api-python-client>=1.6.7->tf-models-official~=2.13->tensorflow-privacy==0.8.12->tensorflow-federated) (0.2.0)\n",
      "Requirement already satisfied: google-api-core!=2.0.*,!=2.1.*,!=2.2.*,!=2.3.0,<3.0.0.dev0,>=1.31.5 in /usr/local/python/3.10.13/lib/python3.10/site-packages (from google-api-python-client>=1.6.7->tf-models-official~=2.13->tensorflow-privacy==0.8.12->tensorflow-federated) (2.17.1)\n",
      "Requirement already satisfied: uritemplate<5,>=3.0.1 in /usr/local/python/3.10.13/lib/python3.10/site-packages (from google-api-python-client>=1.6.7->tf-models-official~=2.13->tensorflow-privacy==0.8.12->tensorflow-federated) (4.1.1)\n",
      "Requirement already satisfied: pyasn1-modules>=0.2.1 in /usr/local/python/3.10.13/lib/python3.10/site-packages (from google-auth<3,>=1.6.3->tensorboard<2.15,>=2.14->tensorflow==2.14.*,>=2.14.0->tensorflow-federated) (0.3.0)\n",
      "Requirement already satisfied: rsa<5,>=3.1.4 in /usr/local/python/3.10.13/lib/python3.10/site-packages (from google-auth<3,>=1.6.3->tensorboard<2.15,>=2.14->tensorflow==2.14.*,>=2.14.0->tensorflow-federated) (4.9)\n",
      "Requirement already satisfied: requests-oauthlib>=0.7.0 in /usr/local/python/3.10.13/lib/python3.10/site-packages (from google-auth-oauthlib<1.1,>=0.5->tensorboard<2.15,>=2.14->tensorflow==2.14.*,>=2.14.0->tensorflow-federated) (1.3.1)\n",
      "Requirement already satisfied: certifi in /home/codespace/.local/lib/python3.10/site-packages (from kaggle>=1.3.9->tf-models-official~=2.13->tensorflow-privacy==0.8.12->tensorflow-federated) (2024.2.2)\n",
      "Requirement already satisfied: python-slugify in /usr/local/python/3.10.13/lib/python3.10/site-packages (from kaggle>=1.3.9->tf-models-official~=2.13->tensorflow-privacy==0.8.12->tensorflow-federated) (8.0.4)\n",
      "Requirement already satisfied: urllib3 in /usr/local/python/3.10.13/lib/python3.10/site-packages (from kaggle>=1.3.9->tf-models-official~=2.13->tensorflow-privacy==0.8.12->tensorflow-federated) (2.0.7)\n",
      "Requirement already satisfied: bleach in /home/codespace/.local/lib/python3.10/site-packages (from kaggle>=1.3.9->tf-models-official~=2.13->tensorflow-privacy==0.8.12->tensorflow-federated) (6.1.0)\n",
      "Requirement already satisfied: charset-normalizer<4,>=2 in /home/codespace/.local/lib/python3.10/site-packages (from requests<3,>=2.21.0->tensorboard<2.15,>=2.14->tensorflow==2.14.*,>=2.14.0->tensorflow-federated) (3.3.2)\n",
      "Requirement already satisfied: idna<4,>=2.5 in /home/codespace/.local/lib/python3.10/site-packages (from requests<3,>=2.21.0->tensorboard<2.15,>=2.14->tensorflow==2.14.*,>=2.14.0->tensorflow-federated) (3.6)\n",
      "Requirement already satisfied: tf-keras>=2.14.1 in /usr/local/python/3.10.13/lib/python3.10/site-packages (from tensorflow-hub>=0.6.0->tf-models-official~=2.13->tensorflow-privacy==0.8.12->tensorflow-federated) (2.15.0)\n",
      "Requirement already satisfied: MarkupSafe>=2.1.1 in /home/codespace/.local/lib/python3.10/site-packages (from werkzeug>=1.0.1->tensorboard<2.15,>=2.14->tensorflow==2.14.*,>=2.14.0->tensorflow-federated) (2.1.5)\n",
      "Requirement already satisfied: pyasn1>=0.1.7 in /usr/local/python/3.10.13/lib/python3.10/site-packages (from oauth2client->tf-models-official~=2.13->tensorflow-privacy==0.8.12->tensorflow-federated) (0.5.1)\n",
      "Requirement already satisfied: portalocker in /usr/local/python/3.10.13/lib/python3.10/site-packages (from sacrebleu->tf-models-official~=2.13->tensorflow-privacy==0.8.12->tensorflow-federated) (2.8.2)\n",
      "Requirement already satisfied: regex in /usr/local/python/3.10.13/lib/python3.10/site-packages (from sacrebleu->tf-models-official~=2.13->tensorflow-privacy==0.8.12->tensorflow-federated) (2023.12.25)\n",
      "Requirement already satisfied: tabulate>=0.8.9 in /usr/local/python/3.10.13/lib/python3.10/site-packages (from sacrebleu->tf-models-official~=2.13->tensorflow-privacy==0.8.12->tensorflow-federated) (0.9.0)\n",
      "Requirement already satisfied: colorama in /home/codespace/.local/lib/python3.10/site-packages (from sacrebleu->tf-models-official~=2.13->tensorflow-privacy==0.8.12->tensorflow-federated) (0.4.6)\n",
      "Requirement already satisfied: lxml in /usr/local/python/3.10.13/lib/python3.10/site-packages (from sacrebleu->tf-models-official~=2.13->tensorflow-privacy==0.8.12->tensorflow-federated) (5.1.0)\n",
      "Requirement already satisfied: click in /usr/local/python/3.10.13/lib/python3.10/site-packages (from tensorflow-datasets->tf-models-official~=2.13->tensorflow-privacy==0.8.12->tensorflow-federated) (8.1.7)\n",
      "Requirement already satisfied: etils>=0.9.0 in /usr/local/python/3.10.13/lib/python3.10/site-packages (from etils[enp,epath,etree]>=0.9.0->tensorflow-datasets->tf-models-official~=2.13->tensorflow-privacy==0.8.12->tensorflow-federated) (1.7.0)\n",
      "Requirement already satisfied: promise in /usr/local/python/3.10.13/lib/python3.10/site-packages (from tensorflow-datasets->tf-models-official~=2.13->tensorflow-privacy==0.8.12->tensorflow-federated) (2.3)\n",
      "Requirement already satisfied: tensorflow-metadata in /usr/local/python/3.10.13/lib/python3.10/site-packages (from tensorflow-datasets->tf-models-official~=2.13->tensorflow-privacy==0.8.12->tensorflow-federated) (1.13.1)\n",
      "Requirement already satisfied: toml in /usr/local/python/3.10.13/lib/python3.10/site-packages (from tensorflow-datasets->tf-models-official~=2.13->tensorflow-privacy==0.8.12->tensorflow-federated) (0.10.2)\n",
      "Requirement already satisfied: array-record>=0.5.0 in /usr/local/python/3.10.13/lib/python3.10/site-packages (from tensorflow-datasets->tf-models-official~=2.13->tensorflow-privacy==0.8.12->tensorflow-federated) (0.5.0)\n",
      "Requirement already satisfied: fsspec in /home/codespace/.local/lib/python3.10/site-packages (from etils[enp,epath,etree]>=0.9.0->tensorflow-datasets->tf-models-official~=2.13->tensorflow-privacy==0.8.12->tensorflow-federated) (2024.2.0)\n",
      "Requirement already satisfied: importlib_resources in /usr/local/python/3.10.13/lib/python3.10/site-packages (from etils[enp,epath,etree]>=0.9.0->tensorflow-datasets->tf-models-official~=2.13->tensorflow-privacy==0.8.12->tensorflow-federated) (6.1.1)\n",
      "Requirement already satisfied: zipp in /usr/local/python/3.10.13/lib/python3.10/site-packages (from etils[enp,epath,etree]>=0.9.0->tensorflow-datasets->tf-models-official~=2.13->tensorflow-privacy==0.8.12->tensorflow-federated) (3.17.0)\n",
      "Requirement already satisfied: oauthlib>=3.0.0 in /usr/local/python/3.10.13/lib/python3.10/site-packages (from requests-oauthlib>=0.7.0->google-auth-oauthlib<1.1,>=0.5->tensorboard<2.15,>=2.14->tensorflow==2.14.*,>=2.14.0->tensorflow-federated) (3.2.2)\n",
      "Requirement already satisfied: webencodings in /home/codespace/.local/lib/python3.10/site-packages (from bleach->kaggle>=1.3.9->tf-models-official~=2.13->tensorflow-privacy==0.8.12->tensorflow-federated) (0.5.1)\n",
      "Requirement already satisfied: text-unidecode>=1.3 in /usr/local/python/3.10.13/lib/python3.10/site-packages (from python-slugify->kaggle>=1.3.9->tf-models-official~=2.13->tensorflow-privacy==0.8.12->tensorflow-federated) (1.3)\n",
      "Note: you may need to restart the kernel to use updated packages.\n"
     ]
    }
   ],
   "source": [
    "pip install tensorflow-federated"
   ]
  },
  {
   "cell_type": "code",
   "execution_count": 1,
   "metadata": {},
   "outputs": [
    {
     "name": "stdout",
     "output_type": "stream",
     "text": [
      "Requirement already satisfied: nest-asyncio in /home/codespace/.local/lib/python3.10/site-packages (1.6.0)\n",
      "Requirement already satisfied: pandas in /usr/local/python/3.10.13/lib/python3.10/site-packages (1.5.3)\n",
      "Requirement already satisfied: python-dateutil>=2.8.1 in /home/codespace/.local/lib/python3.10/site-packages (from pandas) (2.8.2)\n",
      "Requirement already satisfied: pytz>=2020.1 in /home/codespace/.local/lib/python3.10/site-packages (from pandas) (2024.1)\n",
      "Requirement already satisfied: numpy>=1.21.0 in /usr/local/python/3.10.13/lib/python3.10/site-packages (from pandas) (1.25.2)\n",
      "Requirement already satisfied: six>=1.5 in /home/codespace/.local/lib/python3.10/site-packages (from python-dateutil>=2.8.1->pandas) (1.16.0)\n",
      "Requirement already satisfied: matplotlib in /home/codespace/.local/lib/python3.10/site-packages (3.8.2)\n",
      "Requirement already satisfied: contourpy>=1.0.1 in /home/codespace/.local/lib/python3.10/site-packages (from matplotlib) (1.2.0)\n",
      "Requirement already satisfied: cycler>=0.10 in /home/codespace/.local/lib/python3.10/site-packages (from matplotlib) (0.12.1)\n",
      "Requirement already satisfied: fonttools>=4.22.0 in /home/codespace/.local/lib/python3.10/site-packages (from matplotlib) (4.48.1)\n",
      "Requirement already satisfied: kiwisolver>=1.3.1 in /home/codespace/.local/lib/python3.10/site-packages (from matplotlib) (1.4.5)\n",
      "Requirement already satisfied: numpy<2,>=1.21 in /usr/local/python/3.10.13/lib/python3.10/site-packages (from matplotlib) (1.25.2)\n",
      "Requirement already satisfied: packaging>=20.0 in /usr/local/python/3.10.13/lib/python3.10/site-packages (from matplotlib) (22.0)\n",
      "Requirement already satisfied: pillow>=8 in /home/codespace/.local/lib/python3.10/site-packages (from matplotlib) (10.2.0)\n",
      "Requirement already satisfied: pyparsing>=2.3.1 in /home/codespace/.local/lib/python3.10/site-packages (from matplotlib) (3.1.1)\n",
      "Requirement already satisfied: python-dateutil>=2.7 in /home/codespace/.local/lib/python3.10/site-packages (from matplotlib) (2.8.2)\n",
      "Requirement already satisfied: six>=1.5 in /home/codespace/.local/lib/python3.10/site-packages (from python-dateutil>=2.7->matplotlib) (1.16.0)\n"
     ]
    }
   ],
   "source": [
    "!pip install nest-asyncio\n",
    "!pip install pandas\n",
    "!pip install matplotlib"
   ]
  },
  {
   "cell_type": "code",
   "execution_count": 2,
   "metadata": {},
   "outputs": [
    {
     "name": "stderr",
     "output_type": "stream",
     "text": [
      "2024-02-28 12:09:10.362176: I tensorflow/tsl/cuda/cudart_stub.cc:28] Could not find cuda drivers on your machine, GPU will not be used.\n",
      "2024-02-28 12:09:10.574868: E tensorflow/compiler/xla/stream_executor/cuda/cuda_dnn.cc:9342] Unable to register cuDNN factory: Attempting to register factory for plugin cuDNN when one has already been registered\n",
      "2024-02-28 12:09:10.574917: E tensorflow/compiler/xla/stream_executor/cuda/cuda_fft.cc:609] Unable to register cuFFT factory: Attempting to register factory for plugin cuFFT when one has already been registered\n",
      "2024-02-28 12:09:10.574965: E tensorflow/compiler/xla/stream_executor/cuda/cuda_blas.cc:1518] Unable to register cuBLAS factory: Attempting to register factory for plugin cuBLAS when one has already been registered\n",
      "2024-02-28 12:09:10.615754: I tensorflow/tsl/cuda/cudart_stub.cc:28] Could not find cuda drivers on your machine, GPU will not be used.\n",
      "2024-02-28 12:09:10.616873: I tensorflow/core/platform/cpu_feature_guard.cc:182] This TensorFlow binary is optimized to use available CPU instructions in performance-critical operations.\n",
      "To enable the following instructions: AVX2 FMA, in other operations, rebuild TensorFlow with the appropriate compiler flags.\n",
      "2024-02-28 12:09:14.433679: W tensorflow/compiler/tf2tensorrt/utils/py_utils.cc:38] TF-TRT Warning: Could not find TensorRT\n"
     ]
    }
   ],
   "source": [
    "import collections\n",
    "import os\n",
    "import pandas as pd\n",
    "import tensorflow as tf\n",
    "import tensorflow_federated as tff\n",
    "import time\n",
    "from matplotlib import pyplot as plt\n",
    "import nest_asyncio\n",
    "import numpy as np\n",
    "nest_asyncio.apply()\n",
    "\n",
    "%matplotlib inline"
   ]
  },
  {
   "cell_type": "code",
   "execution_count": 3,
   "metadata": {},
   "outputs": [],
   "source": [
    "df_train = pd.read_csv('/workspaces/Network_Intrusion_Detection/KDDTrain+.txt')  # Replace with the actual path\n",
    "df_test = pd.read_csv('/workspaces/Network_Intrusion_Detection/KDDTest+.txt')  "
   ]
  },
  {
   "cell_type": "code",
   "execution_count": 4,
   "metadata": {},
   "outputs": [],
   "source": [
    "df_train.columns = ['duration', 'protocol_type', 'service', 'flag', 'src_bytes',\n",
    "'dst_bytes', 'land', 'wrong_fragment', 'urgent', 'hot',\n",
    "'num_failed_logins', 'logged_in', 'num_compromised', 'root_shell',\n",
    "'su_attempted', 'num_root', 'num_file_creations', 'num_shells',\n",
    "'num_access_files', 'num_outbound_cmds', 'is_host_login',\n",
    "'is_guest_login', 'count', 'srv_count', 'serror_rate',\n",
    "'srv_serror_rate', 'rerror_rate', 'srv_rerror_rate', 'same_srv_rate',\n",
    "'diff_srv_rate', 'srv_diff_host_rate', 'dst_host_count',\n",
    "'dst_host_srv_count', 'dst_host_same_srv_rate','dst_host_diff_srv_rate', 'dst_host_same_src_port_rate',\n",
    "'dst_host_srv_diff_host_rate', 'dst_host_serror_rate',\n",
    "'dst_host_srv_serror_rate', 'dst_host_rerror_rate',\n",
    "'dst_host_srv_rerror_rate', 'subclass', 'difficulty_level']\n",
    "\n",
    "df_test.columns = ['duration', 'protocol_type', 'service', 'flag', 'src_bytes',\n",
    "'dst_bytes', 'land', 'wrong_fragment', 'urgent', 'hot',\n",
    "'num_failed_logins', 'logged_in', 'num_compromised', 'root_shell',\n",
    "'su_attempted', 'num_root', 'num_file_creations', 'num_shells',\n",
    "'num_access_files', 'num_outbound_cmds', 'is_host_login',\n",
    "'is_guest_login', 'count', 'srv_count', 'serror_rate',\n",
    "'srv_serror_rate', 'rerror_rate', 'srv_rerror_rate', 'same_srv_rate',\n",
    "'diff_srv_rate', 'srv_diff_host_rate', 'dst_host_count',\n",
    "'dst_host_srv_count', 'dst_host_same_srv_rate','dst_host_diff_srv_rate', 'dst_host_same_src_port_rate',\n",
    "'dst_host_srv_diff_host_rate', 'dst_host_serror_rate',\n",
    "'dst_host_srv_serror_rate', 'dst_host_rerror_rate',\n",
    "'dst_host_srv_rerror_rate', 'subclass', 'difficulty_level']"
   ]
  },
  {
   "cell_type": "code",
   "execution_count": 5,
   "metadata": {},
   "outputs": [
    {
     "name": "stderr",
     "output_type": "stream",
     "text": [
      "/tmp/ipykernel_21665/1093709786.py:1: FutureWarning: In a future version of pandas all arguments of DataFrame.drop except for the argument 'labels' will be keyword-only.\n",
      "  df_train = df_train.drop('difficulty_level', 1)\n",
      "/tmp/ipykernel_21665/1093709786.py:2: FutureWarning: In a future version of pandas all arguments of DataFrame.drop except for the argument 'labels' will be keyword-only.\n",
      "  df_test = df_test.drop('difficulty_level', 1)\n"
     ]
    }
   ],
   "source": [
    "df_train = df_train.drop('difficulty_level', 1)\n",
    "df_test = df_test.drop('difficulty_level', 1)"
   ]
  },
  {
   "cell_type": "code",
   "execution_count": 6,
   "metadata": {},
   "outputs": [],
   "source": [
    "df_train['protocol_type'] = df_train['protocol_type'].str.lower()\n",
    "df_test['protocol_type'] = df_test['protocol_type'].str.lower()\n",
    "\n",
    "df_train['service'] = df_train['service'].str.lower()\n",
    "df_test['service'] = df_test['service'].str.lower()\n",
    "\n",
    "df_train['flag'] = df_train['flag'].str.lower()\n",
    "df_test['flag'] = df_test['flag'].str.lower()"
   ]
  },
  {
   "cell_type": "code",
   "execution_count": 7,
   "metadata": {},
   "outputs": [],
   "source": [
    "unique_labels_pro_train = list(df_train.protocol_type.astype('category').unique())\n",
    "unique_codes_pro_train = list(df_train.protocol_type.astype('category').cat.codes.unique())\n",
    "mapping_pro_train = {unique_codes_pro_train[i] : unique_labels_pro_train[i] for i in range(len(unique_labels_pro_train))}\n",
    "\n",
    "unique_labels_pro_test = list(df_test.protocol_type.astype('category').unique())\n",
    "unique_codes_pro_test = list(df_test.protocol_type.astype('category').cat.codes.unique())\n",
    "mapping_pro_test = {unique_codes_pro_test[i] : unique_labels_pro_test[i] for i in range(len(unique_labels_pro_test))}"
   ]
  },
  {
   "cell_type": "code",
   "execution_count": 8,
   "metadata": {},
   "outputs": [
    {
     "name": "stdout",
     "output_type": "stream",
     "text": [
      "{1: 'tcp', 0: 'icmp', 2: 'udp'}\n",
      "{2: 'udp', 1: 'tcp', 0: 'icmp'}\n"
     ]
    }
   ],
   "source": [
    "print(mapping_pro_test)\n",
    "print(mapping_pro_train)"
   ]
  },
  {
   "cell_type": "code",
   "execution_count": 9,
   "metadata": {},
   "outputs": [],
   "source": [
    "df_train['protocol_type'] = df_train['protocol_type'].replace(unique_labels_pro_train, unique_codes_pro_train)\n",
    "df_test['protocol_type'] = df_test['protocol_type'].replace(unique_labels_pro_test, unique_codes_pro_test)"
   ]
  },
  {
   "cell_type": "code",
   "execution_count": 10,
   "metadata": {},
   "outputs": [],
   "source": [
    "unique_labels_ser_train = list(df_train.service.astype('category').unique())\n",
    "unique_codes_ser_train = list(df_train.service.astype('category').cat.codes.unique())\n",
    "mapping_ser_train = {unique_codes_ser_train[i] : unique_labels_ser_train[i] for i in range(len(unique_labels_ser_train))}\n",
    "\n",
    "unique_labels_ser_test = list(df_test.service.astype('category').unique())\n",
    "unique_codes_ser_test = list(df_test.service.astype('category').cat.codes.unique())\n",
    "mapping_ser_test = {unique_codes_ser_test[i] : unique_labels_ser_test[i] for i in range(len(unique_labels_ser_test))}"
   ]
  },
  {
   "cell_type": "code",
   "execution_count": 11,
   "metadata": {},
   "outputs": [
    {
     "name": "stdout",
     "output_type": "stream",
     "text": [
      "{43: 'private', 16: 'ftp_data', 10: 'eco_i', 53: 'telnet', 19: 'http', 47: 'smtp', 15: 'ftp', 26: 'ldap', 41: 'pop_3', 2: 'courier', 6: 'discard', 11: 'ecr_i', 21: 'imap4', 8: 'domain_u', 29: 'mtp', 52: 'systat', 23: 'iso_tsap', 38: 'other', 3: 'csnet_ns', 14: 'finger', 58: 'uucp', 61: 'whois', 32: 'netbios_ns', 27: 'link', 63: 'z39_50', 50: 'sunrpc', 0: 'auth', 31: 'netbios_dgm', 59: 'uucp_path', 60: 'vmnet', 7: 'domain', 30: 'name', 40: 'pop_2', 20: 'http_443', 57: 'urp_i', 28: 'login', 17: 'gopher', 13: 'exec', 56: 'time', 44: 'remote_job', 49: 'ssh', 25: 'kshell', 48: 'sql_net', 46: 'shell', 18: 'hostnames', 9: 'echo', 5: 'daytime', 39: 'pm_dump', 22: 'irc', 34: 'netstat', 4: 'ctf', 36: 'nntp', 33: 'netbios_ssn', 55: 'tim_i', 51: 'supdup', 1: 'bgp', 35: 'nnsp', 45: 'rje', 42: 'printer', 12: 'efs', 62: 'x11', 37: 'ntp_u', 24: 'klogin', 54: 'tftp_u'}\n",
      "{42: 'other', 47: 'private', 21: 'http', 49: 'remote_job', 17: 'ftp_data', 34: 'name', 36: 'netbios_ns', 11: 'eco_i', 33: 'mtp', 58: 'telnet', 15: 'finger', 9: 'domain_u', 56: 'supdup', 65: 'uucp_path', 69: 'z39_50', 52: 'smtp', 4: 'csnet_ns', 64: 'uucp', 35: 'netbios_dgm', 63: 'urp_i', 1: 'auth', 8: 'domain', 16: 'ftp', 2: 'bgp', 30: 'ldap', 12: 'ecr_i', 18: 'gopher', 66: 'vmnet', 57: 'systat', 23: 'http_443', 13: 'efs', 67: 'whois', 25: 'imap4', 27: 'iso_tsap', 10: 'echo', 28: 'klogin', 31: 'link', 55: 'sunrpc', 32: 'login', 29: 'kshell', 53: 'sql_net', 61: 'time', 20: 'hostnames', 14: 'exec', 41: 'ntp_u', 7: 'discard', 40: 'nntp', 3: 'courier', 5: 'ctf', 54: 'ssh', 6: 'daytime', 51: 'shell', 38: 'netstat', 45: 'pop_3', 39: 'nnsp', 26: 'irc', 44: 'pop_2', 46: 'printer', 60: 'tim_i', 43: 'pm_dump', 48: 'red_i', 37: 'netbios_ssn', 50: 'rje', 68: 'x11', 62: 'urh_i', 24: 'http_8001', 0: 'aol', 22: 'http_2784', 59: 'tftp_u', 19: 'harvest'}\n"
     ]
    }
   ],
   "source": [
    "print(mapping_ser_test)\n",
    "print(mapping_ser_train)"
   ]
  },
  {
   "cell_type": "code",
   "execution_count": 12,
   "metadata": {},
   "outputs": [],
   "source": [
    "df_train['service'] = df_train['service'].replace(unique_labels_ser_train, unique_codes_ser_train)\n",
    "df_test['service'] = df_test['service'].replace(unique_labels_ser_test, unique_codes_ser_test)"
   ]
  },
  {
   "cell_type": "code",
   "execution_count": 13,
   "metadata": {},
   "outputs": [],
   "source": [
    "unique_labels_flag_train = list(df_train.flag.astype('category').unique())\n",
    "unique_codes_flag_train = list(df_train.flag.astype('category').cat.codes.unique())\n",
    "mapping_flag_train = {unique_codes_flag_train[i] : unique_labels_flag_train[i] for i in range(len(unique_labels_flag_train))}\n",
    "\n",
    "unique_labels_flag_test = list(df_test.flag.astype('category').unique())\n",
    "unique_codes_flag_test = list(df_test.flag.astype('category').cat.codes.unique())\n",
    "mapping_flag_test = {unique_codes_flag_test[i] : unique_labels_flag_test[i] for i in range(len(unique_labels_flag_test))}"
   ]
  },
  {
   "cell_type": "code",
   "execution_count": 14,
   "metadata": {},
   "outputs": [],
   "source": [
    "df_train['flag'] = df_train['flag'].replace(unique_labels_flag_train, unique_codes_flag_train)\n",
    "df_test['flag'] = df_test['flag'].replace(unique_labels_flag_test, unique_codes_flag_test)"
   ]
  },
  {
   "cell_type": "code",
   "execution_count": 15,
   "metadata": {},
   "outputs": [],
   "source": [
    "\n",
    "df_train['subclass'] = df_train['subclass'].str.lower()\n",
    "df_test['subclass'] = df_test['subclass'].str.lower()"
   ]
  },
  {
   "cell_type": "code",
   "execution_count": 16,
   "metadata": {},
   "outputs": [],
   "source": [
    "\n",
    "tmp = df_train.pop('subclass')\n",
    "tmp1 = df_test.pop('subclass')"
   ]
  },
  {
   "cell_type": "code",
   "execution_count": 17,
   "metadata": {},
   "outputs": [],
   "source": [
    "classlist=[]\n",
    "classlist_test=[]\n",
    "NormalCount = 0\n",
    "AttackCount = 0\n",
    "NormalCount_test = 0\n",
    "AttackCount_test = 0\n",
    "\n",
    "for item in tmp:\n",
    "    if(item == \"normal\"):\n",
    "        classlist.append(\"normal\")\n",
    "        NormalCount+=1\n",
    "    else:\n",
    "        classlist.append(\"attack\")\n",
    "        AttackCount+=1\n",
    "\n",
    "for item in tmp1:\n",
    "    if(item == \"normal\"):\n",
    "        classlist_test.append(\"normal\")\n",
    "        NormalCount_test+=1\n",
    "    else:\n",
    "        classlist_test.append(\"attack\")\n",
    "        AttackCount_test+=1"
   ]
  },
  {
   "cell_type": "code",
   "execution_count": 18,
   "metadata": {},
   "outputs": [],
   "source": [
    "df_train[\"subclass\"] =classlist\n",
    "df_test[\"subclass\"] = classlist_test"
   ]
  },
  {
   "cell_type": "code",
   "execution_count": 19,
   "metadata": {},
   "outputs": [],
   "source": [
    "unique_labels = list(df_train.subclass.astype('category').unique())\n",
    "unique_codes = list(df_train.subclass.astype('category').cat.codes.unique())\n",
    "mapping = {unique_codes[i] : unique_labels[i] for i in range(len(unique_labels))}\n",
    "\n",
    "unique_labels_test = list(df_test.subclass.astype('category').unique())\n",
    "unique_codes_test = list(df_test.subclass.astype('category').cat.codes.unique())\n",
    "mapping_test = {unique_codes_test[i] : unique_labels_test[i] for i in range(len(unique_labels_test))}"
   ]
  },
  {
   "cell_type": "code",
   "execution_count": 20,
   "metadata": {},
   "outputs": [],
   "source": [
    "df_train['subclass'] = df_train['subclass'].replace(unique_labels, unique_codes)\n",
    "df_test['subclass'] = df_test['subclass'].replace(unique_labels_test, unique_codes_test)"
   ]
  },
  {
   "cell_type": "code",
   "execution_count": 21,
   "metadata": {},
   "outputs": [],
   "source": [
    "\n",
    "train = df_train\n",
    "test = df_test"
   ]
  },
  {
   "cell_type": "code",
   "execution_count": 22,
   "metadata": {},
   "outputs": [
    {
     "name": "stdout",
     "output_type": "stream",
     "text": [
      "df train[0] size  125972\n",
      "62986 31493.0\n",
      "df-test size 22543\n"
     ]
    }
   ],
   "source": [
    "n_workers=2\n",
    "n_samples = int(df_train.shape[0] / n_workers)\n",
    "print(\"df train[0] size \",df_train.shape[0])\n",
    "print(n_samples,n_samples/n_workers)\n",
    "n_samples_test = int(df_test.shape[0]/n_workers)\n",
    "print(\"df-test size\",df_test.shape[0])\n",
    "assert n_samples > 0, \"Each worker must be assigned at least one data point\""
   ]
  },
  {
   "cell_type": "code",
   "execution_count": 23,
   "metadata": {},
   "outputs": [
    {
     "name": "stdout",
     "output_type": "stream",
     "text": [
      "2  output_shape\n",
      "shuffle_buffer_size  125972\n",
      "batch_size  250\n",
      "prefetch_buffer_size  50\n",
      "input_shape  41\n",
      "22543 shuffle_buffer_size_test\n",
      "41 input_shape_test\n",
      "2 output_shape_test\n"
     ]
    }
   ],
   "source": [
    "import numpy as np\n",
    "n_epochs = 10\n",
    "shuffle_buffer_size = df_train.shape[0]\n",
    "batch_size = 250\n",
    "prefetch_buffer_size = 50\n",
    "input_shape = df_train.shape[1]-1\n",
    "output_shape = len(unique_codes)\n",
    "print(output_shape , \" output_shape\")\n",
    "print(\"shuffle_buffer_size \", shuffle_buffer_size)\n",
    "print(\"batch_size \",batch_size)\n",
    "print(\"prefetch_buffer_size \", prefetch_buffer_size)\n",
    "print(\"input_shape \", input_shape)\n",
    "\n",
    "shuffle_buffer_size_test = df_test.shape[0]\n",
    "print(shuffle_buffer_size_test, \"shuffle_buffer_size_test\")\n",
    "batch_size_test = 250\n",
    "prefetch_buffer_size_test = 50\n",
    "input_shape_test = df_test.shape[1]-1\n",
    "print(input_shape_test,\"input_shape_test\")\n",
    "output_shape_test = len(unique_codes_test)\n",
    "print(output_shape_test,\"output_shape_test\")"
   ]
  },
  {
   "cell_type": "code",
   "execution_count": 24,
   "metadata": {},
   "outputs": [],
   "source": [
    "def preprocess(dataframe):\n",
    "\n",
    "    \"\"\"Flatten a batch `pixels` and return the features as an `OrderedDict`.\"\"\"\n",
    "    def map_fn(dataset):\n",
    "        return collections.OrderedDict(\n",
    "            x=tf.cast(dataset[:,:-1], tf.float64),\n",
    "            y=tf.cast(tf.reshape(dataset[:,-1], shape=(-1, 1)), tf.int64)\n",
    "        )\n",
    "\n",
    "    return tf.data.Dataset.from_tensor_slices(dataframe).repeat(n_epochs).shuffle(\n",
    "        shuffle_buffer_size).batch(batch_size).map(map_fn).prefetch(prefetch_buffer_size)\n",
    "\n",
    "\n",
    "client_data = [preprocess(train.sample(n=n_samples)) for _ in range(n_workers)]"
   ]
  },
  {
   "cell_type": "code",
   "execution_count": 25,
   "metadata": {},
   "outputs": [],
   "source": [
    "def preprocess_test(dataframe):\n",
    "\n",
    "    \"\"\"Flatten a batch `pixels` and return the features as an `OrderedDict`.\"\"\"\n",
    "    def map_fn(dataset):\n",
    "        return collections.OrderedDict(\n",
    "            x=tf.cast(dataset[:,:-1], tf.float64),\n",
    "            y=tf.cast(tf.reshape(dataset[:,-1], shape=(-1, 1)), tf.int64)\n",
    "        )\n",
    "\n",
    "    return tf.data.Dataset.from_tensor_slices(dataframe).repeat(n_epochs).shuffle(\n",
    "        shuffle_buffer_size_test).batch(batch_size_test).map(map_fn).prefetch(prefetch_buffer_size_test)\n",
    "\n",
    "\n",
    "client_data_test = [preprocess(test.sample(n=n_samples_test)) for _ in range(n_workers)]"
   ]
  },
  {
   "cell_type": "code",
   "execution_count": 26,
   "metadata": {},
   "outputs": [
    {
     "name": "stdout",
     "output_type": "stream",
     "text": [
      "Worker 1 data contains 2520 training points\n",
      "Worker 2 data contains 2520 training points\n"
     ]
    }
   ],
   "source": [
    "for i in range(n_workers):\n",
    "    print(f\"Worker {i+1} data contains {len(client_data[i])} training points\")"
   ]
  },
  {
   "cell_type": "code",
   "execution_count": 27,
   "metadata": {},
   "outputs": [
    {
     "name": "stdout",
     "output_type": "stream",
     "text": [
      "Worker 1 data contains 451 testing points\n",
      "Worker 2 data contains 451 testing points\n"
     ]
    }
   ],
   "source": [
    "for i in range(n_workers):\n",
    "    print(f\"Worker {i+1} data contains {len(client_data_test[i])} testing points\")"
   ]
  },
  {
   "cell_type": "code",
   "execution_count": 28,
   "metadata": {},
   "outputs": [
    {
     "data": {
      "image/png": "[encoded data removed]",
      "text/plain": [
       "<Figure size 2000x700 with 2 Axes>"
      ]
     },
     "metadata": {},
     "output_type": "display_data"
    }
   ],
   "source": [
    "import matplotlib.pyplot as plt\n",
    "\n",
    "fig = plt.figure(figsize=(20, 7))\n",
    "fig.suptitle('Label Counts for a Sample of Worker Data')\n",
    "fig.tight_layout()\n",
    "\n",
    "for i in range(n_workers):\n",
    "    m = 0\n",
    "    plot_data = collections.defaultdict(list)\n",
    "    for label in list(client_data[i])[0]['y'].numpy()[:,0]:\n",
    "        plot_data[label].append(label)\n",
    "        m = max(m, len(plot_data[label]))\n",
    "\n",
    "    n_cols = n_workers if n_workers < 5 else 5\n",
    "    xlim = [0, m+(5-m%5)]\n",
    "    ylim = [min(unique_codes)-1, max(unique_codes)+1]\n",
    "    yticks = list(range(min(unique_codes), max(unique_codes)+1))\n",
    "    yticks_labels = [mapping[k] for k in range(0, max(unique_codes)+1)]\n",
    "\n",
    "    plt.subplot(int(n_workers / 5)+1, n_cols, i+1)\n",
    "    plt.subplots_adjust(wspace=0.3)\n",
    "    plt.title('Worker {}'.format(i+1))\n",
    "    plt.xlabel('#points')\n",
    "    plt.xlim(xlim)\n",
    "    plt.ylabel('Label')\n",
    "    plt.ylim(ylim)\n",
    "    plt.yticks(yticks, labels=yticks_labels)\n",
    "\n",
    "   \n",
    "    for key in plot_data:\n",
    "        if len(plot_data[key]) > 0:\n",
    "            plt.text(len(plot_data[key])+0.6, int(key)-0.1, str(len(plot_data[key])), ha='center')\n",
    "\n",
    "    for j in range(min(unique_codes),max(unique_codes)+1):\n",
    "        plt.hist(\n",
    "            plot_data[j],\n",
    "            density=False,\n",
    "            bins=[k-0.5 for k in range(min(unique_codes),max(unique_codes)+2)],\n",
    "            orientation='horizontal'\n",
    "        )"
   ]
  },
  {
   "cell_type": "code",
   "execution_count": 29,
   "metadata": {},
   "outputs": [],
   "source": [
    "\n",
    "from keras.models import Sequential\n",
    "from keras.layers import Dense, Dropout, Activation, Embedding\n",
    "from keras.layers import LSTM, SimpleRNN, GRU, Bidirectional, BatchNormalization,Convolution1D,MaxPooling1D, Reshape, GlobalAveragePooling1D,Dense,GroupNormalization\n",
    "from tensorflow.keras.metrics import BinaryAccuracy, Precision, Recall"
   ]
  },
  {
   "cell_type": "code",
   "execution_count": 45,
   "metadata": {},
   "outputs": [],
   "source": [
    "def model_fn():\n",
    "    model = tf.keras.models.Sequential([\n",
    "        tf.keras.layers.InputLayer(input_shape=input_shape),\n",
    "        tf.keras.layers.Reshape((1, -1)),  # Reshape input to have shape (batch_size, 1, input_dim)\n",
    "        tf.keras.layers.Bidirectional(tf.keras.layers.LSTM(32, activation='relu')),\n",
    "        tf.keras.layers.Dense(64, activation='relu'),\n",
    "        tf.keras.layers.Dense(32, activation='relu'),\n",
    "        tf.keras.layers.Dense(1, activation='sigmoid'),\n",
    "    ])\n",
    "    return tff.learning.models.from_keras_model(\n",
    "        model,\n",
    "        input_spec=collections.OrderedDict(\n",
    "            x=tf.TensorSpec(shape=[None, input_shape], dtype=tf.float64),\n",
    "            y=tf.TensorSpec(shape=[None, 1], dtype=tf.int64)),\n",
    "        loss=tf.keras.losses.BinaryCrossentropy(),\n",
    "        metrics=[BinaryAccuracy(), Precision(), Recall()])"
   ]
  },
  {
   "cell_type": "code",
   "execution_count": 46,
   "metadata": {},
   "outputs": [],
   "source": [
    "trainer = tff.learning.algorithms.build_weighted_fed_avg(\n",
    "    model_fn,\n",
    "    client_optimizer_fn=lambda: tf.keras.optimizers.SGD(learning_rate=0.01),\n",
    "    server_optimizer_fn=lambda: tf.keras.optimizers.SGD(learning_rate=1.0)\n",
    ")"
   ]
  },
  {
   "cell_type": "code",
   "execution_count": 47,
   "metadata": {},
   "outputs": [
    {
     "name": "stdout",
     "output_type": "stream",
     "text": [
      "( -> <\n",
      "  global_model_weights=<\n",
      "    trainable=<\n",
      "      float32[41,128],\n",
      "      float32[32,128],\n",
      "      float32[128],\n",
      "      float32[41,128],\n",
      "      float32[32,128],\n",
      "      float32[128],\n",
      "      float32[64,64],\n",
      "      float32[64],\n",
      "      float32[64,32],\n",
      "      float32[32],\n",
      "      float32[32,1],\n",
      "      float32[1]\n",
      "    >,\n",
      "    non_trainable=<>\n",
      "  >,\n",
      "  distributor=<>,\n",
      "  client_work=<>,\n",
      "  aggregator=<\n",
      "    value_sum_process=<>,\n",
      "    weight_sum_process=<>\n",
      "  >,\n",
      "  finalizer=<\n",
      "    int64,\n",
      "    float32[41,128],\n",
      "    float32[32,128],\n",
      "    float32[128],\n",
      "    float32[41,128],\n",
      "    float32[32,128],\n",
      "    float32[128],\n",
      "    float32[64,64],\n",
      "    float32[64],\n",
      "    float32[64,32],\n",
      "    float32[32],\n",
      "    float32[32,1],\n",
      "    float32[1]\n",
      "  >\n",
      ">@SERVER)\n"
     ]
    }
   ],
   "source": [
    "print(trainer.initialize.type_signature.formatted_representation())"
   ]
  },
  {
   "cell_type": "code",
   "execution_count": 49,
   "metadata": {},
   "outputs": [],
   "source": [
    "def evaluate(num_rounds):\n",
    "    state = trainer.initialize()\n",
    "    for round in range(num_rounds):\n",
    "        t1 = time.time()\n",
    "        result = trainer.next(state, client_data)\n",
    "        state = result.state\n",
    "        train_metrics = result.metrics['client_work']['train']\n",
    "        # print(train_metrics)\n",
    "\n",
    "       \n",
    "        train_accuracy = train_metrics['binary_accuracy'] * 100\n",
    "        train_precision = train_metrics['precision'] * 100\n",
    "        train_recall = train_metrics['recall']*100\n",
    "        \n",
    "\n",
    "        t2 = time.time()\n",
    "        print('Round {}: accuracy {}, Precision {}, Recall {},round time {}'.format(\n",
    "            round+1, train_accuracy, train_precision,train_recall, t2 - t1))"
   ]
  },
  {
   "cell_type": "code",
   "execution_count": 51,
   "metadata": {},
   "outputs": [
    {
     "name": "stdout",
     "output_type": "stream",
     "text": [
      "Round 1: accuracy 95.40922045707703, Precision 94.13608312606812, Recall 97.49763011932373,round time 12.658672094345093\n",
      "Round 2: accuracy 96.19526267051697, Precision 94.60863471031189, Recall 98.50614070892334,round time 12.042518138885498\n",
      "Round 3: accuracy 96.2733805179596, Precision 94.49379444122314, Recall 98.79544973373413,round time 12.06248164176941\n",
      "Round 4: accuracy 96.5674102306366, Precision 94.6119487285614, Recall 99.23942685127258,round time 11.978379249572754\n",
      "Round 5: accuracy 96.49080634117126, Precision 94.43587064743042, Recall 99.29518103599548,round time 11.921167850494385\n",
      "Round 6: accuracy 96.53391242027283, Precision 94.4172203540802, Recall 99.4028389453888,round time 12.795003175735474\n",
      "Round 7: accuracy 96.88684940338135, Precision 94.87292170524597, Recall 99.56521987915039,round time 12.255493640899658\n",
      "Round 8: accuracy 96.97210788726807, Precision 94.9794352054596, Recall 99.60911273956299,round time 12.197631597518921\n",
      "Round 9: accuracy 96.98607921600342, Precision 95.02179622650146, Recall 99.58731532096863,round time 12.044714450836182\n",
      "Round 10: accuracy 96.37943506240845, Precision 94.17986273765564, Recall 99.3780791759491,round time 12.079545259475708\n",
      "Round 11: accuracy 95.21600008010864, Precision 92.24526882171631, Recall 99.42137598991394,round time 11.853110074996948\n",
      "Round 12: accuracy 95.76548933982849, Precision 93.05794835090637, Recall 99.51346516609192,round time 11.925288915634155\n",
      "Round 13: accuracy 96.89756631851196, Precision 94.91247534751892, Recall 99.54015612602234,round time 12.043757915496826\n",
      "Round 14: accuracy 97.02029228210449, Precision 95.3004002571106, Recall 99.33225512504578,round time 11.984859228134155\n",
      "Round 15: accuracy 96.87390923500061, Precision 94.95713710784912, Recall 99.441397190094,round time 11.917390584945679\n",
      "Round 16: accuracy 96.31902575492859, Precision 93.99451613426208, Recall 99.47980046272278,round time 12.179497480392456\n",
      "Round 17: accuracy 96.6421902179718, Precision 94.71052289009094, Recall 99.27175641059875,round time 11.926579713821411\n",
      "Round 18: accuracy 96.84596657752991, Precision 95.02236247062683, Recall 99.31045770645142,round time 11.888463497161865\n",
      "Round 19: accuracy 96.98060154914856, Precision 95.22661566734314, Recall 99.33922290802002,round time 12.033626556396484\n",
      "Round 20: accuracy 96.6783881187439, Precision 94.7925865650177, Recall 99.24728870391846,round time 12.392449617385864\n",
      "Round 21: accuracy 95.57996988296509, Precision 92.90667772293091, Recall 99.32677149772644,round time 12.29805302619934\n",
      "Round 22: accuracy 95.54964303970337, Precision 92.95310974121094, Recall 99.20769333839417,round time 11.91185450553894\n",
      "Round 23: accuracy 95.51162123680115, Precision 92.70215034484863, Recall 99.44421648979187,round time 11.908246994018555\n",
      "Round 24: accuracy 95.50066590309143, Precision 92.64839887619019, Recall 99.4895875453949,round time 12.127442598342896\n",
      "Round 25: accuracy 95.76707482337952, Precision 93.08382868766785, Recall 99.48455095291138,round time 12.395766735076904\n",
      "Round 26: accuracy 95.65339684486389, Precision 92.86885261535645, Recall 99.52251315116882,round time 11.679022073745728\n",
      "Round 27: accuracy 95.84812521934509, Precision 93.2371437549591, Recall 99.4583010673523,round time 11.915006399154663\n",
      "Round 28: accuracy 95.69142460823059, Precision 92.85686612129211, Recall 99.61444735527039,round time 11.897242307662964\n",
      "Round 29: accuracy 95.61616778373718, Precision 92.73251295089722, Recall 99.61800575256348,round time 12.008001327514648\n",
      "Round 30: accuracy 95.84455490112305, Precision 93.16854476928711, Recall 99.53585863113403,round time 12.19089388847351\n",
      "Round 31: accuracy 95.85971236228943, Precision 93.13336610794067, Recall 99.61000084877014,round time 11.774019241333008\n",
      "Round 32: accuracy 95.8292305469513, Precision 93.05683970451355, Recall 99.64351654052734,round time 12.037371158599854\n",
      "Round 33: accuracy 95.79557180404663, Precision 93.06660890579224, Recall 99.5634377002716,round time 11.956679105758667\n",
      "Round 34: accuracy 95.68904042243958, Precision 92.78878569602966, Recall 99.69496726989746,round time 12.006340503692627\n",
      "Round 35: accuracy 95.60084939002991, Precision 92.61231422424316, Recall 99.73841905593872,round time 12.106779336929321\n",
      "Round 36: accuracy 95.72436809539795, Precision 92.83007383346558, Recall 99.71469044685364,round time 12.231042385101318\n",
      "Round 37: accuracy 95.74484825134277, Precision 92.93739199638367, Recall 99.62186217308044,round time 12.110559225082397\n",
      "Round 38: accuracy 96.05960249900818, Precision 93.52529048919678, Recall 99.529629945755,round time 11.951695919036865\n",
      "Round 39: accuracy 95.94298601150513, Precision 93.47122311592102, Recall 99.36161637306213,round time 12.085480690002441\n",
      "Round 40: accuracy 95.93552350997925, Precision 93.26513409614563, Recall 99.5997667312622,round time 12.501652956008911\n",
      "Round 41: accuracy 95.72499990463257, Precision 92.82731413841248, Recall 99.71943497657776,round time 12.283413410186768\n",
      "Round 42: accuracy 95.51154375076294, Precision 92.43814945220947, Recall 99.77771639823914,round time 12.01151728630066\n",
      "Round 43: accuracy 95.61521410942078, Precision 92.59890913963318, Recall 99.78453516960144,round time 12.094969272613525\n",
      "Round 44: accuracy 95.62649130821228, Precision 92.61442422866821, Recall 99.78780150413513,round time 12.059031248092651\n",
      "Round 45: accuracy 95.76365947723389, Precision 92.83733367919922, Recall 99.7851312160492,round time 12.441859245300293\n",
      "Round 46: accuracy 96.23027443885803, Precision 93.68336200714111, Recall 99.67895746231079,round time 12.113548755645752\n",
      "Round 47: accuracy 96.60948514938354, Precision 94.54210996627808, Recall 99.4050681591034,round time 12.17008638381958\n",
      "Round 48: accuracy 96.0613489151001, Precision 93.50730180740356, Recall 99.5551347732544,round time 12.138253450393677\n",
      "Round 49: accuracy 95.93060612678528, Precision 93.09328198432922, Recall 99.80277419090271,round time 12.152872085571289\n",
      "Round 50: accuracy 95.79684138298035, Precision 92.88143515586853, Recall 99.7969925403595,round time 12.298935413360596\n",
      "Round 51: accuracy 95.77556848526001, Precision 92.82629489898682, Recall 99.82309341430664,round time 12.049960851669312\n",
      "Round 52: accuracy 95.86082696914673, Precision 92.97239780426025, Recall 99.81256127357483,round time 12.21580982208252\n",
      "Round 53: accuracy 97.17183113098145, Precision 95.19233107566833, Recall 99.75502490997314,round time 12.2258882522583\n",
      "Round 54: accuracy 97.12793231010437, Precision 95.10616064071655, Recall 99.76866841316223,round time 12.388187408447266\n",
      "Round 55: accuracy 97.25518226623535, Precision 95.3980565071106, Recall 99.68118071556091,round time 12.54923939704895\n",
      "Round 56: accuracy 97.33504056930542, Precision 95.72407007217407, Recall 99.4648277759552,round time 12.133807897567749\n",
      "Round 57: accuracy 97.27709293365479, Precision 95.50585746765137, Recall 99.60036277770996,round time 11.88420557975769\n",
      "Round 58: accuracy 97.20207452774048, Precision 95.28329968452454, Recall 99.7092068195343,round time 12.6065354347229\n",
      "Round 59: accuracy 97.15984463691711, Precision 95.28089761734009, Recall 99.62897896766663,round time 12.264595746994019\n",
      "Round 60: accuracy 97.51952886581421, Precision 95.82828879356384, Recall 99.70698356628418,round time 12.192121028900146\n",
      "Round 61: accuracy 97.39180207252502, Precision 95.58467268943787, Recall 99.73486065864563,round time 12.207534551620483\n",
      "Round 62: accuracy 97.15984463691711, Precision 95.4730749130249, Recall 99.40803050994873,round time 12.041269540786743\n",
      "Round 63: accuracy 97.48920202255249, Precision 96.07991576194763, Recall 99.36383962631226,round time 12.169445514678955\n",
      "Round 64: accuracy 97.2331166267395, Precision 95.72942852973938, Recall 99.25944805145264,round time 12.530745506286621\n",
      "Round 65: accuracy 97.23510146141052, Precision 95.72486877441406, Recall 99.26849007606506,round time 12.41559910774231\n",
      "Round 66: accuracy 97.28273153305054, Precision 96.04986906051636, Recall 98.99534583091736,round time 12.269466876983643\n",
      "Round 67: accuracy 97.35623598098755, Precision 96.05697393417358, Recall 99.13058280944824,round time 12.15600323677063\n",
      "Round 68: accuracy 97.39561080932617, Precision 96.08162045478821, Recall 99.17966723442078,round time 12.747499227523804\n",
      "Round 69: accuracy 97.4079966545105, Precision 96.0724413394928, Recall 99.21407103538513,round time 12.32353925704956\n",
      "Round 70: accuracy 97.40545749664307, Precision 96.03193998336792, Recall 99.25455451011658,round time 12.1361825466156\n",
      "Round 71: accuracy 97.25550413131714, Precision 95.83441615104675, Recall 99.1844117641449,round time 12.428383588790894\n",
      "Round 72: accuracy 97.21207618713379, Precision 95.51551938056946, Recall 99.46185946464539,round time 12.522996425628662\n",
      "Round 73: accuracy 96.98853492736816, Precision 95.2103316783905, Recall 99.37362670898438,round time 12.597280740737915\n",
      "Round 74: accuracy 96.98861837387085, Precision 95.08376717567444, Recall 99.52028393745422,round time 12.068415880203247\n",
      "Round 75: accuracy 96.84929847717285, Precision 94.96269226074219, Recall 99.38638210296631,round time 12.253601551055908\n"
     ]
    }
   ],
   "source": [
    "evaluate(75)"
   ]
  },
  {
   "cell_type": "code",
   "execution_count": 52,
   "metadata": {},
   "outputs": [],
   "source": [
    "def evaluate_test(num_rounds):\n",
    "    state = trainer.initialize()\n",
    "    for round in range(num_rounds):\n",
    "        t1 = time.time()\n",
    "        result = trainer.next(state, client_data_test)\n",
    "        state = result.state\n",
    "        # print(result.metrics)\n",
    "        test_metrics = result.metrics['client_work']['train']\n",
    "        # print(train_metrics)\n",
    "\n",
    "        \n",
    "        test_accuracy = test_metrics['binary_accuracy'] * 100\n",
    "        test_precision = test_metrics['precision'] * 100\n",
    "        test_recall = test_metrics['recall']*100\n",
    "        \n",
    "\n",
    "        t2 = time.time()\n",
    "        print('Round {} : accuracy {}, Precision {}, Recall {}, round time {}'.format(\n",
    "            round+1, test_accuracy, test_precision,test_recall, t2 - t1))"
   ]
  },
  {
   "cell_type": "code",
   "execution_count": 54,
   "metadata": {},
   "outputs": [
    {
     "name": "stdout",
     "output_type": "stream",
     "text": [
      "Round 1 : accuracy 85.69293022155762, Precision 83.24676156044006, Recall 83.74499678611755, round time 2.311980962753296\n",
      "Round 2 : accuracy 90.13264179229736, Precision 93.57860684394836, Recall 82.85083770751953, round time 2.397409200668335\n",
      "Round 3 : accuracy 90.59622287750244, Precision 94.80212330818176, Recall 82.77692198753357, round time 2.4013540744781494\n",
      "Round 4 : accuracy 90.71378111839294, Precision 95.89959979057312, Recall 82.01724886894226, round time 2.436478853225708\n",
      "Round 5 : accuracy 91.20663404464722, Precision 96.1734414100647, Recall 82.95144438743591, round time 2.3440606594085693\n",
      "Round 6 : accuracy 91.63250923156738, Precision 95.45812010765076, Recall 84.66482162475586, round time 2.4562864303588867\n",
      "Round 7 : accuracy 91.04250073432922, Precision 97.3439633846283, Recall 81.49471282958984, round time 2.5596601963043213\n",
      "Round 8 : accuracy 90.96708297729492, Precision 96.7739999294281, Recall 81.82424902915955, round time 2.291300058364868\n",
      "Round 9 : accuracy 91.13388061523438, Precision 97.65140414237976, Recall 81.441330909729, round time 2.3672990798950195\n",
      "Round 10 : accuracy 91.14275574684143, Precision 97.57937788963318, Recall 81.52551054954529, round time 2.3408026695251465\n",
      "Round 11 : accuracy 92.09608435630798, Precision 97.89853692054749, Recall 83.50169658660889, round time 2.484450578689575\n",
      "Round 12 : accuracy 92.19812154769897, Precision 97.67316579818726, Recall 83.9451789855957, round time 2.4460132122039795\n",
      "Round 13 : accuracy 92.11605191230774, Precision 97.79503345489502, Recall 83.64130854606628, round time 2.327683210372925\n",
      "Round 14 : accuracy 92.65815019607544, Precision 97.79411554336548, Recall 84.92557406425476, round time 2.427938938140869\n",
      "Round 15 : accuracy 92.54325032234192, Precision 97.81909584999084, Recall 84.63094234466553, round time 2.2985033988952637\n",
      "Round 16 : accuracy 92.3458456993103, Precision 97.84747362136841, Recall 84.13817882537842, round time 2.5176541805267334\n",
      "Round 17 : accuracy 92.51840710639954, Precision 97.95658588409424, Recall 84.44820642471313, round time 2.524841785430908\n",
      "Round 18 : accuracy 92.85112023353577, Precision 97.79191017150879, Recall 85.38445830345154, round time 2.299346446990967\n",
      "Round 19 : accuracy 92.85556077957153, Precision 97.61862754821777, Recall 85.55384278297424, round time 2.501378059387207\n",
      "Round 20 : accuracy 92.45497584342957, Precision 97.58866429328918, Recall 84.63094234466553, round time 2.514458656311035\n",
      "Round 21 : accuracy 92.28018522262573, Precision 97.76368737220764, Recall 84.05810594558716, round time 2.374523639678955\n",
      "Round 22 : accuracy 92.92254447937012, Precision 97.74453639984131, Recall 85.59696078300476, round time 2.266266107559204\n",
      "Round 23 : accuracy 92.94605851173401, Precision 97.8064239025116, Recall 85.59593558311462, round time 2.4223721027374268\n",
      "Round 24 : accuracy 92.99219250679016, Precision 97.70290851593018, Recall 85.8002245426178, round time 2.356585741043091\n",
      "Round 25 : accuracy 93.17229986190796, Precision 97.78715372085571, Recall 86.14926338195801, round time 2.411407709121704\n",
      "Round 26 : accuracy 92.9988443851471, Precision 97.76248931884766, Recall 85.7612133026123, round time 2.2830264568328857\n",
      "Round 27 : accuracy 92.92298555374146, Precision 97.76695966720581, Recall 85.57745814323425, round time 2.351386547088623\n",
      "Round 28 : accuracy 92.93274879455566, Precision 98.02883863449097, Recall 85.36187410354614, round time 2.347729444503784\n",
      "Round 29 : accuracy 92.63153076171875, Precision 97.84349203109741, Recall 84.81777906417847, round time 2.403587818145752\n",
      "Round 30 : accuracy 92.69142150878906, Precision 97.99560904502869, Recall 84.82188582420349, round time 2.5433037281036377\n",
      "Round 31 : accuracy 93.28453540802002, Precision 97.66407012939453, Recall 86.52910590171814, round time 2.280811309814453\n",
      "Round 32 : accuracy 92.91145205497742, Precision 97.66897559165955, Recall 85.64007878303528, round time 2.5485270023345947\n",
      "Round 33 : accuracy 93.16697716712952, Precision 97.68458604812622, Recall 86.23139262199402, round time 2.532503366470337\n",
      "Round 34 : accuracy 93.30671429634094, Precision 97.7361798286438, Recall 86.51472926139832, round time 2.517592430114746\n",
      "Round 35 : accuracy 93.18117499351501, Precision 97.78878092765808, Recall 86.168771982193, round time 2.282266139984131\n",
      "Round 36 : accuracy 93.36749315261841, Precision 97.77185320854187, Recall 86.6256058216095, round time 2.375486135482788\n",
      "Round 37 : accuracy 93.3173656463623, Precision 97.64841794967651, Recall 86.62149906158447, round time 2.502178430557251\n",
      "Round 38 : accuracy 93.0680513381958, Precision 97.83921241760254, Recall 85.85463762283325, round time 2.3276050090789795\n",
      "Round 39 : accuracy 93.55159401893616, Precision 97.61559963226318, Recall 87.20768094062805, round time 2.2770707607269287\n",
      "Round 40 : accuracy 93.53429079055786, Precision 97.50094413757324, Recall 87.2744083404541, round time 2.288335084915161\n",
      "Round 41 : accuracy 93.59728693962097, Precision 97.35211133956909, Recall 87.56493330001831, round time 2.531653642654419\n",
      "Round 42 : accuracy 93.38390827178955, Precision 97.46168255805969, Recall 86.95411086082458, round time 2.4451258182525635\n",
      "Round 43 : accuracy 93.47130060195923, Precision 97.24828600883484, Recall 87.36371994018555, round time 2.4674758911132812\n",
      "Round 44 : accuracy 93.61369609832764, Precision 96.95680737495422, Recall 87.98275589942932, round time 2.428811550140381\n",
      "Round 45 : accuracy 93.17718148231506, Precision 97.13392853736877, Recall 86.77138090133667, round time 2.344815731048584\n",
      "Round 46 : accuracy 93.41407418251038, Precision 97.39174246788025, Recall 87.09167242050171, round time 2.5741043090820312\n",
      "Round 47 : accuracy 93.44911575317383, Precision 97.4419891834259, Recall 87.12760210037231, round time 2.3158552646636963\n",
      "Round 48 : accuracy 93.7166154384613, Precision 97.4996566772461, Recall 87.70865201950073, round time 2.441830635070801\n",
      "Round 49 : accuracy 93.70331168174744, Precision 97.46953845024109, Recall 87.70557641983032, round time 2.2935807704925537\n",
      "Round 50 : accuracy 93.79070401191711, Precision 97.45252728462219, Recall 87.929368019104, round time 2.5104684829711914\n",
      "Round 51 : accuracy 93.88075470924377, Precision 97.29946851730347, Recall 88.28970193862915, round time 2.290982246398926\n",
      "Round 52 : accuracy 93.91934871673584, Precision 97.34707474708557, Recall 88.33590149879456, round time 2.219398021697998\n",
      "Round 53 : accuracy 93.81820559501648, Precision 97.35740423202515, Recall 88.08541297912598, round time 2.4613258838653564\n",
      "Round 54 : accuracy 93.82663369178772, Precision 97.50347137451172, Recall 87.96632885932922, round time 2.3525922298431396\n",
      "Round 55 : accuracy 93.85502338409424, Precision 97.50204682350159, Recall 88.03510665893555, round time 2.55781626701355\n",
      "Round 56 : accuracy 94.08615231513977, Precision 97.87279963493347, Recall 88.23221325874329, round time 2.212484359741211\n",
      "Round 57 : accuracy 92.26111173629761, Precision 97.8070855140686, Recall 83.97392630577087, round time 2.373555898666382\n",
      "Round 58 : accuracy 94.2023754119873, Precision 98.02963733673096, Recall 88.35951089859009, round time 2.238377809524536\n",
      "Round 59 : accuracy 93.88741254806519, Precision 97.91234731674194, Recall 87.72507905960083, round time 2.4360806941986084\n",
      "Round 60 : accuracy 94.38425898551941, Precision 97.91386127471924, Recall 88.89846801757812, round time 2.359833002090454\n",
      "Round 61 : accuracy 93.85724663734436, Precision 97.92720675468445, Recall 87.63987421989441, round time 2.281658887863159\n",
      "Round 62 : accuracy 93.47307085990906, Precision 97.19340205192566, Recall 87.42018342018127, round time 2.4124763011932373\n",
      "Round 63 : accuracy 93.42339038848877, Precision 97.5648820400238, Recall 86.9510293006897, round time 2.4798483848571777\n",
      "Round 64 : accuracy 93.51610541343689, Precision 97.64190316200256, Recall 87.09886074066162, round time 2.4482030868530273\n",
      "Round 65 : accuracy 93.51610541343689, Precision 97.6506769657135, Recall 87.09064722061157, round time 2.206634998321533\n",
      "Round 66 : accuracy 92.49312281608582, Precision 97.50796556472778, Recall 84.79519486427307, round time 2.445826768875122\n",
      "Round 67 : accuracy 93.64830255508423, Precision 97.76719808578491, Recall 87.29493618011475, round time 2.5609445571899414\n",
      "Round 68 : accuracy 93.75521540641785, Precision 97.85127639770508, Recall 87.46945858001709, round time 2.3737599849700928\n",
      "Round 69 : accuracy 93.51388812065125, Precision 97.67907857894897, Recall 87.05882430076599, round time 2.2757861614227295\n",
      "Round 70 : accuracy 93.61281394958496, Precision 97.80585765838623, Recall 87.17482686042786, round time 2.2967538833618164\n",
      "Round 71 : accuracy 93.89007091522217, Precision 97.84232974052429, Recall 87.79693841934204, round time 2.3692665100097656\n",
      "Round 72 : accuracy 93.7135100364685, Precision 97.74028062820435, Recall 87.47459053993225, round time 2.4110283851623535\n",
      "Round 73 : accuracy 93.87454390525818, Precision 97.2744345664978, Recall 88.29894065856934, round time 2.426429510116577\n",
      "Round 74 : accuracy 93.99964213371277, Precision 97.6288914680481, Recall 88.25787901878357, round time 2.3127970695495605\n",
      "Round 75 : accuracy 93.74545216560364, Precision 97.80350923538208, Recall 87.49101758003235, round time 2.3167569637298584\n",
      "Round 76 : accuracy 93.96681785583496, Precision 97.45430946350098, Recall 88.34616541862488, round time 2.4185128211975098\n",
      "Round 77 : accuracy 93.78493428230286, Precision 97.19436764717102, Recall 88.16240429878235, round time 2.357400417327881\n",
      "Round 78 : accuracy 93.6150312423706, Precision 97.51484990119934, Recall 87.45303153991699, round time 2.4042341709136963\n",
      "Round 79 : accuracy 94.29154396057129, Precision 97.2122311592102, Recall 89.35222029685974, round time 2.4059159755706787\n",
      "Round 80 : accuracy 94.29997205734253, Precision 96.74099087715149, Recall 89.83574509620667, round time 2.543788433074951\n",
      "Round 81 : accuracy 89.79859948158264, Precision 90.42305946350098, Recall 85.4419469833374, round time 2.3605782985687256\n",
      "Round 82 : accuracy 94.17088031768799, Precision 97.58758544921875, Recall 88.70341777801514, round time 2.2894139289855957\n",
      "Round 83 : accuracy 93.52807998657227, Precision 97.61305451393127, Recall 87.15429902076721, round time 2.4348831176757812\n",
      "Round 84 : accuracy 93.88341903686523, Precision 97.60988354682922, Recall 88.00020813941956, round time 2.2735424041748047\n",
      "Round 85 : accuracy 93.97125244140625, Precision 97.68243432044983, Recall 88.13982009887695, round time 2.5288233757019043\n",
      "Round 86 : accuracy 93.33422183990479, Precision 97.60760068893433, Recall 86.69951558113098, round time 2.232208013534546\n",
      "Round 87 : accuracy 94.06307935714722, Precision 97.70845770835876, Recall 88.33281993865967, round time 2.442897319793701\n",
      "Round 88 : accuracy 94.2338764667511, Precision 97.36924767494202, Recall 89.06272649765015, round time 2.302816152572632\n",
      "Round 89 : accuracy 94.24806833267212, Precision 97.31074571609497, Recall 89.15306329727173, round time 2.4460315704345703\n",
      "Round 90 : accuracy 93.75698566436768, Precision 97.27374911308289, Recall 88.01971077919006, round time 2.4731390476226807\n",
      "Round 91 : accuracy 94.17088031768799, Precision 97.24608063697815, Recall 89.0319287776947, round time 2.2422358989715576\n",
      "Round 92 : accuracy 94.37627792358398, Precision 97.11734056472778, Recall 89.64685201644897, round time 2.4615373611450195\n",
      "Round 93 : accuracy 93.61680150032043, Precision 97.24994897842407, Recall 87.70865201950073, round time 2.539365291595459\n",
      "Round 94 : accuracy 94.0910279750824, Precision 97.51706719398499, Recall 88.5812520980835, round time 2.401404857635498\n",
      "Round 95 : accuracy 94.12696361541748, Precision 97.59241938591003, Recall 88.5945975780487, round time 2.285961866378784\n",
      "Round 96 : accuracy 94.19217705726624, Precision 97.58996963500977, Recall 88.75166773796082, round time 2.383331298828125\n",
      "Round 97 : accuracy 93.55248212814331, Precision 97.59377837181091, Recall 87.23026514053345, round time 2.4170730113983154\n",
      "Round 98 : accuracy 94.0298080444336, Precision 97.54332304000854, Recall 88.41084241867065, round time 2.383641481399536\n",
      "Round 99 : accuracy 94.24363374710083, Precision 97.44762778282166, Recall 89.01036977767944, round time 2.369359254837036\n",
      "Round 100 : accuracy 94.20326352119446, Precision 97.59924411773682, Recall 88.76911997795105, round time 2.2780797481536865\n"
     ]
    }
   ],
   "source": [
    "evaluate_test(100)"
   ]
  },
  {
   "cell_type": "code",
   "execution_count": null,
   "metadata": {},
   "outputs": [],
   "source": []
  },
  {
   "cell_type": "code",
   "execution_count": null,
   "metadata": {},
   "outputs": [],
   "source": []
  },
  {
   "cell_type": "code",
   "execution_count": null,
   "metadata": {},
   "outputs": [],
   "source": []
  },
  {
   "cell_type": "code",
   "execution_count": null,
   "metadata": {},
   "outputs": [],
   "source": []
  },
  {
   "cell_type": "code",
   "execution_count": null,
   "metadata": {},
   "outputs": [],
   "source": []
  }
 ],
 "metadata": {
  "kernelspec": {
   "display_name": "Python 3",
   "language": "python",
   "name": "python3"
  },
  "language_info": {
   "codemirror_mode": {
    "name": "ipython",
    "version": 3
   },
   "file_extension": ".py",
   "mimetype": "text/x-python",
   "name": "python",
   "nbconvert_exporter": "python",
   "pygments_lexer": "ipython3",
   "version": "3.10.13"
  }
 },
 "nbformat": 4,
 "nbformat_minor": 2
}
