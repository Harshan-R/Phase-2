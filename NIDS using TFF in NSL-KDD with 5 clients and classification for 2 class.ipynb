{
  "cells": [
    {
      "cell_type": "code",
      "execution_count": null,
      "metadata": {
        "colab": {
          "base_uri": "https://localhost:8080/"
        },
        "id": "ZuK9Aa6ROp8i",
        "outputId": "d54d4f4b-c0d3-438e-f210-dfa440580178"
      },
      "outputs": [
        {
          "output_type": "stream",
          "name": "stdout",
          "text": [
            "Requirement already satisfied: tensorflow in /usr/local/lib/python3.10/dist-packages (2.15.0)\n",
            "Requirement already satisfied: absl-py>=1.0.0 in /usr/local/lib/python3.10/dist-packages (from tensorflow) (1.4.0)\n",
            "Requirement already satisfied: astunparse>=1.6.0 in /usr/local/lib/python3.10/dist-packages (from tensorflow) (1.6.3)\n",
            "Requirement already satisfied: flatbuffers>=23.5.26 in /usr/local/lib/python3.10/dist-packages (from tensorflow) (24.3.25)\n",
            "Requirement already satisfied: gast!=0.5.0,!=0.5.1,!=0.5.2,>=0.2.1 in /usr/local/lib/python3.10/dist-packages (from tensorflow) (0.5.4)\n",
            "Requirement already satisfied: google-pasta>=0.1.1 in /usr/local/lib/python3.10/dist-packages (from tensorflow) (0.2.0)\n",
            "Requirement already satisfied: h5py>=2.9.0 in /usr/local/lib/python3.10/dist-packages (from tensorflow) (3.9.0)\n",
            "Requirement already satisfied: libclang>=13.0.0 in /usr/local/lib/python3.10/dist-packages (from tensorflow) (18.1.1)\n",
            "Requirement already satisfied: ml-dtypes~=0.2.0 in /usr/local/lib/python3.10/dist-packages (from tensorflow) (0.2.0)\n",
            "Requirement already satisfied: numpy<2.0.0,>=1.23.5 in /usr/local/lib/python3.10/dist-packages (from tensorflow) (1.25.2)\n",
            "Requirement already satisfied: opt-einsum>=2.3.2 in /usr/local/lib/python3.10/dist-packages (from tensorflow) (3.3.0)\n",
            "Requirement already satisfied: packaging in /usr/local/lib/python3.10/dist-packages (from tensorflow) (24.0)\n",
            "Requirement already satisfied: protobuf!=4.21.0,!=4.21.1,!=4.21.2,!=4.21.3,!=4.21.4,!=4.21.5,<5.0.0dev,>=3.20.3 in /usr/local/lib/python3.10/dist-packages (from tensorflow) (3.20.3)\n",
            "Requirement already satisfied: setuptools in /usr/local/lib/python3.10/dist-packages (from tensorflow) (67.7.2)\n",
            "Requirement already satisfied: six>=1.12.0 in /usr/local/lib/python3.10/dist-packages (from tensorflow) (1.16.0)\n",
            "Requirement already satisfied: termcolor>=1.1.0 in /usr/local/lib/python3.10/dist-packages (from tensorflow) (2.4.0)\n",
            "Requirement already satisfied: typing-extensions>=3.6.6 in /usr/local/lib/python3.10/dist-packages (from tensorflow) (4.11.0)\n",
            "Requirement already satisfied: wrapt<1.15,>=1.11.0 in /usr/local/lib/python3.10/dist-packages (from tensorflow) (1.14.1)\n",
            "Requirement already satisfied: tensorflow-io-gcs-filesystem>=0.23.1 in /usr/local/lib/python3.10/dist-packages (from tensorflow) (0.36.0)\n",
            "Requirement already satisfied: grpcio<2.0,>=1.24.3 in /usr/local/lib/python3.10/dist-packages (from tensorflow) (1.62.1)\n",
            "Requirement already satisfied: tensorboard<2.16,>=2.15 in /usr/local/lib/python3.10/dist-packages (from tensorflow) (2.15.2)\n",
            "Requirement already satisfied: tensorflow-estimator<2.16,>=2.15.0 in /usr/local/lib/python3.10/dist-packages (from tensorflow) (2.15.0)\n",
            "Requirement already satisfied: keras<2.16,>=2.15.0 in /usr/local/lib/python3.10/dist-packages (from tensorflow) (2.15.0)\n",
            "Requirement already satisfied: wheel<1.0,>=0.23.0 in /usr/local/lib/python3.10/dist-packages (from astunparse>=1.6.0->tensorflow) (0.43.0)\n",
            "Requirement already satisfied: google-auth<3,>=1.6.3 in /usr/local/lib/python3.10/dist-packages (from tensorboard<2.16,>=2.15->tensorflow) (2.27.0)\n",
            "Requirement already satisfied: google-auth-oauthlib<2,>=0.5 in /usr/local/lib/python3.10/dist-packages (from tensorboard<2.16,>=2.15->tensorflow) (1.2.0)\n",
            "Requirement already satisfied: markdown>=2.6.8 in /usr/local/lib/python3.10/dist-packages (from tensorboard<2.16,>=2.15->tensorflow) (3.6)\n",
            "Requirement already satisfied: requests<3,>=2.21.0 in /usr/local/lib/python3.10/dist-packages (from tensorboard<2.16,>=2.15->tensorflow) (2.31.0)\n",
            "Requirement already satisfied: tensorboard-data-server<0.8.0,>=0.7.0 in /usr/local/lib/python3.10/dist-packages (from tensorboard<2.16,>=2.15->tensorflow) (0.7.2)\n",
            "Requirement already satisfied: werkzeug>=1.0.1 in /usr/local/lib/python3.10/dist-packages (from tensorboard<2.16,>=2.15->tensorflow) (3.0.2)\n",
            "Requirement already satisfied: cachetools<6.0,>=2.0.0 in /usr/local/lib/python3.10/dist-packages (from google-auth<3,>=1.6.3->tensorboard<2.16,>=2.15->tensorflow) (5.3.3)\n",
            "Requirement already satisfied: pyasn1-modules>=0.2.1 in /usr/local/lib/python3.10/dist-packages (from google-auth<3,>=1.6.3->tensorboard<2.16,>=2.15->tensorflow) (0.4.0)\n",
            "Requirement already satisfied: rsa<5,>=3.1.4 in /usr/local/lib/python3.10/dist-packages (from google-auth<3,>=1.6.3->tensorboard<2.16,>=2.15->tensorflow) (4.9)\n",
            "Requirement already satisfied: requests-oauthlib>=0.7.0 in /usr/local/lib/python3.10/dist-packages (from google-auth-oauthlib<2,>=0.5->tensorboard<2.16,>=2.15->tensorflow) (1.3.1)\n",
            "Requirement already satisfied: charset-normalizer<4,>=2 in /usr/local/lib/python3.10/dist-packages (from requests<3,>=2.21.0->tensorboard<2.16,>=2.15->tensorflow) (3.3.2)\n",
            "Requirement already satisfied: idna<4,>=2.5 in /usr/local/lib/python3.10/dist-packages (from requests<3,>=2.21.0->tensorboard<2.16,>=2.15->tensorflow) (3.7)\n",
            "Requirement already satisfied: urllib3<3,>=1.21.1 in /usr/local/lib/python3.10/dist-packages (from requests<3,>=2.21.0->tensorboard<2.16,>=2.15->tensorflow) (2.0.7)\n",
            "Requirement already satisfied: certifi>=2017.4.17 in /usr/local/lib/python3.10/dist-packages (from requests<3,>=2.21.0->tensorboard<2.16,>=2.15->tensorflow) (2024.2.2)\n",
            "Requirement already satisfied: MarkupSafe>=2.1.1 in /usr/local/lib/python3.10/dist-packages (from werkzeug>=1.0.1->tensorboard<2.16,>=2.15->tensorflow) (2.1.5)\n",
            "Requirement already satisfied: pyasn1<0.7.0,>=0.4.6 in /usr/local/lib/python3.10/dist-packages (from pyasn1-modules>=0.2.1->google-auth<3,>=1.6.3->tensorboard<2.16,>=2.15->tensorflow) (0.6.0)\n",
            "Requirement already satisfied: oauthlib>=3.0.0 in /usr/local/lib/python3.10/dist-packages (from requests-oauthlib>=0.7.0->google-auth-oauthlib<2,>=0.5->tensorboard<2.16,>=2.15->tensorflow) (3.2.2)\n"
          ]
        }
      ],
      "source": [
        "\n",
        "!pip install tensorflow"
      ]
    },
    {
      "cell_type": "code",
      "execution_count": null,
      "metadata": {
        "colab": {
          "base_uri": "https://localhost:8080/",
          "height": 1000
        },
        "id": "YYNDDb_vOp8j",
        "outputId": "b31c6fd1-a152-44d6-edf7-fa47c7a90236"
      },
      "outputs": [
        {
          "output_type": "stream",
          "name": "stdout",
          "text": [
            "Collecting tensorflow-federated\n",
            "  Downloading tensorflow_federated-0.76.0-py3-none-manylinux_2_31_x86_64.whl (70.7 MB)\n",
            "\u001b[2K     \u001b[90m━━━━━━━━━━━━━━━━━━━━━━━━━━━━━━━━━━━━━━━━\u001b[0m \u001b[32m70.7/70.7 MB\u001b[0m \u001b[31m11.1 MB/s\u001b[0m eta \u001b[36m0:00:00\u001b[0m\n",
            "\u001b[?25hRequirement already satisfied: absl-py==1.*,>=1.0 in /usr/local/lib/python3.10/dist-packages (from tensorflow-federated) (1.4.0)\n",
            "Requirement already satisfied: attrs~=23.1 in /usr/local/lib/python3.10/dist-packages (from tensorflow-federated) (23.2.0)\n",
            "Requirement already satisfied: cachetools~=5.3 in /usr/local/lib/python3.10/dist-packages (from tensorflow-federated) (5.3.3)\n",
            "Requirement already satisfied: dm-tree==0.1.8 in /usr/local/lib/python3.10/dist-packages (from tensorflow-federated) (0.1.8)\n",
            "Collecting dp-accounting==0.4.3 (from tensorflow-federated)\n",
            "  Downloading dp_accounting-0.4.3-py3-none-any.whl (104 kB)\n",
            "\u001b[2K     \u001b[90m━━━━━━━━━━━━━━━━━━━━━━━━━━━━━━━━━━━━━━━━\u001b[0m \u001b[32m104.8/104.8 kB\u001b[0m \u001b[31m14.7 MB/s\u001b[0m eta \u001b[36m0:00:00\u001b[0m\n",
            "\u001b[?25hCollecting farmhashpy==0.4.0 (from tensorflow-federated)\n",
            "  Downloading farmhashpy-0.4.0.tar.gz (98 kB)\n",
            "\u001b[2K     \u001b[90m━━━━━━━━━━━━━━━━━━━━━━━━━━━━━━━━━━━━━━━━\u001b[0m \u001b[32m98.7/98.7 kB\u001b[0m \u001b[31m16.1 MB/s\u001b[0m eta \u001b[36m0:00:00\u001b[0m\n",
            "\u001b[?25h  Preparing metadata (setup.py) ... \u001b[?25l\u001b[?25hdone\n",
            "Collecting google-vizier==0.1.11 (from tensorflow-federated)\n",
            "  Downloading google_vizier-0.1.11-py3-none-any.whl (721 kB)\n",
            "\u001b[2K     \u001b[90m━━━━━━━━━━━━━━━━━━━━━━━━━━━━━━━━━━━━━━━━\u001b[0m \u001b[32m721.6/721.6 kB\u001b[0m \u001b[31m61.3 MB/s\u001b[0m eta \u001b[36m0:00:00\u001b[0m\n",
            "\u001b[?25hRequirement already satisfied: grpcio~=1.46 in /usr/local/lib/python3.10/dist-packages (from tensorflow-federated) (1.62.1)\n",
            "Collecting jaxlib==0.4.14 (from tensorflow-federated)\n",
            "  Downloading jaxlib-0.4.14-cp310-cp310-manylinux2014_x86_64.whl (73.7 MB)\n",
            "\u001b[2K     \u001b[90m━━━━━━━━━━━━━━━━━━━━━━━━━━━━━━━━━━━━━━━━\u001b[0m \u001b[32m73.7/73.7 MB\u001b[0m \u001b[31m9.3 MB/s\u001b[0m eta \u001b[36m0:00:00\u001b[0m\n",
            "\u001b[?25hCollecting jax==0.4.14 (from tensorflow-federated)\n",
            "  Downloading jax-0.4.14.tar.gz (1.3 MB)\n",
            "\u001b[2K     \u001b[90m━━━━━━━━━━━━━━━━━━━━━━━━━━━━━━━━━━━━━━━━\u001b[0m \u001b[32m1.3/1.3 MB\u001b[0m \u001b[31m53.0 MB/s\u001b[0m eta \u001b[36m0:00:00\u001b[0m\n",
            "\u001b[?25h  Installing build dependencies ... \u001b[?25l\u001b[?25hdone\n",
            "  Getting requirements to build wheel ... \u001b[?25l\u001b[?25hdone\n",
            "  Preparing metadata (pyproject.toml) ... \u001b[?25l\u001b[?25hdone\n",
            "Requirement already satisfied: numpy~=1.25 in /usr/local/lib/python3.10/dist-packages (from tensorflow-federated) (1.25.2)\n",
            "Collecting portpicker~=1.6 (from tensorflow-federated)\n",
            "  Downloading portpicker-1.6.0-py3-none-any.whl (16 kB)\n",
            "Collecting scipy~=1.9.3 (from tensorflow-federated)\n",
            "  Downloading scipy-1.9.3-cp310-cp310-manylinux_2_17_x86_64.manylinux2014_x86_64.whl (33.7 MB)\n",
            "\u001b[2K     \u001b[90m━━━━━━━━━━━━━━━━━━━━━━━━━━━━━━━━━━━━━━━━\u001b[0m \u001b[32m33.7/33.7 MB\u001b[0m \u001b[31m24.2 MB/s\u001b[0m eta \u001b[36m0:00:00\u001b[0m\n",
            "\u001b[?25hCollecting semantic-version~=2.6 (from tensorflow-federated)\n",
            "  Downloading semantic_version-2.10.0-py2.py3-none-any.whl (15 kB)\n",
            "Collecting tensorflow-compression==2.14.*,>=2.14.0 (from tensorflow-federated)\n",
            "  Downloading tensorflow_compression-2.14.1-cp310-cp310-manylinux_2_17_x86_64.manylinux2014_x86_64.whl (262 kB)\n",
            "\u001b[2K     \u001b[90m━━━━━━━━━━━━━━━━━━━━━━━━━━━━━━━━━━━━━━━━\u001b[0m \u001b[32m262.5/262.5 kB\u001b[0m \u001b[31m14.8 MB/s\u001b[0m eta \u001b[36m0:00:00\u001b[0m\n",
            "\u001b[?25hCollecting tensorflow-model-optimization==0.7.5 (from tensorflow-federated)\n",
            "  Downloading tensorflow_model_optimization-0.7.5-py2.py3-none-any.whl (241 kB)\n",
            "\u001b[2K     \u001b[90m━━━━━━━━━━━━━━━━━━━━━━━━━━━━━━━━━━━━━━━━\u001b[0m \u001b[32m241.2/241.2 kB\u001b[0m \u001b[31m29.2 MB/s\u001b[0m eta \u001b[36m0:00:00\u001b[0m\n",
            "\u001b[?25hCollecting tensorflow-privacy==0.9.0 (from tensorflow-federated)\n",
            "  Downloading tensorflow_privacy-0.9.0-py3-none-any.whl (323 kB)\n",
            "\u001b[2K     \u001b[90m━━━━━━━━━━━━━━━━━━━━━━━━━━━━━━━━━━━━━━━━\u001b[0m \u001b[32m323.2/323.2 kB\u001b[0m \u001b[31m35.9 MB/s\u001b[0m eta \u001b[36m0:00:00\u001b[0m\n",
            "\u001b[?25hCollecting tensorflow==2.14.*,>=2.14.0 (from tensorflow-federated)\n",
            "  Downloading tensorflow-2.14.1-cp310-cp310-manylinux_2_17_x86_64.manylinux2014_x86_64.whl (489.9 MB)\n",
            "\u001b[2K     \u001b[90m━━━━━━━━━━━━━━━━━━━━━━━━━━━━━━━━━━━━━━━━\u001b[0m \u001b[32m489.9/489.9 MB\u001b[0m \u001b[31m3.4 MB/s\u001b[0m eta \u001b[36m0:00:00\u001b[0m\n",
            "\u001b[?25hRequirement already satisfied: tqdm~=4.64 in /usr/local/lib/python3.10/dist-packages (from tensorflow-federated) (4.66.2)\n",
            "Collecting typing-extensions==4.5.*,>=4.5.0 (from tensorflow-federated)\n",
            "  Downloading typing_extensions-4.5.0-py3-none-any.whl (27 kB)\n",
            "Collecting googleapis-common-protos==1.61.0 (from tensorflow-federated)\n",
            "  Downloading googleapis_common_protos-1.61.0-py2.py3-none-any.whl (230 kB)\n",
            "\u001b[2K     \u001b[90m━━━━━━━━━━━━━━━━━━━━━━━━━━━━━━━━━━━━━━━━\u001b[0m \u001b[32m230.9/230.9 kB\u001b[0m \u001b[31m28.0 MB/s\u001b[0m eta \u001b[36m0:00:00\u001b[0m\n",
            "\u001b[?25hRequirement already satisfied: mpmath~=1.2 in /usr/local/lib/python3.10/dist-packages (from dp-accounting==0.4.3->tensorflow-federated) (1.3.0)\n",
            "Collecting attrs~=23.1 (from tensorflow-federated)\n",
            "  Downloading attrs-23.1.0-py3-none-any.whl (61 kB)\n",
            "\u001b[2K     \u001b[90m━━━━━━━━━━━━━━━━━━━━━━━━━━━━━━━━━━━━━━━━\u001b[0m \u001b[32m61.2/61.2 kB\u001b[0m \u001b[31m10.3 MB/s\u001b[0m eta \u001b[36m0:00:00\u001b[0m\n",
            "\u001b[?25hRequirement already satisfied: protobuf>=3.6 in /usr/local/lib/python3.10/dist-packages (from google-vizier==0.1.11->tensorflow-federated) (3.20.3)\n",
            "Collecting grpcio-tools>=1.35.0 (from google-vizier==0.1.11->tensorflow-federated)\n",
            "  Downloading grpcio_tools-1.62.2-cp310-cp310-manylinux_2_17_x86_64.manylinux2014_x86_64.whl (2.8 MB)\n",
            "\u001b[2K     \u001b[90m━━━━━━━━━━━━━━━━━━━━━━━━━━━━━━━━━━━━━━━━\u001b[0m \u001b[32m2.8/2.8 MB\u001b[0m \u001b[31m90.2 MB/s\u001b[0m eta \u001b[36m0:00:00\u001b[0m\n",
            "\u001b[?25hCollecting sqlalchemy<=1.4.20,>=1.4 (from google-vizier==0.1.11->tensorflow-federated)\n",
            "  Downloading SQLAlchemy-1.4.20.tar.gz (7.7 MB)\n",
            "\u001b[2K     \u001b[90m━━━━━━━━━━━━━━━━━━━━━━━━━━━━━━━━━━━━━━━━\u001b[0m \u001b[32m7.7/7.7 MB\u001b[0m \u001b[31m83.7 MB/s\u001b[0m eta \u001b[36m0:00:00\u001b[0m\n",
            "\u001b[?25h  Preparing metadata (setup.py) ... \u001b[?25l\u001b[?25hdone\n",
            "Requirement already satisfied: ml-dtypes>=0.2.0 in /usr/local/lib/python3.10/dist-packages (from jax==0.4.14->tensorflow-federated) (0.2.0)\n",
            "Requirement already satisfied: opt-einsum in /usr/local/lib/python3.10/dist-packages (from jax==0.4.14->tensorflow-federated) (3.3.0)\n",
            "Requirement already satisfied: astunparse>=1.6.0 in /usr/local/lib/python3.10/dist-packages (from tensorflow==2.14.*,>=2.14.0->tensorflow-federated) (1.6.3)\n",
            "Requirement already satisfied: flatbuffers>=23.5.26 in /usr/local/lib/python3.10/dist-packages (from tensorflow==2.14.*,>=2.14.0->tensorflow-federated) (24.3.25)\n",
            "Requirement already satisfied: gast!=0.5.0,!=0.5.1,!=0.5.2,>=0.2.1 in /usr/local/lib/python3.10/dist-packages (from tensorflow==2.14.*,>=2.14.0->tensorflow-federated) (0.5.4)\n",
            "Requirement already satisfied: google-pasta>=0.1.1 in /usr/local/lib/python3.10/dist-packages (from tensorflow==2.14.*,>=2.14.0->tensorflow-federated) (0.2.0)\n",
            "Requirement already satisfied: h5py>=2.9.0 in /usr/local/lib/python3.10/dist-packages (from tensorflow==2.14.*,>=2.14.0->tensorflow-federated) (3.9.0)\n",
            "Requirement already satisfied: libclang>=13.0.0 in /usr/local/lib/python3.10/dist-packages (from tensorflow==2.14.*,>=2.14.0->tensorflow-federated) (18.1.1)\n",
            "Requirement already satisfied: packaging in /usr/local/lib/python3.10/dist-packages (from tensorflow==2.14.*,>=2.14.0->tensorflow-federated) (24.0)\n",
            "Requirement already satisfied: setuptools in /usr/local/lib/python3.10/dist-packages (from tensorflow==2.14.*,>=2.14.0->tensorflow-federated) (67.7.2)\n",
            "Requirement already satisfied: six>=1.12.0 in /usr/local/lib/python3.10/dist-packages (from tensorflow==2.14.*,>=2.14.0->tensorflow-federated) (1.16.0)\n",
            "Requirement already satisfied: termcolor>=1.1.0 in /usr/local/lib/python3.10/dist-packages (from tensorflow==2.14.*,>=2.14.0->tensorflow-federated) (2.4.0)\n",
            "Requirement already satisfied: wrapt<1.15,>=1.11.0 in /usr/local/lib/python3.10/dist-packages (from tensorflow==2.14.*,>=2.14.0->tensorflow-federated) (1.14.1)\n",
            "Requirement already satisfied: tensorflow-io-gcs-filesystem>=0.23.1 in /usr/local/lib/python3.10/dist-packages (from tensorflow==2.14.*,>=2.14.0->tensorflow-federated) (0.36.0)\n",
            "Collecting tensorboard<2.15,>=2.14 (from tensorflow==2.14.*,>=2.14.0->tensorflow-federated)\n",
            "  Downloading tensorboard-2.14.1-py3-none-any.whl (5.5 MB)\n",
            "\u001b[2K     \u001b[90m━━━━━━━━━━━━━━━━━━━━━━━━━━━━━━━━━━━━━━━━\u001b[0m \u001b[32m5.5/5.5 MB\u001b[0m \u001b[31m55.6 MB/s\u001b[0m eta \u001b[36m0:00:00\u001b[0m\n",
            "\u001b[?25hCollecting tensorflow-estimator<2.15,>=2.14.0 (from tensorflow==2.14.*,>=2.14.0->tensorflow-federated)\n",
            "  Downloading tensorflow_estimator-2.14.0-py2.py3-none-any.whl (440 kB)\n",
            "\u001b[2K     \u001b[90m━━━━━━━━━━━━━━━━━━━━━━━━━━━━━━━━━━━━━━━━\u001b[0m \u001b[32m440.7/440.7 kB\u001b[0m \u001b[31m48.2 MB/s\u001b[0m eta \u001b[36m0:00:00\u001b[0m\n",
            "\u001b[?25hCollecting keras<2.15,>=2.14.0 (from tensorflow==2.14.*,>=2.14.0->tensorflow-federated)\n",
            "  Downloading keras-2.14.0-py3-none-any.whl (1.7 MB)\n",
            "\u001b[2K     \u001b[90m━━━━━━━━━━━━━━━━━━━━━━━━━━━━━━━━━━━━━━━━\u001b[0m \u001b[32m1.7/1.7 MB\u001b[0m \u001b[31m84.6 MB/s\u001b[0m eta \u001b[36m0:00:00\u001b[0m\n",
            "\u001b[?25hINFO: pip is looking at multiple versions of tensorflow-compression to determine which version is compatible with other requirements. This could take a while.\n",
            "Collecting tensorflow-compression==2.14.*,>=2.14.0 (from tensorflow-federated)\n",
            "  Downloading tensorflow_compression-2.14.0-cp310-cp310-manylinux_2_17_x86_64.manylinux2014_x86_64.whl (257 kB)\n",
            "\u001b[2K     \u001b[90m━━━━━━━━━━━━━━━━━━━━━━━━━━━━━━━━━━━━━━━━\u001b[0m \u001b[32m257.7/257.7 kB\u001b[0m \u001b[31m30.1 MB/s\u001b[0m eta \u001b[36m0:00:00\u001b[0m\n",
            "\u001b[?25hRequirement already satisfied: tensorflow-probability~=0.15 in /usr/local/lib/python3.10/dist-packages (from tensorflow-compression==2.14.*,>=2.14.0->tensorflow-federated) (0.23.0)\n",
            "Collecting packaging (from tensorflow==2.14.*,>=2.14.0->tensorflow-federated)\n",
            "  Downloading packaging-22.0-py3-none-any.whl (42 kB)\n",
            "\u001b[2K     \u001b[90m━━━━━━━━━━━━━━━━━━━━━━━━━━━━━━━━━━━━━━━━\u001b[0m \u001b[32m42.6/42.6 kB\u001b[0m \u001b[31m6.2 MB/s\u001b[0m eta \u001b[36m0:00:00\u001b[0m\n",
            "\u001b[?25hRequirement already satisfied: scikit-learn==1.*,>=1.0 in /usr/local/lib/python3.10/dist-packages (from tensorflow-privacy==0.9.0->tensorflow-federated) (1.2.2)\n",
            "Collecting tensorflow-probability~=0.15 (from tensorflow-compression==2.14.*,>=2.14.0->tensorflow-federated)\n",
            "  Downloading tensorflow_probability-0.22.1-py2.py3-none-any.whl (6.9 MB)\n",
            "\u001b[2K     \u001b[90m━━━━━━━━━━━━━━━━━━━━━━━━━━━━━━━━━━━━━━━━\u001b[0m \u001b[32m6.9/6.9 MB\u001b[0m \u001b[31m101.6 MB/s\u001b[0m eta \u001b[36m0:00:00\u001b[0m\n",
            "\u001b[?25hRequirement already satisfied: joblib>=1.1.1 in /usr/local/lib/python3.10/dist-packages (from scikit-learn==1.*,>=1.0->tensorflow-privacy==0.9.0->tensorflow-federated) (1.4.0)\n",
            "Requirement already satisfied: threadpoolctl>=2.0.0 in /usr/local/lib/python3.10/dist-packages (from scikit-learn==1.*,>=1.0->tensorflow-privacy==0.9.0->tensorflow-federated) (3.4.0)\n",
            "Requirement already satisfied: psutil in /usr/local/lib/python3.10/dist-packages (from portpicker~=1.6->tensorflow-federated) (5.9.5)\n",
            "Requirement already satisfied: wheel<1.0,>=0.23.0 in /usr/local/lib/python3.10/dist-packages (from astunparse>=1.6.0->tensorflow==2.14.*,>=2.14.0->tensorflow-federated) (0.43.0)\n",
            "Collecting protobuf>=3.6 (from google-vizier==0.1.11->tensorflow-federated)\n",
            "  Downloading protobuf-4.25.3-cp37-abi3-manylinux2014_x86_64.whl (294 kB)\n",
            "\u001b[2K     \u001b[90m━━━━━━━━━━━━━━━━━━━━━━━━━━━━━━━━━━━━━━━━\u001b[0m \u001b[32m294.6/294.6 kB\u001b[0m \u001b[31m36.7 MB/s\u001b[0m eta \u001b[36m0:00:00\u001b[0m\n",
            "\u001b[?25hCollecting grpcio~=1.46 (from tensorflow-federated)\n",
            "  Downloading grpcio-1.62.2-cp310-cp310-manylinux_2_17_x86_64.manylinux2014_x86_64.whl (5.5 MB)\n",
            "\u001b[2K     \u001b[90m━━━━━━━━━━━━━━━━━━━━━━━━━━━━━━━━━━━━━━━━\u001b[0m \u001b[32m5.5/5.5 MB\u001b[0m \u001b[31m112.2 MB/s\u001b[0m eta \u001b[36m0:00:00\u001b[0m\n",
            "\u001b[?25hRequirement already satisfied: greenlet!=0.4.17 in /usr/local/lib/python3.10/dist-packages (from sqlalchemy<=1.4.20,>=1.4->google-vizier==0.1.11->tensorflow-federated) (3.0.3)\n",
            "Requirement already satisfied: google-auth<3,>=1.6.3 in /usr/local/lib/python3.10/dist-packages (from tensorboard<2.15,>=2.14->tensorflow==2.14.*,>=2.14.0->tensorflow-federated) (2.27.0)\n",
            "Collecting google-auth-oauthlib<1.1,>=0.5 (from tensorboard<2.15,>=2.14->tensorflow==2.14.*,>=2.14.0->tensorflow-federated)\n",
            "  Downloading google_auth_oauthlib-1.0.0-py2.py3-none-any.whl (18 kB)\n",
            "Requirement already satisfied: markdown>=2.6.8 in /usr/local/lib/python3.10/dist-packages (from tensorboard<2.15,>=2.14->tensorflow==2.14.*,>=2.14.0->tensorflow-federated) (3.6)\n",
            "Requirement already satisfied: requests<3,>=2.21.0 in /usr/local/lib/python3.10/dist-packages (from tensorboard<2.15,>=2.14->tensorflow==2.14.*,>=2.14.0->tensorflow-federated) (2.31.0)\n",
            "Requirement already satisfied: tensorboard-data-server<0.8.0,>=0.7.0 in /usr/local/lib/python3.10/dist-packages (from tensorboard<2.15,>=2.14->tensorflow==2.14.*,>=2.14.0->tensorflow-federated) (0.7.2)\n",
            "Requirement already satisfied: werkzeug>=1.0.1 in /usr/local/lib/python3.10/dist-packages (from tensorboard<2.15,>=2.14->tensorflow==2.14.*,>=2.14.0->tensorflow-federated) (3.0.2)\n",
            "Requirement already satisfied: decorator in /usr/local/lib/python3.10/dist-packages (from tensorflow-probability~=0.15->tensorflow-compression==2.14.*,>=2.14.0->tensorflow-federated) (4.4.2)\n",
            "Requirement already satisfied: cloudpickle>=1.3 in /usr/local/lib/python3.10/dist-packages (from tensorflow-probability~=0.15->tensorflow-compression==2.14.*,>=2.14.0->tensorflow-federated) (2.2.1)\n",
            "Requirement already satisfied: pyasn1-modules>=0.2.1 in /usr/local/lib/python3.10/dist-packages (from google-auth<3,>=1.6.3->tensorboard<2.15,>=2.14->tensorflow==2.14.*,>=2.14.0->tensorflow-federated) (0.4.0)\n",
            "Requirement already satisfied: rsa<5,>=3.1.4 in /usr/local/lib/python3.10/dist-packages (from google-auth<3,>=1.6.3->tensorboard<2.15,>=2.14->tensorflow==2.14.*,>=2.14.0->tensorflow-federated) (4.9)\n",
            "Requirement already satisfied: requests-oauthlib>=0.7.0 in /usr/local/lib/python3.10/dist-packages (from google-auth-oauthlib<1.1,>=0.5->tensorboard<2.15,>=2.14->tensorflow==2.14.*,>=2.14.0->tensorflow-federated) (1.3.1)\n",
            "Requirement already satisfied: charset-normalizer<4,>=2 in /usr/local/lib/python3.10/dist-packages (from requests<3,>=2.21.0->tensorboard<2.15,>=2.14->tensorflow==2.14.*,>=2.14.0->tensorflow-federated) (3.3.2)\n",
            "Requirement already satisfied: idna<4,>=2.5 in /usr/local/lib/python3.10/dist-packages (from requests<3,>=2.21.0->tensorboard<2.15,>=2.14->tensorflow==2.14.*,>=2.14.0->tensorflow-federated) (3.7)\n",
            "Requirement already satisfied: urllib3<3,>=1.21.1 in /usr/local/lib/python3.10/dist-packages (from requests<3,>=2.21.0->tensorboard<2.15,>=2.14->tensorflow==2.14.*,>=2.14.0->tensorflow-federated) (2.0.7)\n",
            "Requirement already satisfied: certifi>=2017.4.17 in /usr/local/lib/python3.10/dist-packages (from requests<3,>=2.21.0->tensorboard<2.15,>=2.14->tensorflow==2.14.*,>=2.14.0->tensorflow-federated) (2024.2.2)\n",
            "Requirement already satisfied: MarkupSafe>=2.1.1 in /usr/local/lib/python3.10/dist-packages (from werkzeug>=1.0.1->tensorboard<2.15,>=2.14->tensorflow==2.14.*,>=2.14.0->tensorflow-federated) (2.1.5)\n",
            "Requirement already satisfied: pyasn1<0.7.0,>=0.4.6 in /usr/local/lib/python3.10/dist-packages (from pyasn1-modules>=0.2.1->google-auth<3,>=1.6.3->tensorboard<2.15,>=2.14->tensorflow==2.14.*,>=2.14.0->tensorflow-federated) (0.6.0)\n",
            "Requirement already satisfied: oauthlib>=3.0.0 in /usr/local/lib/python3.10/dist-packages (from requests-oauthlib>=0.7.0->google-auth-oauthlib<1.1,>=0.5->tensorboard<2.15,>=2.14->tensorflow==2.14.*,>=2.14.0->tensorflow-federated) (3.2.2)\n",
            "Building wheels for collected packages: farmhashpy, jax, sqlalchemy\n",
            "  Building wheel for farmhashpy (setup.py) ... \u001b[?25l\u001b[?25hdone\n",
            "  Created wheel for farmhashpy: filename=farmhashpy-0.4.0-cp310-cp310-linux_x86_64.whl size=87303 sha256=af6ee695c263e577dfebc657863b6840d7d48cc0c49f2d9c25c1e8f9d5f42813\n",
            "  Stored in directory: /root/.cache/pip/wheels/14/0e/36/b61b3f47ae366b7d5dd2b746326d17234269dbc745ad554857\n",
            "  Building wheel for jax (pyproject.toml) ... \u001b[?25l\u001b[?25hdone\n",
            "  Created wheel for jax: filename=jax-0.4.14-py3-none-any.whl size=1535361 sha256=552728ee216e09765c7da9666a663bc397ea264c6733d68ded5e4fea10c83c3e\n",
            "  Stored in directory: /root/.cache/pip/wheels/85/52/e7/dfa571c9f9b879e3facaa1584f52be04c4c3d1e14054ef40ab\n",
            "  Building wheel for sqlalchemy (setup.py) ... \u001b[?25l\u001b[?25hdone\n",
            "  Created wheel for sqlalchemy: filename=SQLAlchemy-1.4.20-cp310-cp310-linux_x86_64.whl size=1529857 sha256=1fc9c638c607e5ac5921c7859b7293038140cfe076cc548330ee43b26164a326\n",
            "  Stored in directory: /root/.cache/pip/wheels/c4/42/20/a958989c470cc1a6fe1d1279b0193f0e508161327fc3d951d9\n",
            "Successfully built farmhashpy jax sqlalchemy\n",
            "Installing collected packages: typing-extensions, tensorflow-probability, tensorflow-model-optimization, tensorflow-estimator, sqlalchemy, semantic-version, scipy, protobuf, portpicker, packaging, keras, grpcio, farmhashpy, attrs, jaxlib, jax, grpcio-tools, googleapis-common-protos, dp-accounting, google-vizier, google-auth-oauthlib, tensorboard, tensorflow, tensorflow-privacy, tensorflow-compression, tensorflow-federated\n",
            "  Attempting uninstall: typing-extensions\n",
            "    Found existing installation: typing_extensions 4.11.0\n",
            "    Uninstalling typing_extensions-4.11.0:\n",
            "      Successfully uninstalled typing_extensions-4.11.0\n",
            "  Attempting uninstall: tensorflow-probability\n",
            "    Found existing installation: tensorflow-probability 0.23.0\n",
            "    Uninstalling tensorflow-probability-0.23.0:\n",
            "      Successfully uninstalled tensorflow-probability-0.23.0\n",
            "  Attempting uninstall: tensorflow-estimator\n",
            "    Found existing installation: tensorflow-estimator 2.15.0\n",
            "    Uninstalling tensorflow-estimator-2.15.0:\n",
            "      Successfully uninstalled tensorflow-estimator-2.15.0\n",
            "  Attempting uninstall: sqlalchemy\n",
            "    Found existing installation: SQLAlchemy 2.0.29\n",
            "    Uninstalling SQLAlchemy-2.0.29:\n",
            "      Successfully uninstalled SQLAlchemy-2.0.29\n",
            "  Attempting uninstall: scipy\n",
            "    Found existing installation: scipy 1.11.4\n",
            "    Uninstalling scipy-1.11.4:\n",
            "      Successfully uninstalled scipy-1.11.4\n",
            "  Attempting uninstall: protobuf\n",
            "    Found existing installation: protobuf 3.20.3\n",
            "    Uninstalling protobuf-3.20.3:\n",
            "      Successfully uninstalled protobuf-3.20.3\n",
            "  Attempting uninstall: portpicker\n",
            "    Found existing installation: portpicker 1.5.2\n",
            "    Uninstalling portpicker-1.5.2:\n",
            "      Successfully uninstalled portpicker-1.5.2\n",
            "  Attempting uninstall: packaging\n",
            "    Found existing installation: packaging 24.0\n",
            "    Uninstalling packaging-24.0:\n",
            "      Successfully uninstalled packaging-24.0\n",
            "  Attempting uninstall: keras\n",
            "    Found existing installation: keras 2.15.0\n",
            "    Uninstalling keras-2.15.0:\n",
            "      Successfully uninstalled keras-2.15.0\n",
            "  Attempting uninstall: grpcio\n",
            "    Found existing installation: grpcio 1.62.1\n",
            "    Uninstalling grpcio-1.62.1:\n",
            "      Successfully uninstalled grpcio-1.62.1\n",
            "  Attempting uninstall: attrs\n",
            "    Found existing installation: attrs 23.2.0\n",
            "    Uninstalling attrs-23.2.0:\n",
            "      Successfully uninstalled attrs-23.2.0\n",
            "  Attempting uninstall: jaxlib\n",
            "    Found existing installation: jaxlib 0.4.26+cuda12.cudnn89\n",
            "    Uninstalling jaxlib-0.4.26+cuda12.cudnn89:\n",
            "      Successfully uninstalled jaxlib-0.4.26+cuda12.cudnn89\n",
            "  Attempting uninstall: jax\n",
            "    Found existing installation: jax 0.4.26\n",
            "    Uninstalling jax-0.4.26:\n",
            "      Successfully uninstalled jax-0.4.26\n",
            "  Attempting uninstall: googleapis-common-protos\n",
            "    Found existing installation: googleapis-common-protos 1.63.0\n",
            "    Uninstalling googleapis-common-protos-1.63.0:\n",
            "      Successfully uninstalled googleapis-common-protos-1.63.0\n",
            "  Attempting uninstall: google-auth-oauthlib\n",
            "    Found existing installation: google-auth-oauthlib 1.2.0\n",
            "    Uninstalling google-auth-oauthlib-1.2.0:\n",
            "      Successfully uninstalled google-auth-oauthlib-1.2.0\n",
            "  Attempting uninstall: tensorboard\n",
            "    Found existing installation: tensorboard 2.15.2\n",
            "    Uninstalling tensorboard-2.15.2:\n",
            "      Successfully uninstalled tensorboard-2.15.2\n",
            "  Attempting uninstall: tensorflow\n",
            "    Found existing installation: tensorflow 2.15.0\n",
            "    Uninstalling tensorflow-2.15.0:\n",
            "      Successfully uninstalled tensorflow-2.15.0\n",
            "\u001b[31mERROR: pip's dependency resolver does not currently take into account all the packages that are installed. This behaviour is the source of the following dependency conflicts.\n",
            "torch 2.2.1+cu121 requires nvidia-cublas-cu12==12.1.3.1; platform_system == \"Linux\" and platform_machine == \"x86_64\", which is not installed.\n",
            "torch 2.2.1+cu121 requires nvidia-cuda-cupti-cu12==12.1.105; platform_system == \"Linux\" and platform_machine == \"x86_64\", which is not installed.\n",
            "torch 2.2.1+cu121 requires nvidia-cuda-nvrtc-cu12==12.1.105; platform_system == \"Linux\" and platform_machine == \"x86_64\", which is not installed.\n",
            "torch 2.2.1+cu121 requires nvidia-cuda-runtime-cu12==12.1.105; platform_system == \"Linux\" and platform_machine == \"x86_64\", which is not installed.\n",
            "torch 2.2.1+cu121 requires nvidia-cudnn-cu12==8.9.2.26; platform_system == \"Linux\" and platform_machine == \"x86_64\", which is not installed.\n",
            "torch 2.2.1+cu121 requires nvidia-cufft-cu12==11.0.2.54; platform_system == \"Linux\" and platform_machine == \"x86_64\", which is not installed.\n",
            "torch 2.2.1+cu121 requires nvidia-curand-cu12==10.3.2.106; platform_system == \"Linux\" and platform_machine == \"x86_64\", which is not installed.\n",
            "torch 2.2.1+cu121 requires nvidia-cusolver-cu12==11.4.5.107; platform_system == \"Linux\" and platform_machine == \"x86_64\", which is not installed.\n",
            "torch 2.2.1+cu121 requires nvidia-cusparse-cu12==12.1.0.106; platform_system == \"Linux\" and platform_machine == \"x86_64\", which is not installed.\n",
            "torch 2.2.1+cu121 requires nvidia-nccl-cu12==2.19.3; platform_system == \"Linux\" and platform_machine == \"x86_64\", which is not installed.\n",
            "torch 2.2.1+cu121 requires nvidia-nvtx-cu12==12.1.105; platform_system == \"Linux\" and platform_machine == \"x86_64\", which is not installed.\n",
            "chex 0.1.86 requires jax>=0.4.16, but you have jax 0.4.14 which is incompatible.\n",
            "flax 0.8.2 requires jax>=0.4.19, but you have jax 0.4.14 which is incompatible.\n",
            "google-colab 1.0.0 requires portpicker==1.5.2, but you have portpicker 1.6.0 which is incompatible.\n",
            "ipython-sql 0.5.0 requires sqlalchemy>=2.0, but you have sqlalchemy 1.4.20 which is incompatible.\n",
            "pydantic 2.7.0 requires typing-extensions>=4.6.1, but you have typing-extensions 4.5.0 which is incompatible.\n",
            "pydantic-core 2.18.1 requires typing-extensions!=4.7.0,>=4.6.0, but you have typing-extensions 4.5.0 which is incompatible.\n",
            "tensorflow-metadata 1.14.0 requires protobuf<4.21,>=3.20.3, but you have protobuf 4.25.3 which is incompatible.\n",
            "tf-keras 2.15.1 requires tensorflow<2.16,>=2.15, but you have tensorflow 2.14.1 which is incompatible.\n",
            "torch 2.2.1+cu121 requires typing-extensions>=4.8.0, but you have typing-extensions 4.5.0 which is incompatible.\u001b[0m\u001b[31m\n",
            "\u001b[0mSuccessfully installed attrs-23.1.0 dp-accounting-0.4.3 farmhashpy-0.4.0 google-auth-oauthlib-1.0.0 google-vizier-0.1.11 googleapis-common-protos-1.61.0 grpcio-1.62.2 grpcio-tools-1.62.2 jax-0.4.14 jaxlib-0.4.14 keras-2.14.0 packaging-22.0 portpicker-1.6.0 protobuf-4.25.3 scipy-1.9.3 semantic-version-2.10.0 sqlalchemy-1.4.20 tensorboard-2.14.1 tensorflow-2.14.1 tensorflow-compression-2.14.0 tensorflow-estimator-2.14.0 tensorflow-federated-0.76.0 tensorflow-model-optimization-0.7.5 tensorflow-privacy-0.9.0 tensorflow-probability-0.22.1 typing-extensions-4.5.0\n"
          ]
        },
        {
          "output_type": "display_data",
          "data": {
            "application/vnd.colab-display-data+json": {
              "pip_warning": {
                "packages": [
                  "google",
                  "portpicker"
                ]
              },
              "id": "ab5c65ac04924b9d819ef508698701ab"
            }
          },
          "metadata": {}
        }
      ],
      "source": [
        "!pip install tensorflow-federated"
      ]
    },
    {
      "cell_type": "code",
      "execution_count": null,
      "metadata": {
        "colab": {
          "base_uri": "https://localhost:8080/"
        },
        "id": "MW-hAti_Op8k",
        "outputId": "94b0af86-cc0c-42cd-98dd-dda9c9682ef8"
      },
      "outputs": [
        {
          "output_type": "stream",
          "name": "stdout",
          "text": [
            "Requirement already satisfied: nest-asyncio in /usr/local/lib/python3.10/dist-packages (1.6.0)\n",
            "Requirement already satisfied: pandas in /usr/local/lib/python3.10/dist-packages (2.0.3)\n",
            "Requirement already satisfied: python-dateutil>=2.8.2 in /usr/local/lib/python3.10/dist-packages (from pandas) (2.8.2)\n",
            "Requirement already satisfied: pytz>=2020.1 in /usr/local/lib/python3.10/dist-packages (from pandas) (2023.4)\n",
            "Requirement already satisfied: tzdata>=2022.1 in /usr/local/lib/python3.10/dist-packages (from pandas) (2024.1)\n",
            "Requirement already satisfied: numpy>=1.21.0 in /usr/local/lib/python3.10/dist-packages (from pandas) (1.25.2)\n",
            "Requirement already satisfied: six>=1.5 in /usr/local/lib/python3.10/dist-packages (from python-dateutil>=2.8.2->pandas) (1.16.0)\n",
            "Requirement already satisfied: matplotlib in /usr/local/lib/python3.10/dist-packages (3.7.1)\n",
            "Requirement already satisfied: contourpy>=1.0.1 in /usr/local/lib/python3.10/dist-packages (from matplotlib) (1.2.1)\n",
            "Requirement already satisfied: cycler>=0.10 in /usr/local/lib/python3.10/dist-packages (from matplotlib) (0.12.1)\n",
            "Requirement already satisfied: fonttools>=4.22.0 in /usr/local/lib/python3.10/dist-packages (from matplotlib) (4.51.0)\n",
            "Requirement already satisfied: kiwisolver>=1.0.1 in /usr/local/lib/python3.10/dist-packages (from matplotlib) (1.4.5)\n",
            "Requirement already satisfied: numpy>=1.20 in /usr/local/lib/python3.10/dist-packages (from matplotlib) (1.25.2)\n",
            "Requirement already satisfied: packaging>=20.0 in /usr/local/lib/python3.10/dist-packages (from matplotlib) (22.0)\n",
            "Requirement already satisfied: pillow>=6.2.0 in /usr/local/lib/python3.10/dist-packages (from matplotlib) (9.4.0)\n",
            "Requirement already satisfied: pyparsing>=2.3.1 in /usr/local/lib/python3.10/dist-packages (from matplotlib) (3.1.2)\n",
            "Requirement already satisfied: python-dateutil>=2.7 in /usr/local/lib/python3.10/dist-packages (from matplotlib) (2.8.2)\n",
            "Requirement already satisfied: six>=1.5 in /usr/local/lib/python3.10/dist-packages (from python-dateutil>=2.7->matplotlib) (1.16.0)\n"
          ]
        }
      ],
      "source": [
        "!pip install nest-asyncio\n",
        "!pip install pandas\n",
        "!pip install matplotlib"
      ]
    },
    {
      "cell_type": "code",
      "execution_count": null,
      "metadata": {
        "id": "w8WcqFYsOp8l"
      },
      "outputs": [],
      "source": [
        "import collections\n",
        "import os\n",
        "import pandas as pd\n",
        "import tensorflow as tf\n",
        "import tensorflow_federated as tff\n",
        "import time\n",
        "from matplotlib import pyplot as plt\n",
        "import nest_asyncio\n",
        "import numpy as np\n",
        "nest_asyncio.apply()\n",
        "\n",
        "%matplotlib inline"
      ]
    },
    {
      "cell_type": "code",
      "execution_count": null,
      "metadata": {
        "id": "Csazp1IpOp8l"
      },
      "outputs": [],
      "source": [
        "df_train = pd.read_csv('/content/KDDTrain+.txt')  # Replace with the actual path\n",
        "df_test = pd.read_csv('/content/KDDTest+.txt')"
      ]
    },
    {
      "cell_type": "code",
      "execution_count": null,
      "metadata": {
        "id": "rf-aXIZxOp8m"
      },
      "outputs": [],
      "source": [
        "df_train.columns = ['duration', 'protocol_type', 'service', 'flag', 'src_bytes',\n",
        "'dst_bytes', 'land', 'wrong_fragment', 'urgent', 'hot',\n",
        "'num_failed_logins', 'logged_in', 'num_compromised', 'root_shell',\n",
        "'su_attempted', 'num_root', 'num_file_creations', 'num_shells',\n",
        "'num_access_files', 'num_outbound_cmds', 'is_host_login',\n",
        "'is_guest_login', 'count', 'srv_count', 'serror_rate',\n",
        "'srv_serror_rate', 'rerror_rate', 'srv_rerror_rate', 'same_srv_rate',\n",
        "'diff_srv_rate', 'srv_diff_host_rate', 'dst_host_count',\n",
        "'dst_host_srv_count', 'dst_host_same_srv_rate','dst_host_diff_srv_rate', 'dst_host_same_src_port_rate',\n",
        "'dst_host_srv_diff_host_rate', 'dst_host_serror_rate',\n",
        "'dst_host_srv_serror_rate', 'dst_host_rerror_rate',\n",
        "'dst_host_srv_rerror_rate', 'subclass', 'difficulty_level']\n",
        "\n",
        "df_test.columns = ['duration', 'protocol_type', 'service', 'flag', 'src_bytes',\n",
        "'dst_bytes', 'land', 'wrong_fragment', 'urgent', 'hot',\n",
        "'num_failed_logins', 'logged_in', 'num_compromised', 'root_shell',\n",
        "'su_attempted', 'num_root', 'num_file_creations', 'num_shells',\n",
        "'num_access_files', 'num_outbound_cmds', 'is_host_login',\n",
        "'is_guest_login', 'count', 'srv_count', 'serror_rate',\n",
        "'srv_serror_rate', 'rerror_rate', 'srv_rerror_rate', 'same_srv_rate',\n",
        "'diff_srv_rate', 'srv_diff_host_rate', 'dst_host_count',\n",
        "'dst_host_srv_count', 'dst_host_same_srv_rate','dst_host_diff_srv_rate', 'dst_host_same_src_port_rate',\n",
        "'dst_host_srv_diff_host_rate', 'dst_host_serror_rate',\n",
        "'dst_host_srv_serror_rate', 'dst_host_rerror_rate',\n",
        "'dst_host_srv_rerror_rate', 'subclass', 'difficulty_level']"
      ]
    },
    {
      "cell_type": "code",
      "execution_count": null,
      "metadata": {
        "id": "zg9uMHzsOp8m"
      },
      "outputs": [],
      "source": [
        "df_train = df_train.drop('difficulty_level', axis=1)\n",
        "df_test = df_test.drop('difficulty_level', axis=1)"
      ]
    },
    {
      "cell_type": "code",
      "execution_count": null,
      "metadata": {
        "id": "4G4Z7q1GOp8n"
      },
      "outputs": [],
      "source": [
        "df_train['protocol_type'] = df_train['protocol_type'].str.lower()\n",
        "df_test['protocol_type'] = df_test['protocol_type'].str.lower()\n",
        "\n",
        "df_train['service'] = df_train['service'].str.lower()\n",
        "df_test['service'] = df_test['service'].str.lower()\n",
        "\n",
        "df_train['flag'] = df_train['flag'].str.lower()\n",
        "df_test['flag'] = df_test['flag'].str.lower()"
      ]
    },
    {
      "cell_type": "code",
      "execution_count": null,
      "metadata": {
        "id": "FGH1FbQzOp8n"
      },
      "outputs": [],
      "source": [
        "unique_labels_pro_train = list(df_train.protocol_type.astype('category').unique())\n",
        "unique_codes_pro_train = list(df_train.protocol_type.astype('category').cat.codes.unique())\n",
        "mapping_pro_train = {unique_codes_pro_train[i] : unique_labels_pro_train[i] for i in range(len(unique_labels_pro_train))}\n",
        "\n",
        "unique_labels_pro_test = list(df_test.protocol_type.astype('category').unique())\n",
        "unique_codes_pro_test = list(df_test.protocol_type.astype('category').cat.codes.unique())\n",
        "mapping_pro_test = {unique_codes_pro_test[i] : unique_labels_pro_test[i] for i in range(len(unique_labels_pro_test))}"
      ]
    },
    {
      "cell_type": "code",
      "execution_count": null,
      "metadata": {
        "colab": {
          "base_uri": "https://localhost:8080/"
        },
        "id": "kLT9m8FAOp8o",
        "outputId": "6d4d231b-6fd7-4baf-c050-d795c7890f58"
      },
      "outputs": [
        {
          "output_type": "stream",
          "name": "stdout",
          "text": [
            "{1: 'tcp', 0: 'icmp', 2: 'udp'}\n",
            "{2: 'udp', 1: 'tcp', 0: 'icmp'}\n"
          ]
        }
      ],
      "source": [
        "print(mapping_pro_test)\n",
        "print(mapping_pro_train)"
      ]
    },
    {
      "cell_type": "code",
      "execution_count": null,
      "metadata": {
        "id": "MzUMJc7xOp8o"
      },
      "outputs": [],
      "source": [
        "df_train['protocol_type'] = df_train['protocol_type'].replace(unique_labels_pro_train, unique_codes_pro_train)\n",
        "df_test['protocol_type'] = df_test['protocol_type'].replace(unique_labels_pro_test, unique_codes_pro_test)"
      ]
    },
    {
      "cell_type": "code",
      "execution_count": null,
      "metadata": {
        "id": "wyS6ZwTqOp8o"
      },
      "outputs": [],
      "source": [
        "unique_labels_ser_train = list(df_train.service.astype('category').unique())\n",
        "unique_codes_ser_train = list(df_train.service.astype('category').cat.codes.unique())\n",
        "mapping_ser_train = {unique_codes_ser_train[i] : unique_labels_ser_train[i] for i in range(len(unique_labels_ser_train))}\n",
        "\n",
        "unique_labels_ser_test = list(df_test.service.astype('category').unique())\n",
        "unique_codes_ser_test = list(df_test.service.astype('category').cat.codes.unique())\n",
        "mapping_ser_test = {unique_codes_ser_test[i] : unique_labels_ser_test[i] for i in range(len(unique_labels_ser_test))}"
      ]
    },
    {
      "cell_type": "code",
      "execution_count": null,
      "metadata": {
        "colab": {
          "base_uri": "https://localhost:8080/"
        },
        "id": "qowDRRuyOp8p",
        "outputId": "b2bbee6f-a9b9-457d-ee4c-49235ce2bf24"
      },
      "outputs": [
        {
          "output_type": "stream",
          "name": "stdout",
          "text": [
            "{43: 'private', 16: 'ftp_data', 10: 'eco_i', 53: 'telnet', 19: 'http', 47: 'smtp', 15: 'ftp', 26: 'ldap', 41: 'pop_3', 2: 'courier', 6: 'discard', 11: 'ecr_i', 21: 'imap4', 8: 'domain_u', 29: 'mtp', 52: 'systat', 23: 'iso_tsap', 38: 'other', 3: 'csnet_ns', 14: 'finger', 58: 'uucp', 61: 'whois', 32: 'netbios_ns', 27: 'link', 63: 'z39_50', 50: 'sunrpc', 0: 'auth', 31: 'netbios_dgm', 59: 'uucp_path', 60: 'vmnet', 7: 'domain', 30: 'name', 40: 'pop_2', 20: 'http_443', 57: 'urp_i', 28: 'login', 17: 'gopher', 13: 'exec', 56: 'time', 44: 'remote_job', 49: 'ssh', 25: 'kshell', 48: 'sql_net', 46: 'shell', 18: 'hostnames', 9: 'echo', 5: 'daytime', 39: 'pm_dump', 22: 'irc', 34: 'netstat', 4: 'ctf', 36: 'nntp', 33: 'netbios_ssn', 55: 'tim_i', 51: 'supdup', 1: 'bgp', 35: 'nnsp', 45: 'rje', 42: 'printer', 12: 'efs', 62: 'x11', 37: 'ntp_u', 24: 'klogin', 54: 'tftp_u'}\n",
            "{42: 'other', 47: 'private', 21: 'http', 49: 'remote_job', 17: 'ftp_data', 34: 'name', 36: 'netbios_ns', 11: 'eco_i', 33: 'mtp', 58: 'telnet', 15: 'finger', 9: 'domain_u', 56: 'supdup', 65: 'uucp_path', 69: 'z39_50', 52: 'smtp', 4: 'csnet_ns', 64: 'uucp', 35: 'netbios_dgm', 63: 'urp_i', 1: 'auth', 8: 'domain', 16: 'ftp', 2: 'bgp', 30: 'ldap', 12: 'ecr_i', 18: 'gopher', 66: 'vmnet', 57: 'systat', 23: 'http_443', 13: 'efs', 67: 'whois', 25: 'imap4', 27: 'iso_tsap', 10: 'echo', 28: 'klogin', 31: 'link', 55: 'sunrpc', 32: 'login', 29: 'kshell', 53: 'sql_net', 61: 'time', 20: 'hostnames', 14: 'exec', 41: 'ntp_u', 7: 'discard', 40: 'nntp', 3: 'courier', 5: 'ctf', 54: 'ssh', 6: 'daytime', 51: 'shell', 38: 'netstat', 45: 'pop_3', 39: 'nnsp', 26: 'irc', 44: 'pop_2', 46: 'printer', 60: 'tim_i', 43: 'pm_dump', 48: 'red_i', 37: 'netbios_ssn', 50: 'rje', 68: 'x11', 62: 'urh_i', 24: 'http_8001', 0: 'aol', 22: 'http_2784', 59: 'tftp_u', 19: 'harvest'}\n"
          ]
        }
      ],
      "source": [
        "print(mapping_ser_test)\n",
        "print(mapping_ser_train)"
      ]
    },
    {
      "cell_type": "code",
      "execution_count": null,
      "metadata": {
        "id": "p1Qjdb4iOp8p"
      },
      "outputs": [],
      "source": [
        "df_train['service'] = df_train['service'].replace(unique_labels_ser_train, unique_codes_ser_train)\n",
        "df_test['service'] = df_test['service'].replace(unique_labels_ser_test, unique_codes_ser_test)"
      ]
    },
    {
      "cell_type": "code",
      "execution_count": null,
      "metadata": {
        "id": "wAtIuFW4Op8q"
      },
      "outputs": [],
      "source": [
        "unique_labels_flag_train = list(df_train.flag.astype('category').unique())\n",
        "unique_codes_flag_train = list(df_train.flag.astype('category').cat.codes.unique())\n",
        "mapping_flag_train = {unique_codes_flag_train[i] : unique_labels_flag_train[i] for i in range(len(unique_labels_flag_train))}\n",
        "\n",
        "unique_labels_flag_test = list(df_test.flag.astype('category').unique())\n",
        "unique_codes_flag_test = list(df_test.flag.astype('category').cat.codes.unique())\n",
        "mapping_flag_test = {unique_codes_flag_test[i] : unique_labels_flag_test[i] for i in range(len(unique_labels_flag_test))}"
      ]
    },
    {
      "cell_type": "code",
      "execution_count": null,
      "metadata": {
        "id": "oS2gp0ftOp8r"
      },
      "outputs": [],
      "source": [
        "df_train['flag'] = df_train['flag'].replace(unique_labels_flag_train, unique_codes_flag_train)\n",
        "df_test['flag'] = df_test['flag'].replace(unique_labels_flag_test, unique_codes_flag_test)"
      ]
    },
    {
      "cell_type": "code",
      "execution_count": null,
      "metadata": {
        "id": "uizoCCX3Op8r"
      },
      "outputs": [],
      "source": [
        "\n",
        "df_train['subclass'] = df_train['subclass'].str.lower()\n",
        "df_test['subclass'] = df_test['subclass'].str.lower()"
      ]
    },
    {
      "cell_type": "code",
      "execution_count": null,
      "metadata": {
        "id": "hiK8u5FNOp8r"
      },
      "outputs": [],
      "source": [
        "\n",
        "tmp = df_train.pop('subclass')\n",
        "tmp1 = df_test.pop('subclass')"
      ]
    },
    {
      "cell_type": "code",
      "execution_count": null,
      "metadata": {
        "id": "zac9IozXOp8r"
      },
      "outputs": [],
      "source": [
        "classlist=[]\n",
        "classlist_test=[]\n",
        "NormalCount = 0\n",
        "AttackCount = 0\n",
        "NormalCount_test = 0\n",
        "AttackCount_test = 0\n",
        "\n",
        "for item in tmp:\n",
        "    if(item == \"normal\"):\n",
        "        classlist.append(\"normal\")\n",
        "        NormalCount+=1\n",
        "    else:\n",
        "        classlist.append(\"attack\")\n",
        "        AttackCount+=1\n",
        "\n",
        "for item in tmp1:\n",
        "    if(item == \"normal\"):\n",
        "        classlist_test.append(\"normal\")\n",
        "        NormalCount_test+=1\n",
        "    else:\n",
        "        classlist_test.append(\"attack\")\n",
        "        AttackCount_test+=1"
      ]
    },
    {
      "cell_type": "code",
      "execution_count": null,
      "metadata": {
        "id": "t6LsXmtROp8r"
      },
      "outputs": [],
      "source": [
        "df_train[\"subclass\"] =classlist\n",
        "df_test[\"subclass\"] = classlist_test"
      ]
    },
    {
      "cell_type": "code",
      "execution_count": null,
      "metadata": {
        "id": "8GDP0iP8Op8r"
      },
      "outputs": [],
      "source": [
        "unique_labels = list(df_train.subclass.astype('category').unique())\n",
        "unique_codes = list(df_train.subclass.astype('category').cat.codes.unique())\n",
        "mapping = {unique_codes[i] : unique_labels[i] for i in range(len(unique_labels))}\n",
        "\n",
        "unique_labels_test = list(df_test.subclass.astype('category').unique())\n",
        "unique_codes_test = list(df_test.subclass.astype('category').cat.codes.unique())\n",
        "mapping_test = {unique_codes_test[i] : unique_labels_test[i] for i in range(len(unique_labels_test))}"
      ]
    },
    {
      "cell_type": "code",
      "execution_count": null,
      "metadata": {
        "id": "2_wqKhCMOp8s"
      },
      "outputs": [],
      "source": [
        "df_train['subclass'] = df_train['subclass'].replace(unique_labels, unique_codes)\n",
        "df_test['subclass'] = df_test['subclass'].replace(unique_labels_test, unique_codes_test)"
      ]
    },
    {
      "cell_type": "code",
      "execution_count": null,
      "metadata": {
        "id": "VS2deWRPOp8s"
      },
      "outputs": [],
      "source": [
        "\n",
        "train = df_train\n",
        "test = df_test"
      ]
    },
    {
      "cell_type": "code",
      "execution_count": null,
      "metadata": {
        "colab": {
          "base_uri": "https://localhost:8080/"
        },
        "id": "0V73kwztOp8s",
        "outputId": "045c9cb9-6dfd-475c-f442-b21f82ccd71e"
      },
      "outputs": [
        {
          "output_type": "stream",
          "name": "stdout",
          "text": [
            "df train[0] size  125972\n",
            "25194 5038.8\n",
            "df-test size 22543\n"
          ]
        }
      ],
      "source": [
        "n_workers=5\n",
        "n_samples = int(df_train.shape[0] / n_workers)\n",
        "print(\"df train[0] size \",df_train.shape[0])\n",
        "print(n_samples,n_samples/n_workers)\n",
        "n_samples_test = int(df_test.shape[0]/n_workers)\n",
        "print(\"df-test size\",df_test.shape[0])\n",
        "assert n_samples > 0, \"Each worker must be assigned at least one data point\""
      ]
    },
    {
      "cell_type": "code",
      "execution_count": null,
      "metadata": {
        "colab": {
          "base_uri": "https://localhost:8080/"
        },
        "id": "KeuRxmOvOp8s",
        "outputId": "b2c248c1-dd00-4dca-fa22-0ce29a8c7183"
      },
      "outputs": [
        {
          "output_type": "stream",
          "name": "stdout",
          "text": [
            "2  output_shape\n",
            "shuffle_buffer_size  125972\n",
            "batch_size  250\n",
            "prefetch_buffer_size  50\n",
            "input_shape  41\n",
            "22543 shuffle_buffer_size_test\n",
            "41 input_shape_test\n",
            "2 output_shape_test\n"
          ]
        }
      ],
      "source": [
        "import numpy as np\n",
        "n_epochs = 10\n",
        "shuffle_buffer_size = df_train.shape[0]\n",
        "batch_size = 250\n",
        "prefetch_buffer_size = 50\n",
        "input_shape = df_train.shape[1]-1\n",
        "output_shape = len(unique_codes)\n",
        "print(output_shape , \" output_shape\")\n",
        "print(\"shuffle_buffer_size \", shuffle_buffer_size)\n",
        "print(\"batch_size \",batch_size)\n",
        "print(\"prefetch_buffer_size \", prefetch_buffer_size)\n",
        "print(\"input_shape \", input_shape)\n",
        "\n",
        "shuffle_buffer_size_test = df_test.shape[0]\n",
        "print(shuffle_buffer_size_test, \"shuffle_buffer_size_test\")\n",
        "batch_size_test = 250\n",
        "prefetch_buffer_size_test = 50\n",
        "input_shape_test = df_test.shape[1]-1\n",
        "print(input_shape_test,\"input_shape_test\")\n",
        "output_shape_test = len(unique_codes_test)\n",
        "print(output_shape_test,\"output_shape_test\")"
      ]
    },
    {
      "cell_type": "code",
      "execution_count": null,
      "metadata": {
        "id": "clwjwctsOp8s"
      },
      "outputs": [],
      "source": [
        "def preprocess(dataframe):\n",
        "\n",
        "    \"\"\"Flatten a batch `pixels` and return the features as an `OrderedDict`.\"\"\"\n",
        "    def map_fn(dataset):\n",
        "        return collections.OrderedDict(\n",
        "            x=tf.cast(dataset[:,:-1], tf.float64),\n",
        "            y=tf.cast(tf.reshape(dataset[:,-1], shape=(-1, 1)), tf.int64)\n",
        "        )\n",
        "\n",
        "    return tf.data.Dataset.from_tensor_slices(dataframe).repeat(n_epochs).shuffle(\n",
        "        shuffle_buffer_size).batch(batch_size).map(map_fn).prefetch(prefetch_buffer_size)\n",
        "\n",
        "\n",
        "client_data = [preprocess(train.sample(n=n_samples)) for _ in range(n_workers)]"
      ]
    },
    {
      "cell_type": "code",
      "execution_count": null,
      "metadata": {
        "id": "tlNjgMwEOp8s"
      },
      "outputs": [],
      "source": [
        "def preprocess_test(dataframe):\n",
        "\n",
        "    \"\"\"Flatten a batch `pixels` and return the features as an `OrderedDict`.\"\"\"\n",
        "    def map_fn(dataset):\n",
        "        return collections.OrderedDict(\n",
        "            x=tf.cast(dataset[:,:-1], tf.float64),\n",
        "            y=tf.cast(tf.reshape(dataset[:,-1], shape=(-1, 1)), tf.int64)\n",
        "        )\n",
        "\n",
        "    return tf.data.Dataset.from_tensor_slices(dataframe).repeat(n_epochs).shuffle(\n",
        "        shuffle_buffer_size_test).batch(batch_size_test).map(map_fn).prefetch(prefetch_buffer_size_test)\n",
        "\n",
        "\n",
        "client_data_test = [preprocess(test.sample(n=n_samples_test)) for _ in range(n_workers)]"
      ]
    },
    {
      "cell_type": "code",
      "execution_count": null,
      "metadata": {
        "colab": {
          "base_uri": "https://localhost:8080/"
        },
        "id": "GkvCUN1gOp8s",
        "outputId": "925327fe-4ccd-4632-a307-5f341ed7b92d"
      },
      "outputs": [
        {
          "output_type": "stream",
          "name": "stdout",
          "text": [
            "Worker 1 data contains 1008 training points\n",
            "Worker 2 data contains 1008 training points\n",
            "Worker 3 data contains 1008 training points\n",
            "Worker 4 data contains 1008 training points\n",
            "Worker 5 data contains 1008 training points\n"
          ]
        }
      ],
      "source": [
        "for i in range(n_workers):\n",
        "    print(f\"Worker {i+1} data contains {len(client_data[i])} training points\")"
      ]
    },
    {
      "cell_type": "code",
      "execution_count": null,
      "metadata": {
        "colab": {
          "base_uri": "https://localhost:8080/"
        },
        "id": "eBuvIRI-Op8t",
        "outputId": "a4804dd5-1a1e-443e-893e-5fd746b799f0"
      },
      "outputs": [
        {
          "output_type": "stream",
          "name": "stdout",
          "text": [
            "Worker 1 data contains 181 testing points\n",
            "Worker 2 data contains 181 testing points\n",
            "Worker 3 data contains 181 testing points\n",
            "Worker 4 data contains 181 testing points\n",
            "Worker 5 data contains 181 testing points\n"
          ]
        }
      ],
      "source": [
        "for i in range(n_workers):\n",
        "    print(f\"Worker {i+1} data contains {len(client_data_test[i])} testing points\")"
      ]
    },
    {
      "cell_type": "code",
      "execution_count": null,
      "metadata": {
        "colab": {
          "base_uri": "https://localhost:8080/",
          "height": 169
        },
        "id": "MMGASMhpOp8t",
        "outputId": "c34f67e0-cc53-4f12-e3a1-73f74b8c13fb"
      },
      "outputs": [
        {
          "output_type": "display_data",
          "data": {
            "text/plain": [
              "<Figure size 2000x700 with 5 Axes>"
            ],
            "image/png": "[encoded data removed]"
          },
          "metadata": {}
        }
      ],
      "source": [
        "import matplotlib.pyplot as plt\n",
        "\n",
        "fig = plt.figure(figsize=(20, 7))\n",
        "fig.suptitle('Label Counts for a Sample of Worker Data')\n",
        "fig.tight_layout()\n",
        "\n",
        "for i in range(n_workers):\n",
        "    m = 0\n",
        "    plot_data = collections.defaultdict(list)\n",
        "    for label in list(client_data[i])[0]['y'].numpy()[:,0]:\n",
        "        plot_data[label].append(label)\n",
        "        m = max(m, len(plot_data[label]))\n",
        "\n",
        "    n_cols = n_workers if n_workers < 5 else 5\n",
        "    xlim = [0, m+(5-m%5)]\n",
        "    ylim = [min(unique_codes)-1, max(unique_codes)+1]\n",
        "    yticks = list(range(min(unique_codes), max(unique_codes)+1))\n",
        "    yticks_labels = [mapping[k] for k in range(0, max(unique_codes)+1)]\n",
        "\n",
        "    plt.subplot(int(n_workers / 5)+1, n_cols, i+1)\n",
        "    plt.subplots_adjust(wspace=0.3)\n",
        "    plt.title('Worker {}'.format(i+1))\n",
        "    plt.xlabel('#points')\n",
        "    plt.xlim(xlim)\n",
        "    plt.ylabel('Label')\n",
        "    plt.ylim(ylim)\n",
        "    plt.yticks(yticks, labels=yticks_labels)\n",
        "\n",
        "\n",
        "    for key in plot_data:\n",
        "        if len(plot_data[key]) > 0:\n",
        "            plt.text(len(plot_data[key])+0.6, int(key)-0.1, str(len(plot_data[key])), ha='center')\n",
        "\n",
        "    for j in range(min(unique_codes),max(unique_codes)+1):\n",
        "        plt.hist(\n",
        "            plot_data[j],\n",
        "            density=False,\n",
        "            bins=[k-0.5 for k in range(min(unique_codes),max(unique_codes)+2)],\n",
        "            orientation='horizontal'\n",
        "        )"
      ]
    },
    {
      "cell_type": "code",
      "execution_count": null,
      "metadata": {
        "id": "sq2mfzboOp8t"
      },
      "outputs": [],
      "source": [
        "\n",
        "from keras.models import Sequential\n",
        "from keras.layers import Dense, Dropout, Activation, Embedding\n",
        "from keras.layers import LSTM, SimpleRNN, GRU, Bidirectional, BatchNormalization,Convolution1D,MaxPooling1D, Reshape, GlobalAveragePooling1D,Dense,GroupNormalization\n",
        "from tensorflow.keras.metrics import BinaryAccuracy, Precision, Recall"
      ]
    },
    {
      "cell_type": "code",
      "execution_count": null,
      "metadata": {
        "id": "YXWGbm7zOp8t"
      },
      "outputs": [],
      "source": [
        "def model_fn():\n",
        "    model = tf.keras.models.Sequential([\n",
        "        tf.keras.layers.InputLayer(input_shape=input_shape),\n",
        "        tf.keras.layers.Reshape((1, -1)),  # Reshape input to have shape (batch_size, 1, input_dim)\n",
        "        tf.keras.layers.Bidirectional(tf.keras.layers.LSTM(32, activation='relu')),\n",
        "        tf.keras.layers.Dense(64, activation='relu'),\n",
        "        tf.keras.layers.Dense(32, activation='relu'),\n",
        "        tf.keras.layers.Dense(1, activation='sigmoid'),\n",
        "    ])\n",
        "    return tff.learning.models.from_keras_model(\n",
        "        model,\n",
        "        input_spec=collections.OrderedDict(\n",
        "            x=tf.TensorSpec(shape=[None, input_shape], dtype=tf.float64),\n",
        "            y=tf.TensorSpec(shape=[None, 1], dtype=tf.int64)),\n",
        "        loss=tf.keras.losses.BinaryCrossentropy(),\n",
        "        metrics=[BinaryAccuracy(), Precision(), Recall()])"
      ]
    },
    {
      "cell_type": "code",
      "execution_count": null,
      "metadata": {
        "id": "2k21j_ZHOp8t"
      },
      "outputs": [],
      "source": [
        "trainer = tff.learning.algorithms.build_weighted_fed_avg(\n",
        "    model_fn,\n",
        "    client_optimizer_fn=lambda: tf.keras.optimizers.SGD(learning_rate=0.01),\n",
        "    server_optimizer_fn=lambda: tf.keras.optimizers.SGD(learning_rate=1.0)\n",
        ")"
      ]
    },
    {
      "cell_type": "code",
      "execution_count": null,
      "metadata": {
        "colab": {
          "base_uri": "https://localhost:8080/"
        },
        "id": "TP0qhuCSOp8t",
        "outputId": "b009ea71-afc3-4eec-ef24-46d358f81055"
      },
      "outputs": [
        {
          "output_type": "stream",
          "name": "stdout",
          "text": [
            "( -> <\n",
            "  global_model_weights=<\n",
            "    trainable=<\n",
            "      float32[41,128],\n",
            "      float32[32,128],\n",
            "      float32[128],\n",
            "      float32[41,128],\n",
            "      float32[32,128],\n",
            "      float32[128],\n",
            "      float32[64,64],\n",
            "      float32[64],\n",
            "      float32[64,32],\n",
            "      float32[32],\n",
            "      float32[32,1],\n",
            "      float32[1]\n",
            "    >,\n",
            "    non_trainable=<>\n",
            "  >,\n",
            "  distributor=<>,\n",
            "  client_work=<>,\n",
            "  aggregator=<\n",
            "    value_sum_process=<>,\n",
            "    weight_sum_process=<>\n",
            "  >,\n",
            "  finalizer=<\n",
            "    int64,\n",
            "    float32[41,128],\n",
            "    float32[32,128],\n",
            "    float32[128],\n",
            "    float32[41,128],\n",
            "    float32[32,128],\n",
            "    float32[128],\n",
            "    float32[64,64],\n",
            "    float32[64],\n",
            "    float32[64,32],\n",
            "    float32[32],\n",
            "    float32[32,1],\n",
            "    float32[1]\n",
            "  >\n",
            ">@SERVER)\n"
          ]
        }
      ],
      "source": [
        "print(trainer.initialize.type_signature.formatted_representation())"
      ]
    },
    {
      "cell_type": "code",
      "execution_count": null,
      "metadata": {
        "id": "5xa7q1zVOp8u"
      },
      "outputs": [],
      "source": [
        "def evaluate(num_rounds):\n",
        "    state = trainer.initialize()\n",
        "    for round in range(num_rounds):\n",
        "        t1 = time.time()\n",
        "        result = trainer.next(state, client_data)\n",
        "        state = result.state\n",
        "        train_metrics = result.metrics['client_work']['train']\n",
        "        # print(train_metrics)\n",
        "\n",
        "\n",
        "        train_accuracy = train_metrics['binary_accuracy'] * 100\n",
        "        train_precision = train_metrics['precision'] * 100\n",
        "        train_recall = train_metrics['recall']*100\n",
        "\n",
        "\n",
        "        t2 = time.time()\n",
        "        print('Round {}: accuracy {}, Precision {}, Recall {},round time {}'.format(\n",
        "            round+1, train_accuracy, train_precision,train_recall, t2 - t1))"
      ]
    },
    {
      "cell_type": "code",
      "execution_count": null,
      "metadata": {
        "colab": {
          "base_uri": "https://localhost:8080/"
        },
        "id": "HBYCiaQjOp8u",
        "outputId": "a2e5c6ae-e26b-483c-a007-f3ac2602b2c1"
      },
      "outputs": [
        {
          "output_type": "stream",
          "name": "stdout",
          "text": [
            "Round 1: accuracy 94.55108642578125, Precision 93.52393746376038, Recall 96.50986194610596,round time 25.3650963306427\n",
            "Round 2: accuracy 95.58553695678711, Precision 93.55878233909607, Recall 98.54267835617065,round time 26.744882583618164\n",
            "Round 3: accuracy 96.00802063941956, Precision 94.06864643096924, Recall 98.77521395683289,round time 26.92136549949646\n",
            "Round 4: accuracy 96.38223648071289, Precision 94.47552561759949, Recall 99.03694987297058,round time 22.18066644668579\n",
            "Round 5: accuracy 96.53147459030151, Precision 94.65135335922241, Recall 99.12587404251099,round time 25.45225167274475\n",
            "Round 6: accuracy 96.58164381980896, Precision 94.67899799346924, Recall 99.19271469116211,round time 22.365360498428345\n",
            "Round 7: accuracy 96.6427743434906, Precision 94.65816020965576, Recall 99.33810830116272,round time 25.266868114471436\n",
            "Round 8: accuracy 96.76240086555481, Precision 94.8418915271759, Recall 99.35929775238037,round time 23.514891147613525\n",
            "Round 9: accuracy 96.90394401550293, Precision 94.98131275177002, Recall 99.47593808174133,round time 24.942305326461792\n",
            "Round 10: accuracy 96.75621390342712, Precision 94.77632641792297, Recall 99.42377209663391,round time 26.297664403915405\n",
            "Round 11: accuracy 97.02222943305969, Precision 95.11112570762634, Recall 99.55804347991943,round time 25.280966997146606\n",
            "Round 12: accuracy 96.9853162765503, Precision 95.0521171092987, Recall 99.55389499664307,round time 25.288623571395874\n",
            "Round 13: accuracy 97.03747034072876, Precision 95.11833190917969, Recall 99.57968592643738,round time 22.410672187805176\n",
            "Round 14: accuracy 97.06326723098755, Precision 95.1353907585144, Recall 99.61065649986267,round time 24.06095242500305\n",
            "Round 15: accuracy 97.05517292022705, Precision 95.14491558074951, Recall 99.5836853981018,round time 24.641919136047363\n",
            "Round 16: accuracy 97.0685064792633, Precision 95.1689600944519, Recall 99.58205223083496,round time 24.80777335166931\n",
            "Round 17: accuracy 97.10407257080078, Precision 95.19659280776978, Recall 99.61999654769897,round time 23.718913316726685\n",
            "Round 18: accuracy 97.11931347846985, Precision 95.20045518875122, Recall 99.64548945426941,round time 26.715834856033325\n",
            "Round 19: accuracy 97.067791223526, Precision 95.1411485671997, Recall 99.6128797531128,round time 33.775816440582275\n",
            "Round 20: accuracy 97.14765548706055, Precision 95.23476362228394, Recall 99.6614933013916,round time 26.034900188446045\n",
            "Round 21: accuracy 97.11907505989075, Precision 95.19442319869995, Recall 99.65201020240784,round time 25.21627426147461\n",
            "Round 22: accuracy 97.14527130126953, Precision 95.22725939750671, Recall 99.66549873352051,round time 26.250870943069458\n",
            "Round 23: accuracy 97.1243143081665, Precision 95.21804451942444, Recall 99.63496327400208,round time 24.682570457458496\n",
            "Round 24: accuracy 97.14884757995605, Precision 95.24293541908264, Recall 99.6543824672699,round time 24.731410264968872\n",
            "Round 25: accuracy 97.15352654457092, Precision 95.24295330047607, Recall 99.66356754302979,round time 29.868645191192627\n"
          ]
        }
      ],
      "source": [
        "evaluate(25)"
      ]
    },
    {
      "cell_type": "code",
      "execution_count": null,
      "metadata": {
        "id": "V6zfzWW3Op8u"
      },
      "outputs": [],
      "source": [
        "def evaluate_test(num_rounds):\n",
        "    state = trainer.initialize()\n",
        "    for round in range(num_rounds):\n",
        "        t1 = time.time()\n",
        "        result = trainer.next(state, client_data_test)\n",
        "        state = result.state\n",
        "        # print(result.metrics)\n",
        "        test_metrics = result.metrics['client_work']['train']\n",
        "        # print(train_metrics)\n",
        "\n",
        "\n",
        "        test_accuracy = test_metrics['binary_accuracy'] * 100\n",
        "        test_precision = test_metrics['precision'] * 100\n",
        "        test_recall = test_metrics['recall']*100\n",
        "\n",
        "\n",
        "        t2 = time.time()\n",
        "        print('Round {} : accuracy {}, Precision {}, Recall {}, round time {}'.format(\n",
        "            round+1, test_accuracy, test_precision,test_recall, t2 - t1))"
      ]
    },
    {
      "cell_type": "code",
      "execution_count": null,
      "metadata": {
        "colab": {
          "base_uri": "https://localhost:8080/"
        },
        "id": "lmOeQL-uOp8u",
        "outputId": "fe95a237-c043-434d-d326-0f845cb57eb7"
      },
      "outputs": [
        {
          "output_type": "stream",
          "name": "stdout",
          "text": [
            "Round 1 : accuracy 79.30922508239746, Precision 81.13594055175781, Recall 67.31785535812378, round time 4.503939390182495\n",
            "Round 2 : accuracy 85.12067198753357, Precision 82.38871693611145, Recall 82.97958374023438, round time 7.882015228271484\n",
            "Round 3 : accuracy 87.83984184265137, Precision 88.2470190525055, Recall 82.5940489768982, round time 6.563726902008057\n",
            "Round 4 : accuracy 91.73646569252014, Precision 96.70233726501465, Recall 83.54544639587402, round time 4.0816192626953125\n",
            "Round 5 : accuracy 92.30834245681763, Precision 96.27585411071777, Recall 85.33319234848022, round time 4.32458758354187\n",
            "Round 6 : accuracy 92.26707816123962, Precision 97.41513729095459, Recall 84.16934609413147, round time 6.913814306259155\n",
            "Round 7 : accuracy 89.7936999797821, Precision 96.48654460906982, Recall 79.03617024421692, round time 4.2726287841796875\n",
            "Round 8 : accuracy 89.87267017364502, Precision 96.41943573951721, Recall 79.28697466850281, round time 4.301457643508911\n",
            "Round 9 : accuracy 83.3553671836853, Precision 94.63661313056946, Recall 64.79013562202454, round time 7.044275522232056\n",
            "Round 10 : accuracy 85.65483689308167, Precision 96.04806303977966, Recall 69.34293508529663, round time 4.380075693130493\n",
            "Round 11 : accuracy 84.59760546684265, Precision 96.14126086235046, Recall 66.69706702232361, round time 4.322726488113403\n",
            "Round 12 : accuracy 87.21339702606201, Precision 82.8162133693695, Recall 88.49207162857056, round time 6.497401237487793\n",
            "Round 13 : accuracy 87.7329170703888, Precision 79.93095517158508, Recall 95.26272416114807, round time 4.96820592880249\n",
            "Round 14 : accuracy 89.7085189819336, Precision 83.07595252990723, Recall 95.3922688961029, round time 4.569873332977295\n",
            "Round 15 : accuracy 89.54658508300781, Precision 82.95614719390869, Recall 95.1248824596405, round time 5.987425327301025\n",
            "Round 16 : accuracy 87.39840388298035, Precision 79.30547595024109, Recall 95.47725319862366, round time 5.3078625202178955\n",
            "Round 17 : accuracy 86.23912930488586, Precision 77.1976888179779, Recall 96.29909992218018, round time 4.480858564376831\n",
            "Round 18 : accuracy 87.50709891319275, Precision 79.29819226264954, Recall 95.83584070205688, round time 5.707908630371094\n",
            "Round 19 : accuracy 89.12067413330078, Precision 81.82903528213501, Recall 95.87625861167908, round time 5.50584864616394\n",
            "Round 20 : accuracy 87.97382712364197, Precision 79.96769547462463, Recall 95.94051241874695, round time 4.15764856338501\n",
            "Round 21 : accuracy 86.56299710273743, Precision 77.73272395133972, Recall 96.15607857704163, round time 4.74097752571106\n",
            "Round 22 : accuracy 84.90239381790161, Precision 75.0284492969513, Recall 97.02455997467041, round time 6.3087685108184814\n",
            "Round 23 : accuracy 84.92103219032288, Precision 75.05773305892944, Recall 97.01420068740845, round time 4.5061211585998535\n",
            "Round 24 : accuracy 84.91836786270142, Precision 75.06014704704285, Recall 96.99864983558655, round time 4.2213733196258545\n",
            "Round 25 : accuracy 84.20630097389221, Precision 74.04155135154724, Recall 97.17483520507812, round time 7.040030479431152\n",
            "Round 26 : accuracy 84.5732033252716, Precision 74.61198568344116, Recall 96.95305228233337, round time 4.136871814727783\n",
            "Round 27 : accuracy 85.90949177742004, Precision 77.32699513435364, Recall 94.9144959449768, round time 4.202423810958862\n",
            "Round 28 : accuracy 88.41748237609863, Precision 81.09092116355896, Recall 95.1248824596405, round time 6.6862101554870605\n",
            "Round 29 : accuracy 89.17790651321411, Precision 82.3952853679657, Recall 95.02228498458862, round time 4.592595815658569\n",
            "Round 30 : accuracy 88.62466812133789, Precision 81.45421743392944, Recall 95.07409930229187, round time 4.4357640743255615\n",
            "Round 31 : accuracy 88.45385909080505, Precision 80.99133372306824, Recall 95.42439579963684, round time 5.845028877258301\n",
            "Round 32 : accuracy 88.44010829925537, Precision 80.88505864143372, Recall 95.585036277771, round time 5.2714149951934814\n",
            "Round 33 : accuracy 88.65261673927307, Precision 81.42053484916687, Recall 95.22126913070679, round time 4.192543983459473\n",
            "Round 34 : accuracy 88.54125738143921, Precision 80.98286390304565, Recall 95.70732712745667, round time 6.074602127075195\n",
            "Round 35 : accuracy 89.16548490524292, Precision 82.1538507938385, Recall 95.41817903518677, round time 7.928031921386719\n",
            "Round 36 : accuracy 89.49778079986572, Precision 82.69956111907959, Recall 95.43061256408691, round time 4.423137664794922\n",
            "Round 37 : accuracy 90.05722999572754, Precision 83.58099460601807, Recall 95.54254412651062, round time 4.19862961769104\n",
            "Round 38 : accuracy 89.87799286842346, Precision 83.1980049610138, Recall 95.67727446556091, round time 6.778943300247192\n",
            "Round 39 : accuracy 90.14152884483337, Precision 83.69767665863037, Recall 95.58917880058289, round time 7.507270812988281\n",
            "Round 40 : accuracy 90.17435908317566, Precision 83.69272351264954, Recall 95.69281935691833, round time 4.557922601699829\n",
            "Round 41 : accuracy 89.99733924865723, Precision 83.447927236557, Recall 95.59539556503296, round time 4.282947063446045\n",
            "Round 42 : accuracy 90.17036557197571, Precision 83.63590240478516, Recall 95.77780365943909, round time 7.108028411865234\n",
            "Round 43 : accuracy 90.18810987472534, Precision 83.68570804595947, Recall 95.74463963508606, round time 4.182618141174316\n",
            "Round 44 : accuracy 90.21694660186768, Precision 83.7539792060852, Recall 95.71250677108765, round time 4.263241767883301\n",
            "Round 45 : accuracy 90.28926491737366, Precision 83.80734920501709, Recall 95.83169221878052, round time 6.846553564071655\n",
            "Round 46 : accuracy 89.12333846092224, Precision 81.68315887451172, Recall 96.15400433540344, round time 4.663606882095337\n",
            "Round 47 : accuracy 88.12333345413208, Precision 80.15101552009583, Recall 96.04000449180603, round time 4.0596253871917725\n",
            "Round 48 : accuracy 84.52883958816528, Precision 74.73466396331787, Recall 96.47424817085266, round time 6.097145080566406\n",
            "Round 49 : accuracy 82.04702734947205, Precision 71.13315463066101, Recall 97.7168619632721, round time 5.274573087692261\n",
            "Round 50 : accuracy 82.3141098022461, Precision 71.43462896347046, Recall 97.79044389724731, round time 4.454549074172974\n",
            "Round 51 : accuracy 82.33141303062439, Precision 71.45637273788452, Recall 97.78836965560913, round time 5.45377254486084\n",
            "Round 52 : accuracy 82.39219188690186, Precision 71.50483131408691, Recall 97.87024855613708, round time 6.084472417831421\n",
            "Round 53 : accuracy 82.47737288475037, Precision 71.59779667854309, Recall 97.90548086166382, round time 4.46742582321167\n",
            "Round 54 : accuracy 82.8686773777008, Precision 72.17335104942322, Recall 97.6184070110321, round time 5.161193609237671\n",
            "Round 55 : accuracy 82.8952968120575, Precision 72.16339707374573, Recall 97.75002598762512, round time 6.8216047286987305\n",
            "Round 56 : accuracy 82.80035257339478, Precision 72.04307913780212, Recall 97.75727987289429, round time 4.446791887283325\n",
            "Round 57 : accuracy 82.76352882385254, Precision 71.96457386016846, Recall 97.85884618759155, round time 5.204063653945923\n",
            "Round 58 : accuracy 83.1552803516388, Precision 72.5153923034668, Recall 97.66919016838074, round time 6.813442230224609\n",
            "Round 59 : accuracy 83.70585441589355, Precision 73.34145903587341, Recall 97.30645418167114, round time 4.608381032943726\n",
            "Round 60 : accuracy 84.78704690933228, Precision 74.9823272228241, Recall 96.73956036567688, round time 5.20310640335083\n",
            "Round 61 : accuracy 84.97071862220764, Precision 75.2528727054596, Recall 96.68774008750916, round time 6.560197591781616\n",
            "Round 62 : accuracy 85.15394926071167, Precision 75.5192756652832, Recall 96.65042757987976, round time 4.519979476928711\n",
            "Round 63 : accuracy 84.4738245010376, Precision 74.38148260116577, Recall 97.21318483352661, round time 4.982297420501709\n",
            "Round 64 : accuracy 86.1548364162445, Precision 76.84488296508789, Recall 96.83697819709778, round time 6.591201543807983\n",
            "Round 65 : accuracy 85.15527844429016, Precision 75.37031173706055, Recall 97.03078269958496, round time 4.421699523925781\n",
            "Round 66 : accuracy 85.27817130088806, Precision 75.57837963104248, Recall 96.93129062652588, round time 4.68683385848999\n",
            "Round 67 : accuracy 85.68500280380249, Precision 76.18480920791626, Recall 96.82868719100952, round time 6.941380500793457\n",
            "Round 68 : accuracy 86.4130437374115, Precision 77.27216482162476, Recall 96.70432209968567, round time 4.537646055221558\n",
            "Round 69 : accuracy 82.60293006896973, Precision 71.80668115615845, Recall 97.73344397544861, round time 4.688714265823364\n",
            "Round 70 : accuracy 82.76885747909546, Precision 71.99127078056335, Recall 97.79666066169739, round time 8.309685468673706\n",
            "Round 71 : accuracy 82.90461301803589, Precision 72.10226655006409, Recall 97.97284603118896, round time 6.220463752746582\n",
            "Round 72 : accuracy 83.07896852493286, Precision 72.2750723361969, Recall 98.10653924942017, round time 4.598963499069214\n",
            "Round 73 : accuracy 83.08429718017578, Precision 72.28782176971436, Recall 98.08788299560547, round time 6.320612907409668\n",
            "Round 74 : accuracy 83.21650624275208, Precision 72.4702775478363, Recall 98.03503155708313, round time 8.50500226020813\n",
            "Round 75 : accuracy 83.37178230285645, Precision 72.72272109985352, Recall 97.86402583122253, round time 4.45674467086792\n",
            "Round 76 : accuracy 84.13132429122925, Precision 73.82974624633789, Recall 97.48678803443909, round time 4.217810153961182\n",
            "Round 77 : accuracy 85.49689650535583, Precision 75.7121205329895, Recall 97.34998345375061, round time 7.270422458648682\n",
            "Round 78 : accuracy 87.45652437210083, Precision 78.58310341835022, Recall 97.18520045280457, round time 4.492386817932129\n",
            "Round 79 : accuracy 86.57231330871582, Precision 77.2576093673706, Recall 97.26499915122986, round time 4.369397163391113\n",
            "Round 80 : accuracy 86.36335134506226, Precision 77.04704999923706, Recall 97.05979824066162, round time 6.445822477340698\n",
            "Round 81 : accuracy 87.74223327636719, Precision 78.95923256874084, Recall 97.29194641113281, round time 5.096837997436523\n",
            "Round 82 : accuracy 88.1978690624237, Precision 79.63767051696777, Recall 97.3116397857666, round time 4.644650936126709\n",
            "Round 83 : accuracy 87.90372610092163, Precision 79.15055751800537, Recall 97.39972949028015, round time 10.46020793914795\n",
            "Round 84 : accuracy 88.75998258590698, Precision 80.45367002487183, Recall 97.4090576171875, round time 4.3460307121276855\n",
            "Round 85 : accuracy 87.54392266273499, Precision 78.56677770614624, Recall 97.50129580497742, round time 5.759663820266724\n",
            "Round 86 : accuracy 87.30656504631042, Precision 78.15924882888794, Recall 97.62980341911316, round time 5.657394170761108\n",
            "Round 87 : accuracy 85.39662957191467, Precision 75.4418134689331, Recall 97.68577218055725, round time 4.483989953994751\n",
            "Round 88 : accuracy 85.80079674720764, Precision 75.98965167999268, Recall 97.70131707191467, round time 5.412338733673096\n",
            "Round 89 : accuracy 85.9276831150055, Precision 76.13145709037781, Recall 97.78422713279724, round time 5.934745788574219\n",
            "Round 90 : accuracy 85.9294593334198, Precision 76.1444628238678, Recall 97.75831699371338, round time 4.244178533554077\n",
            "Round 91 : accuracy 85.99778413772583, Precision 76.22270584106445, Recall 97.79873490333557, round time 4.735240697860718\n",
            "Round 92 : accuracy 86.02927923202515, Precision 76.2732446193695, Recall 97.78215289115906, round time 6.958137035369873\n",
            "Round 93 : accuracy 86.18899583816528, Precision 76.51392221450806, Recall 97.73862361907959, round time 4.401500225067139\n",
            "Round 94 : accuracy 88.25820684432983, Precision 79.51162457466125, Recall 97.76245951652527, round time 4.614002466201782\n",
            "Round 95 : accuracy 88.2040798664093, Precision 79.39726710319519, Recall 97.8308618068695, round time 7.226967096328735\n",
            "Round 96 : accuracy 87.51375079154968, Precision 78.37299108505249, Recall 97.82775640487671, round time 4.206578969955444\n",
            "Round 97 : accuracy 87.7125084400177, Precision 78.67228984832764, Recall 97.8132426738739, round time 4.534557104110718\n",
            "Round 98 : accuracy 88.16814422607422, Precision 79.37778234481812, Recall 97.75831699371338, round time 7.150012969970703\n",
            "Round 99 : accuracy 87.8464937210083, Precision 78.85251641273499, Recall 97.85262942314148, round time 4.429636478424072\n",
            "Round 100 : accuracy 88.38509321212769, Precision 79.71230149269104, Recall 97.74484634399414, round time 4.403498649597168\n"
          ]
        }
      ],
      "source": [
        "evaluate_test(60)"
      ]
    },
    {
      "cell_type": "code",
      "execution_count": null,
      "metadata": {
        "id": "f1RpS3EeOp8u"
      },
      "outputs": [],
      "source": []
    },
    {
      "cell_type": "code",
      "execution_count": null,
      "metadata": {
        "id": "kitCKvaMOp8z"
      },
      "outputs": [],
      "source": []
    },
    {
      "cell_type": "code",
      "execution_count": null,
      "metadata": {
        "id": "3GJoAdLNOp8z"
      },
      "outputs": [],
      "source": []
    },
    {
      "cell_type": "code",
      "execution_count": null,
      "metadata": {
        "id": "5DvtTu6zOp8z"
      },
      "outputs": [],
      "source": []
    },
    {
      "cell_type": "code",
      "execution_count": null,
      "metadata": {
        "id": "8pY2sw_dOp8z"
      },
      "outputs": [],
      "source": []
    }
  ],
  "metadata": {
    "kernelspec": {
      "display_name": "Python 3",
      "name": "python3"
    },
    "language_info": {
      "codemirror_mode": {
        "name": "ipython",
        "version": 3
      },
      "file_extension": ".py",
      "mimetype": "text/x-python",
      "name": "python",
      "nbconvert_exporter": "python",
      "pygments_lexer": "ipython3",
      "version": "3.10.13"
    },
    "colab": {
      "provenance": [],
      "gpuType": "T4"
    },
    "accelerator": "GPU"
  },
  "nbformat": 4,
  "nbformat_minor": 0
}