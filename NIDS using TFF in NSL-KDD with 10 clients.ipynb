{
  "cells": [
    {
      "cell_type": "code",
      "execution_count": null,
      "metadata": {
        "colab": {
          "base_uri": "https://localhost:8080/"
        },
        "id": "aPLWVx0nOlRE",
        "outputId": "6e31d545-56f8-43c6-9d8a-ac9567578c32"
      },
      "outputs": [
        {
          "output_type": "stream",
          "name": "stdout",
          "text": [
            "Requirement already satisfied: tensorflow in /usr/local/lib/python3.10/dist-packages (2.15.0)\n",
            "Requirement already satisfied: absl-py>=1.0.0 in /usr/local/lib/python3.10/dist-packages (from tensorflow) (1.4.0)\n",
            "Requirement already satisfied: astunparse>=1.6.0 in /usr/local/lib/python3.10/dist-packages (from tensorflow) (1.6.3)\n",
            "Requirement already satisfied: flatbuffers>=23.5.26 in /usr/local/lib/python3.10/dist-packages (from tensorflow) (24.3.25)\n",
            "Requirement already satisfied: gast!=0.5.0,!=0.5.1,!=0.5.2,>=0.2.1 in /usr/local/lib/python3.10/dist-packages (from tensorflow) (0.5.4)\n",
            "Requirement already satisfied: google-pasta>=0.1.1 in /usr/local/lib/python3.10/dist-packages (from tensorflow) (0.2.0)\n",
            "Requirement already satisfied: h5py>=2.9.0 in /usr/local/lib/python3.10/dist-packages (from tensorflow) (3.9.0)\n",
            "Requirement already satisfied: libclang>=13.0.0 in /usr/local/lib/python3.10/dist-packages (from tensorflow) (18.1.1)\n",
            "Requirement already satisfied: ml-dtypes~=0.2.0 in /usr/local/lib/python3.10/dist-packages (from tensorflow) (0.2.0)\n",
            "Requirement already satisfied: numpy<2.0.0,>=1.23.5 in /usr/local/lib/python3.10/dist-packages (from tensorflow) (1.25.2)\n",
            "Requirement already satisfied: opt-einsum>=2.3.2 in /usr/local/lib/python3.10/dist-packages (from tensorflow) (3.3.0)\n",
            "Requirement already satisfied: packaging in /usr/local/lib/python3.10/dist-packages (from tensorflow) (24.0)\n",
            "Requirement already satisfied: protobuf!=4.21.0,!=4.21.1,!=4.21.2,!=4.21.3,!=4.21.4,!=4.21.5,<5.0.0dev,>=3.20.3 in /usr/local/lib/python3.10/dist-packages (from tensorflow) (3.20.3)\n",
            "Requirement already satisfied: setuptools in /usr/local/lib/python3.10/dist-packages (from tensorflow) (67.7.2)\n",
            "Requirement already satisfied: six>=1.12.0 in /usr/local/lib/python3.10/dist-packages (from tensorflow) (1.16.0)\n",
            "Requirement already satisfied: termcolor>=1.1.0 in /usr/local/lib/python3.10/dist-packages (from tensorflow) (2.4.0)\n",
            "Requirement already satisfied: typing-extensions>=3.6.6 in /usr/local/lib/python3.10/dist-packages (from tensorflow) (4.11.0)\n",
            "Requirement already satisfied: wrapt<1.15,>=1.11.0 in /usr/local/lib/python3.10/dist-packages (from tensorflow) (1.14.1)\n",
            "Requirement already satisfied: tensorflow-io-gcs-filesystem>=0.23.1 in /usr/local/lib/python3.10/dist-packages (from tensorflow) (0.36.0)\n",
            "Requirement already satisfied: grpcio<2.0,>=1.24.3 in /usr/local/lib/python3.10/dist-packages (from tensorflow) (1.62.1)\n",
            "Requirement already satisfied: tensorboard<2.16,>=2.15 in /usr/local/lib/python3.10/dist-packages (from tensorflow) (2.15.2)\n",
            "Requirement already satisfied: tensorflow-estimator<2.16,>=2.15.0 in /usr/local/lib/python3.10/dist-packages (from tensorflow) (2.15.0)\n",
            "Requirement already satisfied: keras<2.16,>=2.15.0 in /usr/local/lib/python3.10/dist-packages (from tensorflow) (2.15.0)\n",
            "Requirement already satisfied: wheel<1.0,>=0.23.0 in /usr/local/lib/python3.10/dist-packages (from astunparse>=1.6.0->tensorflow) (0.43.0)\n",
            "Requirement already satisfied: google-auth<3,>=1.6.3 in /usr/local/lib/python3.10/dist-packages (from tensorboard<2.16,>=2.15->tensorflow) (2.27.0)\n",
            "Requirement already satisfied: google-auth-oauthlib<2,>=0.5 in /usr/local/lib/python3.10/dist-packages (from tensorboard<2.16,>=2.15->tensorflow) (1.2.0)\n",
            "Requirement already satisfied: markdown>=2.6.8 in /usr/local/lib/python3.10/dist-packages (from tensorboard<2.16,>=2.15->tensorflow) (3.6)\n",
            "Requirement already satisfied: requests<3,>=2.21.0 in /usr/local/lib/python3.10/dist-packages (from tensorboard<2.16,>=2.15->tensorflow) (2.31.0)\n",
            "Requirement already satisfied: tensorboard-data-server<0.8.0,>=0.7.0 in /usr/local/lib/python3.10/dist-packages (from tensorboard<2.16,>=2.15->tensorflow) (0.7.2)\n",
            "Requirement already satisfied: werkzeug>=1.0.1 in /usr/local/lib/python3.10/dist-packages (from tensorboard<2.16,>=2.15->tensorflow) (3.0.2)\n",
            "Requirement already satisfied: cachetools<6.0,>=2.0.0 in /usr/local/lib/python3.10/dist-packages (from google-auth<3,>=1.6.3->tensorboard<2.16,>=2.15->tensorflow) (5.3.3)\n",
            "Requirement already satisfied: pyasn1-modules>=0.2.1 in /usr/local/lib/python3.10/dist-packages (from google-auth<3,>=1.6.3->tensorboard<2.16,>=2.15->tensorflow) (0.4.0)\n",
            "Requirement already satisfied: rsa<5,>=3.1.4 in /usr/local/lib/python3.10/dist-packages (from google-auth<3,>=1.6.3->tensorboard<2.16,>=2.15->tensorflow) (4.9)\n",
            "Requirement already satisfied: requests-oauthlib>=0.7.0 in /usr/local/lib/python3.10/dist-packages (from google-auth-oauthlib<2,>=0.5->tensorboard<2.16,>=2.15->tensorflow) (1.3.1)\n",
            "Requirement already satisfied: charset-normalizer<4,>=2 in /usr/local/lib/python3.10/dist-packages (from requests<3,>=2.21.0->tensorboard<2.16,>=2.15->tensorflow) (3.3.2)\n",
            "Requirement already satisfied: idna<4,>=2.5 in /usr/local/lib/python3.10/dist-packages (from requests<3,>=2.21.0->tensorboard<2.16,>=2.15->tensorflow) (3.7)\n",
            "Requirement already satisfied: urllib3<3,>=1.21.1 in /usr/local/lib/python3.10/dist-packages (from requests<3,>=2.21.0->tensorboard<2.16,>=2.15->tensorflow) (2.0.7)\n",
            "Requirement already satisfied: certifi>=2017.4.17 in /usr/local/lib/python3.10/dist-packages (from requests<3,>=2.21.0->tensorboard<2.16,>=2.15->tensorflow) (2024.2.2)\n",
            "Requirement already satisfied: MarkupSafe>=2.1.1 in /usr/local/lib/python3.10/dist-packages (from werkzeug>=1.0.1->tensorboard<2.16,>=2.15->tensorflow) (2.1.5)\n",
            "Requirement already satisfied: pyasn1<0.7.0,>=0.4.6 in /usr/local/lib/python3.10/dist-packages (from pyasn1-modules>=0.2.1->google-auth<3,>=1.6.3->tensorboard<2.16,>=2.15->tensorflow) (0.6.0)\n",
            "Requirement already satisfied: oauthlib>=3.0.0 in /usr/local/lib/python3.10/dist-packages (from requests-oauthlib>=0.7.0->google-auth-oauthlib<2,>=0.5->tensorboard<2.16,>=2.15->tensorflow) (3.2.2)\n"
          ]
        }
      ],
      "source": [
        "\n",
        "!pip install tensorflow"
      ]
    },
    {
      "cell_type": "code",
      "execution_count": null,
      "metadata": {
        "colab": {
          "base_uri": "https://localhost:8080/",
          "height": 1000
        },
        "id": "tZtUG1iHOlRI",
        "outputId": "57c87f9f-ed3b-4868-f0a5-8dc51ca6f651"
      },
      "outputs": [
        {
          "output_type": "stream",
          "name": "stdout",
          "text": [
            "Collecting tensorflow-federated\n",
            "  Downloading tensorflow_federated-0.76.0-py3-none-manylinux_2_31_x86_64.whl (70.7 MB)\n",
            "\u001b[2K     \u001b[90m━━━━━━━━━━━━━━━━━━━━━━━━━━━━━━━━━━━━━━━━\u001b[0m \u001b[32m70.7/70.7 MB\u001b[0m \u001b[31m10.1 MB/s\u001b[0m eta \u001b[36m0:00:00\u001b[0m\n",
            "\u001b[?25hRequirement already satisfied: absl-py==1.*,>=1.0 in /usr/local/lib/python3.10/dist-packages (from tensorflow-federated) (1.4.0)\n",
            "Requirement already satisfied: attrs~=23.1 in /usr/local/lib/python3.10/dist-packages (from tensorflow-federated) (23.2.0)\n",
            "Requirement already satisfied: cachetools~=5.3 in /usr/local/lib/python3.10/dist-packages (from tensorflow-federated) (5.3.3)\n",
            "Requirement already satisfied: dm-tree==0.1.8 in /usr/local/lib/python3.10/dist-packages (from tensorflow-federated) (0.1.8)\n",
            "Collecting dp-accounting==0.4.3 (from tensorflow-federated)\n",
            "  Downloading dp_accounting-0.4.3-py3-none-any.whl (104 kB)\n",
            "\u001b[2K     \u001b[90m━━━━━━━━━━━━━━━━━━━━━━━━━━━━━━━━━━━━━━━━\u001b[0m \u001b[32m104.8/104.8 kB\u001b[0m \u001b[31m13.5 MB/s\u001b[0m eta \u001b[36m0:00:00\u001b[0m\n",
            "\u001b[?25hCollecting farmhashpy==0.4.0 (from tensorflow-federated)\n",
            "  Downloading farmhashpy-0.4.0.tar.gz (98 kB)\n",
            "\u001b[2K     \u001b[90m━━━━━━━━━━━━━━━━━━━━━━━━━━━━━━━━━━━━━━━━\u001b[0m \u001b[32m98.7/98.7 kB\u001b[0m \u001b[31m7.1 MB/s\u001b[0m eta \u001b[36m0:00:00\u001b[0m\n",
            "\u001b[?25h  Preparing metadata (setup.py) ... \u001b[?25l\u001b[?25hdone\n",
            "Collecting google-vizier==0.1.11 (from tensorflow-federated)\n",
            "  Downloading google_vizier-0.1.11-py3-none-any.whl (721 kB)\n",
            "\u001b[2K     \u001b[90m━━━━━━━━━━━━━━━━━━━━━━━━━━━━━━━━━━━━━━━━\u001b[0m \u001b[32m721.6/721.6 kB\u001b[0m \u001b[31m46.5 MB/s\u001b[0m eta \u001b[36m0:00:00\u001b[0m\n",
            "\u001b[?25hRequirement already satisfied: grpcio~=1.46 in /usr/local/lib/python3.10/dist-packages (from tensorflow-federated) (1.62.1)\n",
            "Collecting jaxlib==0.4.14 (from tensorflow-federated)\n",
            "  Downloading jaxlib-0.4.14-cp310-cp310-manylinux2014_x86_64.whl (73.7 MB)\n",
            "\u001b[2K     \u001b[90m━━━━━━━━━━━━━━━━━━━━━━━━━━━━━━━━━━━━━━━━\u001b[0m \u001b[32m73.7/73.7 MB\u001b[0m \u001b[31m9.2 MB/s\u001b[0m eta \u001b[36m0:00:00\u001b[0m\n",
            "\u001b[?25hCollecting jax==0.4.14 (from tensorflow-federated)\n",
            "  Downloading jax-0.4.14.tar.gz (1.3 MB)\n",
            "\u001b[2K     \u001b[90m━━━━━━━━━━━━━━━━━━━━━━━━━━━━━━━━━━━━━━━━\u001b[0m \u001b[32m1.3/1.3 MB\u001b[0m \u001b[31m70.7 MB/s\u001b[0m eta \u001b[36m0:00:00\u001b[0m\n",
            "\u001b[?25h  Installing build dependencies ... \u001b[?25l\u001b[?25hdone\n",
            "  Getting requirements to build wheel ... \u001b[?25l\u001b[?25hdone\n",
            "  Preparing metadata (pyproject.toml) ... \u001b[?25l\u001b[?25hdone\n",
            "Requirement already satisfied: numpy~=1.25 in /usr/local/lib/python3.10/dist-packages (from tensorflow-federated) (1.25.2)\n",
            "Collecting portpicker~=1.6 (from tensorflow-federated)\n",
            "  Downloading portpicker-1.6.0-py3-none-any.whl (16 kB)\n",
            "Collecting scipy~=1.9.3 (from tensorflow-federated)\n",
            "  Downloading scipy-1.9.3-cp310-cp310-manylinux_2_17_x86_64.manylinux2014_x86_64.whl (33.7 MB)\n",
            "\u001b[2K     \u001b[90m━━━━━━━━━━━━━━━━━━━━━━━━━━━━━━━━━━━━━━━━\u001b[0m \u001b[32m33.7/33.7 MB\u001b[0m \u001b[31m23.4 MB/s\u001b[0m eta \u001b[36m0:00:00\u001b[0m\n",
            "\u001b[?25hCollecting semantic-version~=2.6 (from tensorflow-federated)\n",
            "  Downloading semantic_version-2.10.0-py2.py3-none-any.whl (15 kB)\n",
            "Collecting tensorflow-compression==2.14.*,>=2.14.0 (from tensorflow-federated)\n",
            "  Downloading tensorflow_compression-2.14.1-cp310-cp310-manylinux_2_17_x86_64.manylinux2014_x86_64.whl (262 kB)\n",
            "\u001b[2K     \u001b[90m━━━━━━━━━━━━━━━━━━━━━━━━━━━━━━━━━━━━━━━━\u001b[0m \u001b[32m262.5/262.5 kB\u001b[0m \u001b[31m25.2 MB/s\u001b[0m eta \u001b[36m0:00:00\u001b[0m\n",
            "\u001b[?25hCollecting tensorflow-model-optimization==0.7.5 (from tensorflow-federated)\n",
            "  Downloading tensorflow_model_optimization-0.7.5-py2.py3-none-any.whl (241 kB)\n",
            "\u001b[2K     \u001b[90m━━━━━━━━━━━━━━━━━━━━━━━━━━━━━━━━━━━━━━━━\u001b[0m \u001b[32m241.2/241.2 kB\u001b[0m \u001b[31m23.2 MB/s\u001b[0m eta \u001b[36m0:00:00\u001b[0m\n",
            "\u001b[?25hCollecting tensorflow-privacy==0.9.0 (from tensorflow-federated)\n",
            "  Downloading tensorflow_privacy-0.9.0-py3-none-any.whl (323 kB)\n",
            "\u001b[2K     \u001b[90m━━━━━━━━━━━━━━━━━━━━━━━━━━━━━━━━━━━━━━━━\u001b[0m \u001b[32m323.2/323.2 kB\u001b[0m \u001b[31m23.6 MB/s\u001b[0m eta \u001b[36m0:00:00\u001b[0m\n",
            "\u001b[?25hCollecting tensorflow==2.14.*,>=2.14.0 (from tensorflow-federated)\n",
            "  Downloading tensorflow-2.14.1-cp310-cp310-manylinux_2_17_x86_64.manylinux2014_x86_64.whl (489.9 MB)\n",
            "\u001b[2K     \u001b[90m━━━━━━━━━━━━━━━━━━━━━━━━━━━━━━━━━━━━━━━━\u001b[0m \u001b[32m489.9/489.9 MB\u001b[0m \u001b[31m1.2 MB/s\u001b[0m eta \u001b[36m0:00:00\u001b[0m\n",
            "\u001b[?25hRequirement already satisfied: tqdm~=4.64 in /usr/local/lib/python3.10/dist-packages (from tensorflow-federated) (4.66.2)\n",
            "Collecting typing-extensions==4.5.*,>=4.5.0 (from tensorflow-federated)\n",
            "  Downloading typing_extensions-4.5.0-py3-none-any.whl (27 kB)\n",
            "Collecting googleapis-common-protos==1.61.0 (from tensorflow-federated)\n",
            "  Downloading googleapis_common_protos-1.61.0-py2.py3-none-any.whl (230 kB)\n",
            "\u001b[2K     \u001b[90m━━━━━━━━━━━━━━━━━━━━━━━━━━━━━━━━━━━━━━━━\u001b[0m \u001b[32m230.9/230.9 kB\u001b[0m \u001b[31m25.6 MB/s\u001b[0m eta \u001b[36m0:00:00\u001b[0m\n",
            "\u001b[?25hRequirement already satisfied: mpmath~=1.2 in /usr/local/lib/python3.10/dist-packages (from dp-accounting==0.4.3->tensorflow-federated) (1.3.0)\n",
            "Collecting attrs~=23.1 (from tensorflow-federated)\n",
            "  Downloading attrs-23.1.0-py3-none-any.whl (61 kB)\n",
            "\u001b[2K     \u001b[90m━━━━━━━━━━━━━━━━━━━━━━━━━━━━━━━━━━━━━━━━\u001b[0m \u001b[32m61.2/61.2 kB\u001b[0m \u001b[31m8.8 MB/s\u001b[0m eta \u001b[36m0:00:00\u001b[0m\n",
            "\u001b[?25hRequirement already satisfied: protobuf>=3.6 in /usr/local/lib/python3.10/dist-packages (from google-vizier==0.1.11->tensorflow-federated) (3.20.3)\n",
            "Collecting grpcio-tools>=1.35.0 (from google-vizier==0.1.11->tensorflow-federated)\n",
            "  Downloading grpcio_tools-1.62.2-cp310-cp310-manylinux_2_17_x86_64.manylinux2014_x86_64.whl (2.8 MB)\n",
            "\u001b[2K     \u001b[90m━━━━━━━━━━━━━━━━━━━━━━━━━━━━━━━━━━━━━━━━\u001b[0m \u001b[32m2.8/2.8 MB\u001b[0m \u001b[31m102.3 MB/s\u001b[0m eta \u001b[36m0:00:00\u001b[0m\n",
            "\u001b[?25hCollecting sqlalchemy<=1.4.20,>=1.4 (from google-vizier==0.1.11->tensorflow-federated)\n",
            "  Downloading SQLAlchemy-1.4.20.tar.gz (7.7 MB)\n",
            "\u001b[2K     \u001b[90m━━━━━━━━━━━━━━━━━━━━━━━━━━━━━━━━━━━━━━━━\u001b[0m \u001b[32m7.7/7.7 MB\u001b[0m \u001b[31m102.5 MB/s\u001b[0m eta \u001b[36m0:00:00\u001b[0m\n",
            "\u001b[?25h  Preparing metadata (setup.py) ... \u001b[?25l\u001b[?25hdone\n",
            "Requirement already satisfied: ml-dtypes>=0.2.0 in /usr/local/lib/python3.10/dist-packages (from jax==0.4.14->tensorflow-federated) (0.2.0)\n",
            "Requirement already satisfied: opt-einsum in /usr/local/lib/python3.10/dist-packages (from jax==0.4.14->tensorflow-federated) (3.3.0)\n",
            "Requirement already satisfied: astunparse>=1.6.0 in /usr/local/lib/python3.10/dist-packages (from tensorflow==2.14.*,>=2.14.0->tensorflow-federated) (1.6.3)\n",
            "Requirement already satisfied: flatbuffers>=23.5.26 in /usr/local/lib/python3.10/dist-packages (from tensorflow==2.14.*,>=2.14.0->tensorflow-federated) (24.3.25)\n",
            "Requirement already satisfied: gast!=0.5.0,!=0.5.1,!=0.5.2,>=0.2.1 in /usr/local/lib/python3.10/dist-packages (from tensorflow==2.14.*,>=2.14.0->tensorflow-federated) (0.5.4)\n",
            "Requirement already satisfied: google-pasta>=0.1.1 in /usr/local/lib/python3.10/dist-packages (from tensorflow==2.14.*,>=2.14.0->tensorflow-federated) (0.2.0)\n",
            "Requirement already satisfied: h5py>=2.9.0 in /usr/local/lib/python3.10/dist-packages (from tensorflow==2.14.*,>=2.14.0->tensorflow-federated) (3.9.0)\n",
            "Requirement already satisfied: libclang>=13.0.0 in /usr/local/lib/python3.10/dist-packages (from tensorflow==2.14.*,>=2.14.0->tensorflow-federated) (18.1.1)\n",
            "Requirement already satisfied: packaging in /usr/local/lib/python3.10/dist-packages (from tensorflow==2.14.*,>=2.14.0->tensorflow-federated) (24.0)\n",
            "Requirement already satisfied: setuptools in /usr/local/lib/python3.10/dist-packages (from tensorflow==2.14.*,>=2.14.0->tensorflow-federated) (67.7.2)\n",
            "Requirement already satisfied: six>=1.12.0 in /usr/local/lib/python3.10/dist-packages (from tensorflow==2.14.*,>=2.14.0->tensorflow-federated) (1.16.0)\n",
            "Requirement already satisfied: termcolor>=1.1.0 in /usr/local/lib/python3.10/dist-packages (from tensorflow==2.14.*,>=2.14.0->tensorflow-federated) (2.4.0)\n",
            "Requirement already satisfied: wrapt<1.15,>=1.11.0 in /usr/local/lib/python3.10/dist-packages (from tensorflow==2.14.*,>=2.14.0->tensorflow-federated) (1.14.1)\n",
            "Requirement already satisfied: tensorflow-io-gcs-filesystem>=0.23.1 in /usr/local/lib/python3.10/dist-packages (from tensorflow==2.14.*,>=2.14.0->tensorflow-federated) (0.36.0)\n",
            "Collecting tensorboard<2.15,>=2.14 (from tensorflow==2.14.*,>=2.14.0->tensorflow-federated)\n",
            "  Downloading tensorboard-2.14.1-py3-none-any.whl (5.5 MB)\n",
            "\u001b[2K     \u001b[90m━━━━━━━━━━━━━━━━━━━━━━━━━━━━━━━━━━━━━━━━\u001b[0m \u001b[32m5.5/5.5 MB\u001b[0m \u001b[31m99.5 MB/s\u001b[0m eta \u001b[36m0:00:00\u001b[0m\n",
            "\u001b[?25hCollecting tensorflow-estimator<2.15,>=2.14.0 (from tensorflow==2.14.*,>=2.14.0->tensorflow-federated)\n",
            "  Downloading tensorflow_estimator-2.14.0-py2.py3-none-any.whl (440 kB)\n",
            "\u001b[2K     \u001b[90m━━━━━━━━━━━━━━━━━━━━━━━━━━━━━━━━━━━━━━━━\u001b[0m \u001b[32m440.7/440.7 kB\u001b[0m \u001b[31m41.7 MB/s\u001b[0m eta \u001b[36m0:00:00\u001b[0m\n",
            "\u001b[?25hCollecting keras<2.15,>=2.14.0 (from tensorflow==2.14.*,>=2.14.0->tensorflow-federated)\n",
            "  Downloading keras-2.14.0-py3-none-any.whl (1.7 MB)\n",
            "\u001b[2K     \u001b[90m━━━━━━━━━━━━━━━━━━━━━━━━━━━━━━━━━━━━━━━━\u001b[0m \u001b[32m1.7/1.7 MB\u001b[0m \u001b[31m83.0 MB/s\u001b[0m eta \u001b[36m0:00:00\u001b[0m\n",
            "\u001b[?25hINFO: pip is looking at multiple versions of tensorflow-compression to determine which version is compatible with other requirements. This could take a while.\n",
            "Collecting tensorflow-compression==2.14.*,>=2.14.0 (from tensorflow-federated)\n",
            "  Downloading tensorflow_compression-2.14.0-cp310-cp310-manylinux_2_17_x86_64.manylinux2014_x86_64.whl (257 kB)\n",
            "\u001b[2K     \u001b[90m━━━━━━━━━━━━━━━━━━━━━━━━━━━━━━━━━━━━━━━━\u001b[0m \u001b[32m257.7/257.7 kB\u001b[0m \u001b[31m31.9 MB/s\u001b[0m eta \u001b[36m0:00:00\u001b[0m\n",
            "\u001b[?25hRequirement already satisfied: tensorflow-probability~=0.15 in /usr/local/lib/python3.10/dist-packages (from tensorflow-compression==2.14.*,>=2.14.0->tensorflow-federated) (0.23.0)\n",
            "Collecting packaging (from tensorflow==2.14.*,>=2.14.0->tensorflow-federated)\n",
            "  Downloading packaging-22.0-py3-none-any.whl (42 kB)\n",
            "\u001b[2K     \u001b[90m━━━━━━━━━━━━━━━━━━━━━━━━━━━━━━━━━━━━━━━━\u001b[0m \u001b[32m42.6/42.6 kB\u001b[0m \u001b[31m6.0 MB/s\u001b[0m eta \u001b[36m0:00:00\u001b[0m\n",
            "\u001b[?25hRequirement already satisfied: scikit-learn==1.*,>=1.0 in /usr/local/lib/python3.10/dist-packages (from tensorflow-privacy==0.9.0->tensorflow-federated) (1.2.2)\n",
            "Collecting tensorflow-probability~=0.15 (from tensorflow-compression==2.14.*,>=2.14.0->tensorflow-federated)\n",
            "  Downloading tensorflow_probability-0.22.1-py2.py3-none-any.whl (6.9 MB)\n",
            "\u001b[2K     \u001b[90m━━━━━━━━━━━━━━━━━━━━━━━━━━━━━━━━━━━━━━━━\u001b[0m \u001b[32m6.9/6.9 MB\u001b[0m \u001b[31m97.1 MB/s\u001b[0m eta \u001b[36m0:00:00\u001b[0m\n",
            "\u001b[?25hRequirement already satisfied: joblib>=1.1.1 in /usr/local/lib/python3.10/dist-packages (from scikit-learn==1.*,>=1.0->tensorflow-privacy==0.9.0->tensorflow-federated) (1.4.0)\n",
            "Requirement already satisfied: threadpoolctl>=2.0.0 in /usr/local/lib/python3.10/dist-packages (from scikit-learn==1.*,>=1.0->tensorflow-privacy==0.9.0->tensorflow-federated) (3.4.0)\n",
            "Requirement already satisfied: psutil in /usr/local/lib/python3.10/dist-packages (from portpicker~=1.6->tensorflow-federated) (5.9.5)\n",
            "Requirement already satisfied: wheel<1.0,>=0.23.0 in /usr/local/lib/python3.10/dist-packages (from astunparse>=1.6.0->tensorflow==2.14.*,>=2.14.0->tensorflow-federated) (0.43.0)\n",
            "Collecting protobuf>=3.6 (from google-vizier==0.1.11->tensorflow-federated)\n",
            "  Downloading protobuf-4.25.3-cp37-abi3-manylinux2014_x86_64.whl (294 kB)\n",
            "\u001b[2K     \u001b[90m━━━━━━━━━━━━━━━━━━━━━━━━━━━━━━━━━━━━━━━━\u001b[0m \u001b[32m294.6/294.6 kB\u001b[0m \u001b[31m10.2 MB/s\u001b[0m eta \u001b[36m0:00:00\u001b[0m\n",
            "\u001b[?25hCollecting grpcio~=1.46 (from tensorflow-federated)\n",
            "  Downloading grpcio-1.62.2-cp310-cp310-manylinux_2_17_x86_64.manylinux2014_x86_64.whl (5.5 MB)\n",
            "\u001b[2K     \u001b[90m━━━━━━━━━━━━━━━━━━━━━━━━━━━━━━━━━━━━━━━━\u001b[0m \u001b[32m5.5/5.5 MB\u001b[0m \u001b[31m114.8 MB/s\u001b[0m eta \u001b[36m0:00:00\u001b[0m\n",
            "\u001b[?25hRequirement already satisfied: greenlet!=0.4.17 in /usr/local/lib/python3.10/dist-packages (from sqlalchemy<=1.4.20,>=1.4->google-vizier==0.1.11->tensorflow-federated) (3.0.3)\n",
            "Requirement already satisfied: google-auth<3,>=1.6.3 in /usr/local/lib/python3.10/dist-packages (from tensorboard<2.15,>=2.14->tensorflow==2.14.*,>=2.14.0->tensorflow-federated) (2.27.0)\n",
            "Collecting google-auth-oauthlib<1.1,>=0.5 (from tensorboard<2.15,>=2.14->tensorflow==2.14.*,>=2.14.0->tensorflow-federated)\n",
            "  Downloading google_auth_oauthlib-1.0.0-py2.py3-none-any.whl (18 kB)\n",
            "Requirement already satisfied: markdown>=2.6.8 in /usr/local/lib/python3.10/dist-packages (from tensorboard<2.15,>=2.14->tensorflow==2.14.*,>=2.14.0->tensorflow-federated) (3.6)\n",
            "Requirement already satisfied: requests<3,>=2.21.0 in /usr/local/lib/python3.10/dist-packages (from tensorboard<2.15,>=2.14->tensorflow==2.14.*,>=2.14.0->tensorflow-federated) (2.31.0)\n",
            "Requirement already satisfied: tensorboard-data-server<0.8.0,>=0.7.0 in /usr/local/lib/python3.10/dist-packages (from tensorboard<2.15,>=2.14->tensorflow==2.14.*,>=2.14.0->tensorflow-federated) (0.7.2)\n",
            "Requirement already satisfied: werkzeug>=1.0.1 in /usr/local/lib/python3.10/dist-packages (from tensorboard<2.15,>=2.14->tensorflow==2.14.*,>=2.14.0->tensorflow-federated) (3.0.2)\n",
            "Requirement already satisfied: decorator in /usr/local/lib/python3.10/dist-packages (from tensorflow-probability~=0.15->tensorflow-compression==2.14.*,>=2.14.0->tensorflow-federated) (4.4.2)\n",
            "Requirement already satisfied: cloudpickle>=1.3 in /usr/local/lib/python3.10/dist-packages (from tensorflow-probability~=0.15->tensorflow-compression==2.14.*,>=2.14.0->tensorflow-federated) (2.2.1)\n",
            "Requirement already satisfied: pyasn1-modules>=0.2.1 in /usr/local/lib/python3.10/dist-packages (from google-auth<3,>=1.6.3->tensorboard<2.15,>=2.14->tensorflow==2.14.*,>=2.14.0->tensorflow-federated) (0.4.0)\n",
            "Requirement already satisfied: rsa<5,>=3.1.4 in /usr/local/lib/python3.10/dist-packages (from google-auth<3,>=1.6.3->tensorboard<2.15,>=2.14->tensorflow==2.14.*,>=2.14.0->tensorflow-federated) (4.9)\n",
            "Requirement already satisfied: requests-oauthlib>=0.7.0 in /usr/local/lib/python3.10/dist-packages (from google-auth-oauthlib<1.1,>=0.5->tensorboard<2.15,>=2.14->tensorflow==2.14.*,>=2.14.0->tensorflow-federated) (1.3.1)\n",
            "Requirement already satisfied: charset-normalizer<4,>=2 in /usr/local/lib/python3.10/dist-packages (from requests<3,>=2.21.0->tensorboard<2.15,>=2.14->tensorflow==2.14.*,>=2.14.0->tensorflow-federated) (3.3.2)\n",
            "Requirement already satisfied: idna<4,>=2.5 in /usr/local/lib/python3.10/dist-packages (from requests<3,>=2.21.0->tensorboard<2.15,>=2.14->tensorflow==2.14.*,>=2.14.0->tensorflow-federated) (3.7)\n",
            "Requirement already satisfied: urllib3<3,>=1.21.1 in /usr/local/lib/python3.10/dist-packages (from requests<3,>=2.21.0->tensorboard<2.15,>=2.14->tensorflow==2.14.*,>=2.14.0->tensorflow-federated) (2.0.7)\n",
            "Requirement already satisfied: certifi>=2017.4.17 in /usr/local/lib/python3.10/dist-packages (from requests<3,>=2.21.0->tensorboard<2.15,>=2.14->tensorflow==2.14.*,>=2.14.0->tensorflow-federated) (2024.2.2)\n",
            "Requirement already satisfied: MarkupSafe>=2.1.1 in /usr/local/lib/python3.10/dist-packages (from werkzeug>=1.0.1->tensorboard<2.15,>=2.14->tensorflow==2.14.*,>=2.14.0->tensorflow-federated) (2.1.5)\n",
            "Requirement already satisfied: pyasn1<0.7.0,>=0.4.6 in /usr/local/lib/python3.10/dist-packages (from pyasn1-modules>=0.2.1->google-auth<3,>=1.6.3->tensorboard<2.15,>=2.14->tensorflow==2.14.*,>=2.14.0->tensorflow-federated) (0.6.0)\n",
            "Requirement already satisfied: oauthlib>=3.0.0 in /usr/local/lib/python3.10/dist-packages (from requests-oauthlib>=0.7.0->google-auth-oauthlib<1.1,>=0.5->tensorboard<2.15,>=2.14->tensorflow==2.14.*,>=2.14.0->tensorflow-federated) (3.2.2)\n",
            "Building wheels for collected packages: farmhashpy, jax, sqlalchemy\n",
            "  Building wheel for farmhashpy (setup.py) ... \u001b[?25l\u001b[?25hdone\n",
            "  Created wheel for farmhashpy: filename=farmhashpy-0.4.0-cp310-cp310-linux_x86_64.whl size=87302 sha256=1e8fee45d3370e7595b5b550db4f99abcf9413c19bf95ea90a13b627c32d7dcb\n",
            "  Stored in directory: /root/.cache/pip/wheels/14/0e/36/b61b3f47ae366b7d5dd2b746326d17234269dbc745ad554857\n",
            "  Building wheel for jax (pyproject.toml) ... \u001b[?25l\u001b[?25hdone\n",
            "  Created wheel for jax: filename=jax-0.4.14-py3-none-any.whl size=1535361 sha256=182b868ae441063937f94ee96db947ee6e97af6ca5e031c057d4e013d9677225\n",
            "  Stored in directory: /root/.cache/pip/wheels/85/52/e7/dfa571c9f9b879e3facaa1584f52be04c4c3d1e14054ef40ab\n",
            "  Building wheel for sqlalchemy (setup.py) ... \u001b[?25l\u001b[?25hdone\n",
            "  Created wheel for sqlalchemy: filename=SQLAlchemy-1.4.20-cp310-cp310-linux_x86_64.whl size=1529870 sha256=8f2c3a6a763b43d90d7618f7e1c3e80377f69fa2953f391f4d193c1790b0fbb0\n",
            "  Stored in directory: /root/.cache/pip/wheels/c4/42/20/a958989c470cc1a6fe1d1279b0193f0e508161327fc3d951d9\n",
            "Successfully built farmhashpy jax sqlalchemy\n",
            "Installing collected packages: typing-extensions, tensorflow-probability, tensorflow-model-optimization, tensorflow-estimator, sqlalchemy, semantic-version, scipy, protobuf, portpicker, packaging, keras, grpcio, farmhashpy, attrs, jaxlib, jax, grpcio-tools, googleapis-common-protos, dp-accounting, google-vizier, google-auth-oauthlib, tensorboard, tensorflow, tensorflow-privacy, tensorflow-compression, tensorflow-federated\n",
            "  Attempting uninstall: typing-extensions\n",
            "    Found existing installation: typing_extensions 4.11.0\n",
            "    Uninstalling typing_extensions-4.11.0:\n",
            "      Successfully uninstalled typing_extensions-4.11.0\n",
            "  Attempting uninstall: tensorflow-probability\n",
            "    Found existing installation: tensorflow-probability 0.23.0\n",
            "    Uninstalling tensorflow-probability-0.23.0:\n",
            "      Successfully uninstalled tensorflow-probability-0.23.0\n",
            "  Attempting uninstall: tensorflow-estimator\n",
            "    Found existing installation: tensorflow-estimator 2.15.0\n",
            "    Uninstalling tensorflow-estimator-2.15.0:\n",
            "      Successfully uninstalled tensorflow-estimator-2.15.0\n",
            "  Attempting uninstall: sqlalchemy\n",
            "    Found existing installation: SQLAlchemy 2.0.29\n",
            "    Uninstalling SQLAlchemy-2.0.29:\n",
            "      Successfully uninstalled SQLAlchemy-2.0.29\n",
            "  Attempting uninstall: scipy\n",
            "    Found existing installation: scipy 1.11.4\n",
            "    Uninstalling scipy-1.11.4:\n",
            "      Successfully uninstalled scipy-1.11.4\n",
            "  Attempting uninstall: protobuf\n",
            "    Found existing installation: protobuf 3.20.3\n",
            "    Uninstalling protobuf-3.20.3:\n",
            "      Successfully uninstalled protobuf-3.20.3\n",
            "  Attempting uninstall: portpicker\n",
            "    Found existing installation: portpicker 1.5.2\n",
            "    Uninstalling portpicker-1.5.2:\n",
            "      Successfully uninstalled portpicker-1.5.2\n",
            "  Attempting uninstall: packaging\n",
            "    Found existing installation: packaging 24.0\n",
            "    Uninstalling packaging-24.0:\n",
            "      Successfully uninstalled packaging-24.0\n",
            "  Attempting uninstall: keras\n",
            "    Found existing installation: keras 2.15.0\n",
            "    Uninstalling keras-2.15.0:\n",
            "      Successfully uninstalled keras-2.15.0\n",
            "  Attempting uninstall: grpcio\n",
            "    Found existing installation: grpcio 1.62.1\n",
            "    Uninstalling grpcio-1.62.1:\n",
            "      Successfully uninstalled grpcio-1.62.1\n",
            "  Attempting uninstall: attrs\n",
            "    Found existing installation: attrs 23.2.0\n",
            "    Uninstalling attrs-23.2.0:\n",
            "      Successfully uninstalled attrs-23.2.0\n",
            "  Attempting uninstall: jaxlib\n",
            "    Found existing installation: jaxlib 0.4.26+cuda12.cudnn89\n",
            "    Uninstalling jaxlib-0.4.26+cuda12.cudnn89:\n",
            "      Successfully uninstalled jaxlib-0.4.26+cuda12.cudnn89\n",
            "  Attempting uninstall: jax\n",
            "    Found existing installation: jax 0.4.26\n",
            "    Uninstalling jax-0.4.26:\n",
            "      Successfully uninstalled jax-0.4.26\n",
            "  Attempting uninstall: googleapis-common-protos\n",
            "    Found existing installation: googleapis-common-protos 1.63.0\n",
            "    Uninstalling googleapis-common-protos-1.63.0:\n",
            "      Successfully uninstalled googleapis-common-protos-1.63.0\n",
            "  Attempting uninstall: google-auth-oauthlib\n",
            "    Found existing installation: google-auth-oauthlib 1.2.0\n",
            "    Uninstalling google-auth-oauthlib-1.2.0:\n",
            "      Successfully uninstalled google-auth-oauthlib-1.2.0\n",
            "  Attempting uninstall: tensorboard\n",
            "    Found existing installation: tensorboard 2.15.2\n",
            "    Uninstalling tensorboard-2.15.2:\n",
            "      Successfully uninstalled tensorboard-2.15.2\n",
            "  Attempting uninstall: tensorflow\n",
            "    Found existing installation: tensorflow 2.15.0\n",
            "    Uninstalling tensorflow-2.15.0:\n",
            "      Successfully uninstalled tensorflow-2.15.0\n",
            "\u001b[31mERROR: pip's dependency resolver does not currently take into account all the packages that are installed. This behaviour is the source of the following dependency conflicts.\n",
            "torch 2.2.1+cu121 requires nvidia-cublas-cu12==12.1.3.1; platform_system == \"Linux\" and platform_machine == \"x86_64\", which is not installed.\n",
            "torch 2.2.1+cu121 requires nvidia-cuda-cupti-cu12==12.1.105; platform_system == \"Linux\" and platform_machine == \"x86_64\", which is not installed.\n",
            "torch 2.2.1+cu121 requires nvidia-cuda-nvrtc-cu12==12.1.105; platform_system == \"Linux\" and platform_machine == \"x86_64\", which is not installed.\n",
            "torch 2.2.1+cu121 requires nvidia-cuda-runtime-cu12==12.1.105; platform_system == \"Linux\" and platform_machine == \"x86_64\", which is not installed.\n",
            "torch 2.2.1+cu121 requires nvidia-cudnn-cu12==8.9.2.26; platform_system == \"Linux\" and platform_machine == \"x86_64\", which is not installed.\n",
            "torch 2.2.1+cu121 requires nvidia-cufft-cu12==11.0.2.54; platform_system == \"Linux\" and platform_machine == \"x86_64\", which is not installed.\n",
            "torch 2.2.1+cu121 requires nvidia-curand-cu12==10.3.2.106; platform_system == \"Linux\" and platform_machine == \"x86_64\", which is not installed.\n",
            "torch 2.2.1+cu121 requires nvidia-cusolver-cu12==11.4.5.107; platform_system == \"Linux\" and platform_machine == \"x86_64\", which is not installed.\n",
            "torch 2.2.1+cu121 requires nvidia-cusparse-cu12==12.1.0.106; platform_system == \"Linux\" and platform_machine == \"x86_64\", which is not installed.\n",
            "torch 2.2.1+cu121 requires nvidia-nccl-cu12==2.19.3; platform_system == \"Linux\" and platform_machine == \"x86_64\", which is not installed.\n",
            "torch 2.2.1+cu121 requires nvidia-nvtx-cu12==12.1.105; platform_system == \"Linux\" and platform_machine == \"x86_64\", which is not installed.\n",
            "chex 0.1.86 requires jax>=0.4.16, but you have jax 0.4.14 which is incompatible.\n",
            "flax 0.8.2 requires jax>=0.4.19, but you have jax 0.4.14 which is incompatible.\n",
            "google-colab 1.0.0 requires portpicker==1.5.2, but you have portpicker 1.6.0 which is incompatible.\n",
            "ipython-sql 0.5.0 requires sqlalchemy>=2.0, but you have sqlalchemy 1.4.20 which is incompatible.\n",
            "pydantic 2.7.0 requires typing-extensions>=4.6.1, but you have typing-extensions 4.5.0 which is incompatible.\n",
            "pydantic-core 2.18.1 requires typing-extensions!=4.7.0,>=4.6.0, but you have typing-extensions 4.5.0 which is incompatible.\n",
            "tensorflow-metadata 1.14.0 requires protobuf<4.21,>=3.20.3, but you have protobuf 4.25.3 which is incompatible.\n",
            "tf-keras 2.15.1 requires tensorflow<2.16,>=2.15, but you have tensorflow 2.14.1 which is incompatible.\n",
            "torch 2.2.1+cu121 requires typing-extensions>=4.8.0, but you have typing-extensions 4.5.0 which is incompatible.\u001b[0m\u001b[31m\n",
            "\u001b[0mSuccessfully installed attrs-23.1.0 dp-accounting-0.4.3 farmhashpy-0.4.0 google-auth-oauthlib-1.0.0 google-vizier-0.1.11 googleapis-common-protos-1.61.0 grpcio-1.62.2 grpcio-tools-1.62.2 jax-0.4.14 jaxlib-0.4.14 keras-2.14.0 packaging-22.0 portpicker-1.6.0 protobuf-4.25.3 scipy-1.9.3 semantic-version-2.10.0 sqlalchemy-1.4.20 tensorboard-2.14.1 tensorflow-2.14.1 tensorflow-compression-2.14.0 tensorflow-estimator-2.14.0 tensorflow-federated-0.76.0 tensorflow-model-optimization-0.7.5 tensorflow-privacy-0.9.0 tensorflow-probability-0.22.1 typing-extensions-4.5.0\n"
          ]
        },
        {
          "output_type": "display_data",
          "data": {
            "application/vnd.colab-display-data+json": {
              "pip_warning": {
                "packages": [
                  "google",
                  "portpicker"
                ]
              },
              "id": "a949892b38c74774940dd78dca06cbcd"
            }
          },
          "metadata": {}
        }
      ],
      "source": [
        "!pip install tensorflow-federated"
      ]
    },
    {
      "cell_type": "code",
      "execution_count": null,
      "metadata": {
        "colab": {
          "base_uri": "https://localhost:8080/"
        },
        "id": "Hjvcz-phOlRI",
        "outputId": "b0a73ec5-8f29-4572-f4ba-ad42b7ca2fd8"
      },
      "outputs": [
        {
          "output_type": "stream",
          "name": "stdout",
          "text": [
            "Requirement already satisfied: nest-asyncio in /usr/local/lib/python3.10/dist-packages (1.6.0)\n",
            "Requirement already satisfied: pandas in /usr/local/lib/python3.10/dist-packages (2.0.3)\n",
            "Requirement already satisfied: python-dateutil>=2.8.2 in /usr/local/lib/python3.10/dist-packages (from pandas) (2.8.2)\n",
            "Requirement already satisfied: pytz>=2020.1 in /usr/local/lib/python3.10/dist-packages (from pandas) (2023.4)\n",
            "Requirement already satisfied: tzdata>=2022.1 in /usr/local/lib/python3.10/dist-packages (from pandas) (2024.1)\n",
            "Requirement already satisfied: numpy>=1.21.0 in /usr/local/lib/python3.10/dist-packages (from pandas) (1.25.2)\n",
            "Requirement already satisfied: six>=1.5 in /usr/local/lib/python3.10/dist-packages (from python-dateutil>=2.8.2->pandas) (1.16.0)\n",
            "Requirement already satisfied: matplotlib in /usr/local/lib/python3.10/dist-packages (3.7.1)\n",
            "Requirement already satisfied: contourpy>=1.0.1 in /usr/local/lib/python3.10/dist-packages (from matplotlib) (1.2.1)\n",
            "Requirement already satisfied: cycler>=0.10 in /usr/local/lib/python3.10/dist-packages (from matplotlib) (0.12.1)\n",
            "Requirement already satisfied: fonttools>=4.22.0 in /usr/local/lib/python3.10/dist-packages (from matplotlib) (4.51.0)\n",
            "Requirement already satisfied: kiwisolver>=1.0.1 in /usr/local/lib/python3.10/dist-packages (from matplotlib) (1.4.5)\n",
            "Requirement already satisfied: numpy>=1.20 in /usr/local/lib/python3.10/dist-packages (from matplotlib) (1.25.2)\n",
            "Requirement already satisfied: packaging>=20.0 in /usr/local/lib/python3.10/dist-packages (from matplotlib) (22.0)\n",
            "Requirement already satisfied: pillow>=6.2.0 in /usr/local/lib/python3.10/dist-packages (from matplotlib) (9.4.0)\n",
            "Requirement already satisfied: pyparsing>=2.3.1 in /usr/local/lib/python3.10/dist-packages (from matplotlib) (3.1.2)\n",
            "Requirement already satisfied: python-dateutil>=2.7 in /usr/local/lib/python3.10/dist-packages (from matplotlib) (2.8.2)\n",
            "Requirement already satisfied: six>=1.5 in /usr/local/lib/python3.10/dist-packages (from python-dateutil>=2.7->matplotlib) (1.16.0)\n"
          ]
        }
      ],
      "source": [
        "!pip install nest-asyncio\n",
        "!pip install pandas\n",
        "!pip install matplotlib"
      ]
    },
    {
      "cell_type": "code",
      "execution_count": null,
      "metadata": {
        "id": "XPGJarhtOlRJ"
      },
      "outputs": [],
      "source": [
        "import collections\n",
        "import os\n",
        "import pandas as pd\n",
        "import tensorflow as tf\n",
        "import tensorflow_federated as tff\n",
        "import time\n",
        "from matplotlib import pyplot as plt\n",
        "import nest_asyncio\n",
        "import numpy as np\n",
        "nest_asyncio.apply()\n",
        "\n",
        "%matplotlib inline"
      ]
    },
    {
      "cell_type": "code",
      "execution_count": null,
      "metadata": {
        "id": "ZsSpI8NZOlRJ"
      },
      "outputs": [],
      "source": [
        "df_train = pd.read_csv('/content/KDDTrain+.txt')  # Replace with the actual path\n",
        "df_test = pd.read_csv('/content/KDDTest+.txt')"
      ]
    },
    {
      "cell_type": "code",
      "execution_count": null,
      "metadata": {
        "id": "4Hj9KKRHOlRK"
      },
      "outputs": [],
      "source": [
        "df_train.columns = ['duration', 'protocol_type', 'service', 'flag', 'src_bytes',\n",
        "'dst_bytes', 'land', 'wrong_fragment', 'urgent', 'hot',\n",
        "'num_failed_logins', 'logged_in', 'num_compromised', 'root_shell',\n",
        "'su_attempted', 'num_root', 'num_file_creations', 'num_shells',\n",
        "'num_access_files', 'num_outbound_cmds', 'is_host_login',\n",
        "'is_guest_login', 'count', 'srv_count', 'serror_rate',\n",
        "'srv_serror_rate', 'rerror_rate', 'srv_rerror_rate', 'same_srv_rate',\n",
        "'diff_srv_rate', 'srv_diff_host_rate', 'dst_host_count',\n",
        "'dst_host_srv_count', 'dst_host_same_srv_rate','dst_host_diff_srv_rate', 'dst_host_same_src_port_rate',\n",
        "'dst_host_srv_diff_host_rate', 'dst_host_serror_rate',\n",
        "'dst_host_srv_serror_rate', 'dst_host_rerror_rate',\n",
        "'dst_host_srv_rerror_rate', 'subclass', 'difficulty_level']\n",
        "\n",
        "df_test.columns = ['duration', 'protocol_type', 'service', 'flag', 'src_bytes',\n",
        "'dst_bytes', 'land', 'wrong_fragment', 'urgent', 'hot',\n",
        "'num_failed_logins', 'logged_in', 'num_compromised', 'root_shell',\n",
        "'su_attempted', 'num_root', 'num_file_creations', 'num_shells',\n",
        "'num_access_files', 'num_outbound_cmds', 'is_host_login',\n",
        "'is_guest_login', 'count', 'srv_count', 'serror_rate',\n",
        "'srv_serror_rate', 'rerror_rate', 'srv_rerror_rate', 'same_srv_rate',\n",
        "'diff_srv_rate', 'srv_diff_host_rate', 'dst_host_count',\n",
        "'dst_host_srv_count', 'dst_host_same_srv_rate','dst_host_diff_srv_rate', 'dst_host_same_src_port_rate',\n",
        "'dst_host_srv_diff_host_rate', 'dst_host_serror_rate',\n",
        "'dst_host_srv_serror_rate', 'dst_host_rerror_rate',\n",
        "'dst_host_srv_rerror_rate', 'subclass', 'difficulty_level']"
      ]
    },
    {
      "cell_type": "code",
      "execution_count": null,
      "metadata": {
        "id": "RQcrkbIUOlRK"
      },
      "outputs": [],
      "source": [
        "df_train = df_train.drop('difficulty_level', axis=1)\n",
        "df_test = df_test.drop('difficulty_level', axis = 1)"
      ]
    },
    {
      "cell_type": "code",
      "execution_count": null,
      "metadata": {
        "id": "xNDx0tCiOlRL"
      },
      "outputs": [],
      "source": [
        "df_train['protocol_type'] = df_train['protocol_type'].str.lower()\n",
        "df_test['protocol_type'] = df_test['protocol_type'].str.lower()\n",
        "\n",
        "df_train['service'] = df_train['service'].str.lower()\n",
        "df_test['service'] = df_test['service'].str.lower()\n",
        "\n",
        "df_train['flag'] = df_train['flag'].str.lower()\n",
        "df_test['flag'] = df_test['flag'].str.lower()"
      ]
    },
    {
      "cell_type": "code",
      "execution_count": null,
      "metadata": {
        "id": "dMnkXiXqOlRL"
      },
      "outputs": [],
      "source": [
        "unique_labels_pro_train = list(df_train.protocol_type.astype('category').unique())\n",
        "unique_codes_pro_train = list(df_train.protocol_type.astype('category').cat.codes.unique())\n",
        "mapping_pro_train = {unique_codes_pro_train[i] : unique_labels_pro_train[i] for i in range(len(unique_labels_pro_train))}\n",
        "\n",
        "unique_labels_pro_test = list(df_test.protocol_type.astype('category').unique())\n",
        "unique_codes_pro_test = list(df_test.protocol_type.astype('category').cat.codes.unique())\n",
        "mapping_pro_test = {unique_codes_pro_test[i] : unique_labels_pro_test[i] for i in range(len(unique_labels_pro_test))}"
      ]
    },
    {
      "cell_type": "code",
      "execution_count": null,
      "metadata": {
        "colab": {
          "base_uri": "https://localhost:8080/"
        },
        "id": "_YjrfE6kOlRM",
        "outputId": "4c7e6031-c5cb-44f1-ed7c-c4600b1033aa"
      },
      "outputs": [
        {
          "output_type": "stream",
          "name": "stdout",
          "text": [
            "{1: 'tcp', 0: 'icmp', 2: 'udp'}\n",
            "{2: 'udp', 1: 'tcp', 0: 'icmp'}\n"
          ]
        }
      ],
      "source": [
        "print(mapping_pro_test)\n",
        "print(mapping_pro_train)"
      ]
    },
    {
      "cell_type": "code",
      "execution_count": null,
      "metadata": {
        "id": "zMEKnRxROlRM"
      },
      "outputs": [],
      "source": [
        "df_train['protocol_type'] = df_train['protocol_type'].replace(unique_labels_pro_train, unique_codes_pro_train)\n",
        "df_test['protocol_type'] = df_test['protocol_type'].replace(unique_labels_pro_test, unique_codes_pro_test)"
      ]
    },
    {
      "cell_type": "code",
      "execution_count": null,
      "metadata": {
        "id": "ejd0SG3lOlRM"
      },
      "outputs": [],
      "source": [
        "unique_labels_ser_train = list(df_train.service.astype('category').unique())\n",
        "unique_codes_ser_train = list(df_train.service.astype('category').cat.codes.unique())\n",
        "mapping_ser_train = {unique_codes_ser_train[i] : unique_labels_ser_train[i] for i in range(len(unique_labels_ser_train))}\n",
        "\n",
        "unique_labels_ser_test = list(df_test.service.astype('category').unique())\n",
        "unique_codes_ser_test = list(df_test.service.astype('category').cat.codes.unique())\n",
        "mapping_ser_test = {unique_codes_ser_test[i] : unique_labels_ser_test[i] for i in range(len(unique_labels_ser_test))}"
      ]
    },
    {
      "cell_type": "code",
      "execution_count": null,
      "metadata": {
        "colab": {
          "base_uri": "https://localhost:8080/"
        },
        "id": "7EshtAJIOlRM",
        "outputId": "1d064bb8-3183-435f-cd06-a54a54e37fa9"
      },
      "outputs": [
        {
          "output_type": "stream",
          "name": "stdout",
          "text": [
            "{43: 'private', 16: 'ftp_data', 10: 'eco_i', 53: 'telnet', 19: 'http', 47: 'smtp', 15: 'ftp', 26: 'ldap', 41: 'pop_3', 2: 'courier', 6: 'discard', 11: 'ecr_i', 21: 'imap4', 8: 'domain_u', 29: 'mtp', 52: 'systat', 23: 'iso_tsap', 38: 'other', 3: 'csnet_ns', 14: 'finger', 58: 'uucp', 61: 'whois', 32: 'netbios_ns', 27: 'link', 63: 'z39_50', 50: 'sunrpc', 0: 'auth', 31: 'netbios_dgm', 59: 'uucp_path', 60: 'vmnet', 7: 'domain', 30: 'name', 40: 'pop_2', 20: 'http_443', 57: 'urp_i', 28: 'login', 17: 'gopher', 13: 'exec', 56: 'time', 44: 'remote_job', 49: 'ssh', 25: 'kshell', 48: 'sql_net', 46: 'shell', 18: 'hostnames', 9: 'echo', 5: 'daytime', 39: 'pm_dump', 22: 'irc', 34: 'netstat', 4: 'ctf', 36: 'nntp', 33: 'netbios_ssn', 55: 'tim_i', 51: 'supdup', 1: 'bgp', 35: 'nnsp', 45: 'rje', 42: 'printer', 12: 'efs', 62: 'x11', 37: 'ntp_u', 24: 'klogin', 54: 'tftp_u'}\n",
            "{42: 'other', 47: 'private', 21: 'http', 49: 'remote_job', 17: 'ftp_data', 34: 'name', 36: 'netbios_ns', 11: 'eco_i', 33: 'mtp', 58: 'telnet', 15: 'finger', 9: 'domain_u', 56: 'supdup', 65: 'uucp_path', 69: 'z39_50', 52: 'smtp', 4: 'csnet_ns', 64: 'uucp', 35: 'netbios_dgm', 63: 'urp_i', 1: 'auth', 8: 'domain', 16: 'ftp', 2: 'bgp', 30: 'ldap', 12: 'ecr_i', 18: 'gopher', 66: 'vmnet', 57: 'systat', 23: 'http_443', 13: 'efs', 67: 'whois', 25: 'imap4', 27: 'iso_tsap', 10: 'echo', 28: 'klogin', 31: 'link', 55: 'sunrpc', 32: 'login', 29: 'kshell', 53: 'sql_net', 61: 'time', 20: 'hostnames', 14: 'exec', 41: 'ntp_u', 7: 'discard', 40: 'nntp', 3: 'courier', 5: 'ctf', 54: 'ssh', 6: 'daytime', 51: 'shell', 38: 'netstat', 45: 'pop_3', 39: 'nnsp', 26: 'irc', 44: 'pop_2', 46: 'printer', 60: 'tim_i', 43: 'pm_dump', 48: 'red_i', 37: 'netbios_ssn', 50: 'rje', 68: 'x11', 62: 'urh_i', 24: 'http_8001', 0: 'aol', 22: 'http_2784', 59: 'tftp_u', 19: 'harvest'}\n"
          ]
        }
      ],
      "source": [
        "print(mapping_ser_test)\n",
        "print(mapping_ser_train)"
      ]
    },
    {
      "cell_type": "code",
      "execution_count": null,
      "metadata": {
        "id": "7aaclK9bOlRN"
      },
      "outputs": [],
      "source": [
        "df_train['service'] = df_train['service'].replace(unique_labels_ser_train, unique_codes_ser_train)\n",
        "df_test['service'] = df_test['service'].replace(unique_labels_ser_test, unique_codes_ser_test)"
      ]
    },
    {
      "cell_type": "code",
      "execution_count": null,
      "metadata": {
        "id": "fFik-PSvOlRN"
      },
      "outputs": [],
      "source": [
        "unique_labels_flag_train = list(df_train.flag.astype('category').unique())\n",
        "unique_codes_flag_train = list(df_train.flag.astype('category').cat.codes.unique())\n",
        "mapping_flag_train = {unique_codes_flag_train[i] : unique_labels_flag_train[i] for i in range(len(unique_labels_flag_train))}\n",
        "\n",
        "unique_labels_flag_test = list(df_test.flag.astype('category').unique())\n",
        "unique_codes_flag_test = list(df_test.flag.astype('category').cat.codes.unique())\n",
        "mapping_flag_test = {unique_codes_flag_test[i] : unique_labels_flag_test[i] for i in range(len(unique_labels_flag_test))}"
      ]
    },
    {
      "cell_type": "code",
      "execution_count": null,
      "metadata": {
        "id": "JzzSMmI7OlRN"
      },
      "outputs": [],
      "source": [
        "df_train['flag'] = df_train['flag'].replace(unique_labels_flag_train, unique_codes_flag_train)\n",
        "df_test['flag'] = df_test['flag'].replace(unique_labels_flag_test, unique_codes_flag_test)"
      ]
    },
    {
      "cell_type": "code",
      "execution_count": null,
      "metadata": {
        "id": "Egd1R4NIOlRN"
      },
      "outputs": [],
      "source": [
        "\n",
        "df_train['subclass'] = df_train['subclass'].str.lower()\n",
        "df_test['subclass'] = df_test['subclass'].str.lower()"
      ]
    },
    {
      "cell_type": "code",
      "execution_count": null,
      "metadata": {
        "id": "swbU8QZLOlRN"
      },
      "outputs": [],
      "source": [
        "\n",
        "tmp = df_train.pop('subclass')\n",
        "tmp1 = df_test.pop('subclass')"
      ]
    },
    {
      "cell_type": "code",
      "execution_count": null,
      "metadata": {
        "id": "yWGD-GkFOlRN"
      },
      "outputs": [],
      "source": [
        "classlist=[]\n",
        "classlist_test=[]\n",
        "NormalCount = 0\n",
        "AttackCount = 0\n",
        "NormalCount_test = 0\n",
        "AttackCount_test = 0\n",
        "\n",
        "for item in tmp:\n",
        "    if(item == \"normal\"):\n",
        "        classlist.append(\"normal\")\n",
        "        NormalCount+=1\n",
        "    else:\n",
        "        classlist.append(\"attack\")\n",
        "        AttackCount+=1\n",
        "\n",
        "for item in tmp1:\n",
        "    if(item == \"normal\"):\n",
        "        classlist_test.append(\"normal\")\n",
        "        NormalCount_test+=1\n",
        "    else:\n",
        "        classlist_test.append(\"attack\")\n",
        "        AttackCount_test+=1"
      ]
    },
    {
      "cell_type": "code",
      "execution_count": null,
      "metadata": {
        "id": "FXGUPdVSOlRN"
      },
      "outputs": [],
      "source": [
        "df_train[\"subclass\"] =classlist\n",
        "df_test[\"subclass\"] = classlist_test"
      ]
    },
    {
      "cell_type": "code",
      "execution_count": null,
      "metadata": {
        "id": "qfViQv-mOlRN"
      },
      "outputs": [],
      "source": [
        "unique_labels = list(df_train.subclass.astype('category').unique())\n",
        "unique_codes = list(df_train.subclass.astype('category').cat.codes.unique())\n",
        "mapping = {unique_codes[i] : unique_labels[i] for i in range(len(unique_labels))}\n",
        "\n",
        "unique_labels_test = list(df_test.subclass.astype('category').unique())\n",
        "unique_codes_test = list(df_test.subclass.astype('category').cat.codes.unique())\n",
        "mapping_test = {unique_codes_test[i] : unique_labels_test[i] for i in range(len(unique_labels_test))}"
      ]
    },
    {
      "cell_type": "code",
      "execution_count": null,
      "metadata": {
        "id": "9_BtStigOlRO"
      },
      "outputs": [],
      "source": [
        "df_train['subclass'] = df_train['subclass'].replace(unique_labels, unique_codes)\n",
        "df_test['subclass'] = df_test['subclass'].replace(unique_labels_test, unique_codes_test)"
      ]
    },
    {
      "cell_type": "code",
      "execution_count": null,
      "metadata": {
        "id": "-knDqLSmOlRO"
      },
      "outputs": [],
      "source": [
        "\n",
        "train = df_train\n",
        "test = df_test"
      ]
    },
    {
      "cell_type": "code",
      "execution_count": null,
      "metadata": {
        "colab": {
          "base_uri": "https://localhost:8080/"
        },
        "id": "5BfACn2qOlRO",
        "outputId": "9d071578-5461-4240-ebda-561841158d72"
      },
      "outputs": [
        {
          "output_type": "stream",
          "name": "stdout",
          "text": [
            "df train[0] size  125972\n",
            "12597 1259.7\n",
            "df-test size 22543\n"
          ]
        }
      ],
      "source": [
        "n_workers=10\n",
        "n_samples = int(df_train.shape[0] / n_workers)\n",
        "print(\"df train[0] size \",df_train.shape[0])\n",
        "print(n_samples,n_samples/n_workers)\n",
        "n_samples_test = int(df_test.shape[0]/n_workers)\n",
        "print(\"df-test size\",df_test.shape[0])\n",
        "assert n_samples > 0, \"Each worker must be assigned at least one data point\""
      ]
    },
    {
      "cell_type": "code",
      "execution_count": null,
      "metadata": {
        "colab": {
          "base_uri": "https://localhost:8080/"
        },
        "id": "nR9kbPK7OlRO",
        "outputId": "ef087aaa-4eb2-499c-b758-dd71fab5715f"
      },
      "outputs": [
        {
          "output_type": "stream",
          "name": "stdout",
          "text": [
            "2  output_shape\n",
            "shuffle_buffer_size  125972\n",
            "batch_size  250\n",
            "prefetch_buffer_size  50\n",
            "input_shape  41\n",
            "22543 shuffle_buffer_size_test\n",
            "41 input_shape_test\n",
            "2 output_shape_test\n"
          ]
        }
      ],
      "source": [
        "import numpy as np\n",
        "n_epochs = 10\n",
        "shuffle_buffer_size = df_train.shape[0]\n",
        "batch_size = 250\n",
        "prefetch_buffer_size = 50\n",
        "input_shape = df_train.shape[1]-1\n",
        "output_shape = len(unique_codes)\n",
        "print(output_shape , \" output_shape\")\n",
        "print(\"shuffle_buffer_size \", shuffle_buffer_size)\n",
        "print(\"batch_size \",batch_size)\n",
        "print(\"prefetch_buffer_size \", prefetch_buffer_size)\n",
        "print(\"input_shape \", input_shape)\n",
        "\n",
        "shuffle_buffer_size_test = df_test.shape[0]\n",
        "print(shuffle_buffer_size_test, \"shuffle_buffer_size_test\")\n",
        "batch_size_test = 250\n",
        "prefetch_buffer_size_test = 50\n",
        "input_shape_test = df_test.shape[1]-1\n",
        "print(input_shape_test,\"input_shape_test\")\n",
        "output_shape_test = len(unique_codes_test)\n",
        "print(output_shape_test,\"output_shape_test\")"
      ]
    },
    {
      "cell_type": "code",
      "execution_count": null,
      "metadata": {
        "id": "4ZgEWimqOlRO"
      },
      "outputs": [],
      "source": [
        "def preprocess(dataframe):\n",
        "\n",
        "    \"\"\"Flatten a batch `pixels` and return the features as an `OrderedDict`.\"\"\"\n",
        "    def map_fn(dataset):\n",
        "        return collections.OrderedDict(\n",
        "            x=tf.cast(dataset[:,:-1], tf.float64),\n",
        "            y=tf.cast(tf.reshape(dataset[:,-1], shape=(-1, 1)), tf.int64)\n",
        "        )\n",
        "\n",
        "    return tf.data.Dataset.from_tensor_slices(dataframe).repeat(n_epochs).shuffle(\n",
        "        shuffle_buffer_size).batch(batch_size).map(map_fn).prefetch(prefetch_buffer_size)\n",
        "\n",
        "\n",
        "client_data = [preprocess(train.sample(n=n_samples)) for _ in range(n_workers)]"
      ]
    },
    {
      "cell_type": "code",
      "execution_count": null,
      "metadata": {
        "id": "TcN7uj8IOlRO"
      },
      "outputs": [],
      "source": [
        "def preprocess_test(dataframe):\n",
        "\n",
        "    \"\"\"Flatten a batch `pixels` and return the features as an `OrderedDict`.\"\"\"\n",
        "    def map_fn(dataset):\n",
        "        return collections.OrderedDict(\n",
        "            x=tf.cast(dataset[:,:-1], tf.float64),\n",
        "            y=tf.cast(tf.reshape(dataset[:,-1], shape=(-1, 1)), tf.int64)\n",
        "        )\n",
        "\n",
        "    return tf.data.Dataset.from_tensor_slices(dataframe).repeat(n_epochs).shuffle(\n",
        "        shuffle_buffer_size_test).batch(batch_size_test).map(map_fn).prefetch(prefetch_buffer_size_test)\n",
        "\n",
        "\n",
        "client_data_test = [preprocess(test.sample(n=n_samples_test)) for _ in range(n_workers)]"
      ]
    },
    {
      "cell_type": "code",
      "execution_count": null,
      "metadata": {
        "colab": {
          "base_uri": "https://localhost:8080/"
        },
        "id": "SDI-4NgSOlRO",
        "outputId": "ab65bf94-02e0-42f2-e848-256847526b81"
      },
      "outputs": [
        {
          "output_type": "stream",
          "name": "stdout",
          "text": [
            "Worker 1 data contains 504 training points\n",
            "Worker 2 data contains 504 training points\n",
            "Worker 3 data contains 504 training points\n",
            "Worker 4 data contains 504 training points\n",
            "Worker 5 data contains 504 training points\n",
            "Worker 6 data contains 504 training points\n",
            "Worker 7 data contains 504 training points\n",
            "Worker 8 data contains 504 training points\n",
            "Worker 9 data contains 504 training points\n",
            "Worker 10 data contains 504 training points\n"
          ]
        }
      ],
      "source": [
        "for i in range(n_workers):\n",
        "    print(f\"Worker {i+1} data contains {len(client_data[i])} training points\")"
      ]
    },
    {
      "cell_type": "code",
      "execution_count": null,
      "metadata": {
        "colab": {
          "base_uri": "https://localhost:8080/"
        },
        "id": "8okDuOlNOlRP",
        "outputId": "09af41bc-bf23-4d4c-db5c-a28075a378ab"
      },
      "outputs": [
        {
          "output_type": "stream",
          "name": "stdout",
          "text": [
            "Worker 1 data contains 91 testing points\n",
            "Worker 2 data contains 91 testing points\n",
            "Worker 3 data contains 91 testing points\n",
            "Worker 4 data contains 91 testing points\n",
            "Worker 5 data contains 91 testing points\n",
            "Worker 6 data contains 91 testing points\n",
            "Worker 7 data contains 91 testing points\n",
            "Worker 8 data contains 91 testing points\n",
            "Worker 9 data contains 91 testing points\n",
            "Worker 10 data contains 91 testing points\n"
          ]
        }
      ],
      "source": [
        "for i in range(n_workers):\n",
        "    print(f\"Worker {i+1} data contains {len(client_data_test[i])} testing points\")"
      ]
    },
    {
      "cell_type": "code",
      "execution_count": null,
      "metadata": {
        "colab": {
          "base_uri": "https://localhost:8080/",
          "height": 568
        },
        "id": "bFYae-U-OlRP",
        "outputId": "b77daad6-c228-47b2-9558-57a960951e85"
      },
      "outputs": [
        {
          "output_type": "display_data",
          "data": {
            "text/plain": [
              "<Figure size 2000x1000 with 10 Axes>"
            ],
            "image/png": "[encoded data removed]"
          },
          "metadata": {}
        }
      ],
      "source": [
        "import matplotlib.pyplot as plt\n",
        "import collections\n",
        "\n",
        "fig = plt.figure(figsize=(20, 10))  # Increase the height to accommodate larger subplots\n",
        "fig.suptitle('Label Counts for a Sample of Client Data')\n",
        "\n",
        "# Calculate the number of rows and columns for subplots\n",
        "# n_workers = 10  # Assuming you have 10 workers\n",
        "n_cols = min(n_workers, 5)\n",
        "n_rows = (n_workers + n_cols - 1) // n_cols\n",
        "\n",
        "for i in range(n_workers):\n",
        "    m = 0\n",
        "    plot_data = collections.defaultdict(list)\n",
        "    for label in list(client_data[i])[0]['y'].numpy()[:,0]:\n",
        "        plot_data[label].append(label)\n",
        "        m = max(m, len(plot_data[label]))\n",
        "\n",
        "    xlim = [0, m+(5-m%5)]\n",
        "    ylim = [min(unique_codes)-1, max(unique_codes)+1]\n",
        "    yticks = list(range(min(unique_codes), max(unique_codes)+1))\n",
        "    yticks_labels = [mapping[k] for k in range(0, max(unique_codes)+1)]\n",
        "\n",
        "    # Calculate the position of the subplot\n",
        "    row_index = i // n_cols\n",
        "    col_index = i % n_cols\n",
        "\n",
        "    ax = fig.add_subplot(n_rows, n_cols, i+1)\n",
        "    ax.set_title('Client {}'.format(i+1))\n",
        "    ax.set_xlabel('Count', labelpad=10)\n",
        "    ax.set_xlim(xlim)\n",
        "    ax.set_ylabel('Classes', labelpad=10)\n",
        "    ax.set_ylim(ylim)\n",
        "    ax.set_yticks(yticks)\n",
        "    ax.set_yticklabels(yticks_labels)\n",
        "\n",
        "    for key in plot_data:\n",
        "        if len(plot_data[key]) > 0:\n",
        "            ax.text(len(plot_data[key])+0.6, int(key)-0.1, str(len(plot_data[key])), ha='center')\n",
        "\n",
        "    for j in range(min(unique_codes), max(unique_codes)+1):\n",
        "        ax.hist(\n",
        "            plot_data[j],\n",
        "            density=False,\n",
        "            bins=[k-0.5 for k in range(min(unique_codes), max(unique_codes)+2)],\n",
        "            orientation='horizontal'\n",
        "        )\n",
        "\n",
        "plt.tight_layout()  # Adjust the spacing between subplots\n",
        "plt.show()\n"
      ]
    },
    {
      "cell_type": "code",
      "execution_count": null,
      "metadata": {
        "id": "o3DBzEn7OlRP"
      },
      "outputs": [],
      "source": [
        "\n",
        "from keras.models import Sequential\n",
        "from keras.layers import Dense, Dropout, Activation, Embedding\n",
        "from keras.layers import LSTM, SimpleRNN, GRU, Bidirectional, BatchNormalization,Convolution1D,MaxPooling1D, Reshape, GlobalAveragePooling1D,Dense,GroupNormalization\n",
        "from tensorflow.keras.metrics import BinaryAccuracy, Precision, Recall"
      ]
    },
    {
      "cell_type": "code",
      "execution_count": null,
      "metadata": {
        "id": "faaO8XloOlRP"
      },
      "outputs": [],
      "source": [
        "def model_fn():\n",
        "    model = tf.keras.models.Sequential([\n",
        "        tf.keras.layers.InputLayer(input_shape=input_shape),\n",
        "        tf.keras.layers.Reshape((1, -1)),  # Reshape input to have shape (batch_size, 1, input_dim)\n",
        "        tf.keras.layers.Bidirectional(tf.keras.layers.LSTM(32, activation='relu')),\n",
        "        tf.keras.layers.Dense(64, activation='relu'),\n",
        "        tf.keras.layers.Dense(32, activation='relu'),\n",
        "        tf.keras.layers.Dense(1, activation='sigmoid'),\n",
        "    ])\n",
        "    return tff.learning.models.from_keras_model(\n",
        "        model,\n",
        "        input_spec=collections.OrderedDict(\n",
        "            x=tf.TensorSpec(shape=[None, input_shape], dtype=tf.float64),\n",
        "            y=tf.TensorSpec(shape=[None, 1], dtype=tf.int64)),\n",
        "        loss=tf.keras.losses.BinaryCrossentropy(),\n",
        "        metrics=[BinaryAccuracy(), Precision(), Recall()])"
      ]
    },
    {
      "cell_type": "code",
      "execution_count": null,
      "metadata": {
        "id": "wDEe9YnzOlRP"
      },
      "outputs": [],
      "source": [
        "trainer = tff.learning.algorithms.build_weighted_fed_avg(\n",
        "    model_fn,\n",
        "    client_optimizer_fn=lambda: tf.keras.optimizers.SGD(learning_rate=0.01),\n",
        "    server_optimizer_fn=lambda: tf.keras.optimizers.SGD(learning_rate=1.0)\n",
        ")"
      ]
    },
    {
      "cell_type": "code",
      "execution_count": null,
      "metadata": {
        "colab": {
          "base_uri": "https://localhost:8080/"
        },
        "id": "pQdDoAzxOlRP",
        "outputId": "f5490b48-6fef-4df0-9dbd-63c9b0957d73"
      },
      "outputs": [
        {
          "output_type": "stream",
          "name": "stdout",
          "text": [
            "( -> <\n",
            "  global_model_weights=<\n",
            "    trainable=<\n",
            "      float32[41,128],\n",
            "      float32[32,128],\n",
            "      float32[128],\n",
            "      float32[41,128],\n",
            "      float32[32,128],\n",
            "      float32[128],\n",
            "      float32[64,64],\n",
            "      float32[64],\n",
            "      float32[64,32],\n",
            "      float32[32],\n",
            "      float32[32,1],\n",
            "      float32[1]\n",
            "    >,\n",
            "    non_trainable=<>\n",
            "  >,\n",
            "  distributor=<>,\n",
            "  client_work=<>,\n",
            "  aggregator=<\n",
            "    value_sum_process=<>,\n",
            "    weight_sum_process=<>\n",
            "  >,\n",
            "  finalizer=<\n",
            "    int64,\n",
            "    float32[41,128],\n",
            "    float32[32,128],\n",
            "    float32[128],\n",
            "    float32[41,128],\n",
            "    float32[32,128],\n",
            "    float32[128],\n",
            "    float32[64,64],\n",
            "    float32[64],\n",
            "    float32[64,32],\n",
            "    float32[32],\n",
            "    float32[32,1],\n",
            "    float32[1]\n",
            "  >\n",
            ">@SERVER)\n"
          ]
        }
      ],
      "source": [
        "print(trainer.initialize.type_signature.formatted_representation())"
      ]
    },
    {
      "cell_type": "code",
      "execution_count": null,
      "metadata": {
        "id": "j30IlLFjOlRQ"
      },
      "outputs": [],
      "source": [
        "def evaluate(num_rounds):\n",
        "    state = trainer.initialize()\n",
        "    for round in range(num_rounds):\n",
        "        t1 = time.time()\n",
        "        result = trainer.next(state, client_data)\n",
        "        state = result.state\n",
        "        train_metrics = result.metrics['client_work']['train']\n",
        "        # print(train_metrics)\n",
        "\n",
        "\n",
        "        train_accuracy = train_metrics['binary_accuracy'] * 100\n",
        "        train_precision = train_metrics['precision'] * 100\n",
        "        train_recall = train_metrics['recall']*100\n",
        "\n",
        "\n",
        "        t2 = time.time()\n",
        "        print('Round {}: accuracy {}, Precision {}, Recall {},round time {}'.format(\n",
        "            round+1, train_accuracy, train_precision,train_recall, t2 - t1))"
      ]
    },
    {
      "cell_type": "code",
      "execution_count": null,
      "metadata": {
        "colab": {
          "base_uri": "https://localhost:8080/"
        },
        "id": "6gC8oIqTOlRQ",
        "outputId": "54f205ac-841f-499a-dbcb-cde3437b0bd9"
      },
      "outputs": [
        {
          "output_type": "stream",
          "name": "stdout",
          "text": [
            "Round 1: accuracy 94.00428533554077, Precision 91.63610339164734, Recall 97.67882823944092,round time 41.52317833900452\n",
            "Round 2: accuracy 95.25918960571289, Precision 93.68891716003418, Recall 97.69623279571533,round time 28.42377805709839\n",
            "Round 3: accuracy 95.55052518844604, Precision 94.40752267837524, Recall 97.43290543556213,round time 30.132317781448364\n",
            "Round 4: accuracy 95.97340822219849, Precision 94.71393823623657, Recall 97.9186475276947,round time 32.48103141784668\n",
            "Round 5: accuracy 96.21290564537048, Precision 94.57685351371765, Recall 98.55376482009888,round time 29.13372564315796\n",
            "Round 6: accuracy 96.37151956558228, Precision 94.7721540927887, Recall 98.64109754562378,round time 26.323428869247437\n",
            "Round 7: accuracy 96.52742743492126, Precision 94.70904469490051, Recall 99.02403950691223,round time 32.732104778289795\n",
            "Round 8: accuracy 96.66610956192017, Precision 94.73727345466614, Recall 99.26624894142151,round time 32.87866711616516\n",
            "Round 9: accuracy 96.64689898490906, Precision 94.9356198310852, Recall 98.99696707725525,round time 28.449608087539673\n",
            "Round 10: accuracy 96.38025164604187, Precision 94.78846788406372, Recall 98.63945841789246,round time 28.131667375564575\n",
            "Round 11: accuracy 96.43454551696777, Precision 94.59889531135559, Recall 98.96854758262634,round time 30.00651502609253\n",
            "Round 12: accuracy 96.53885960578918, Precision 94.73787546157837, Recall 99.01303052902222,round time 30.403411149978638\n",
            "Round 13: accuracy 96.56053185462952, Precision 94.9910044670105, Recall 98.76190423965454,round time 30.756911277770996\n",
            "Round 14: accuracy 96.54623866081238, Precision 94.80566382408142, Recall 98.94861578941345,round time 34.08201575279236\n",
            "Round 15: accuracy 96.72636389732361, Precision 94.68843340873718, Recall 99.44313764572144,round time 27.079394578933716\n",
            "Round 16: accuracy 96.6979444026947, Precision 94.72021460533142, Recall 99.34940934181213,round time 29.75050115585327\n",
            "Round 17: accuracy 96.69143557548523, Precision 94.63639855384827, Recall 99.43495392799377,round time 30.97948670387268\n",
            "Round 18: accuracy 96.81757688522339, Precision 94.80796456336975, Recall 99.48390126228333,round time 29.00933027267456\n",
            "Round 19: accuracy 96.75803780555725, Precision 94.73450183868408, Recall 99.45191740989685,round time 25.675947189331055\n",
            "Round 20: accuracy 96.77939414978027, Precision 94.7267472743988, Recall 99.50339198112488,round time 32.45510649681091\n"
          ]
        }
      ],
      "source": [
        "evaluate(20)"
      ]
    },
    {
      "cell_type": "code",
      "execution_count": null,
      "metadata": {
        "id": "LNR3ne1COlRQ"
      },
      "outputs": [],
      "source": [
        "def evaluate_test(num_rounds):\n",
        "    state = trainer.initialize()\n",
        "    for round in range(num_rounds):\n",
        "        t1 = time.time()\n",
        "        result = trainer.next(state, client_data_test)\n",
        "        state = result.state\n",
        "        # print(result.metrics)\n",
        "        test_metrics = result.metrics['client_work']['train']\n",
        "        # print(train_metrics)\n",
        "\n",
        "\n",
        "        test_accuracy = test_metrics['binary_accuracy'] * 100\n",
        "        test_precision = test_metrics['precision'] * 100\n",
        "        test_recall = test_metrics['recall']*100\n",
        "\n",
        "\n",
        "        t2 = time.time()\n",
        "        print('Round {} : accuracy {}, Precision {}, Recall {}, round time {}'.format(\n",
        "            round+1, test_accuracy, test_precision,test_recall, t2 - t1))"
      ]
    },
    {
      "cell_type": "code",
      "execution_count": null,
      "metadata": {
        "id": "C_Rcv47fOlRQ",
        "colab": {
          "base_uri": "https://localhost:8080/"
        },
        "outputId": "002caf99-0fbd-4174-8ee8-257d9bad2cff"
      },
      "outputs": [
        {
          "output_type": "stream",
          "name": "stdout",
          "text": [
            "Round 1 : accuracy 81.03061318397522, Precision 78.05476784706116, Recall 77.44868397712708, round time 5.956145286560059\n",
            "Round 2 : accuracy 87.20585703849792, Precision 84.14907455444336, Recall 86.37362718582153, round time 7.302403926849365\n",
            "Round 3 : accuracy 90.12466669082642, Precision 91.03628993034363, Recall 85.32552123069763, round time 6.862739562988281\n",
            "Round 4 : accuracy 91.11091494560242, Precision 95.5436110496521, Recall 83.10491442680359, round time 5.997892141342163\n",
            "Round 5 : accuracy 90.3952956199646, Precision 96.17906212806702, Recall 80.76508641242981, round time 8.292763948440552\n",
            "Round 6 : accuracy 86.20186448097229, Precision 95.72798013687134, Recall 70.92266082763672, round time 6.1661553382873535\n",
            "Round 7 : accuracy 91.65971875190735, Precision 97.37218022346497, Recall 82.74414539337158, round time 8.866427183151245\n",
            "Round 8 : accuracy 91.91925525665283, Precision 97.01266288757324, Recall 83.69479775428772, round time 5.834837436676025\n",
            "Round 9 : accuracy 91.49245619773865, Precision 97.50909805297852, Recall 82.22060799598694, round time 7.687891960144043\n",
            "Round 10 : accuracy 91.24711751937866, Precision 97.43919372558594, Recall 81.6939651966095, round time 6.571430444717407\n",
            "Round 11 : accuracy 91.24889373779297, Precision 97.14205265045166, Recall 81.96247220039368, round time 5.978121757507324\n",
            "Round 12 : accuracy 91.80700778961182, Precision 97.31723666191101, Recall 83.14741849899292, round time 9.034523248672485\n",
            "Round 13 : accuracy 89.37932848930359, Precision 96.61871194839478, Recall 77.90897488594055, round time 7.57532525062561\n",
            "Round 14 : accuracy 91.0066545009613, Precision 97.02502489089966, Recall 81.48351907730103, round time 8.342978715896606\n",
            "Round 15 : accuracy 91.65971875190735, Precision 96.7978298664093, Recall 83.26560258865356, round time 6.022129535675049\n",
            "Round 16 : accuracy 88.71117830276489, Precision 96.57637476921082, Recall 76.32697224617004, round time 8.797548770904541\n",
            "Round 17 : accuracy 85.85847616195679, Precision 95.23329138755798, Recall 70.48310041427612, round time 5.614854574203491\n",
            "Round 18 : accuracy 90.6583845615387, Precision 96.64357304573059, Recall 80.98382949829102, round time 7.207442998886108\n",
            "Round 19 : accuracy 88.83363008499146, Precision 96.38381600379944, Recall 76.78830623626709, round time 6.931478977203369\n",
            "Round 20 : accuracy 91.10825061798096, Precision 96.7251181602478, Recall 81.99875354766846, round time 6.1490724086761475\n",
            "Round 21 : accuracy 90.91792106628418, Precision 96.93518280982971, Recall 81.34978413581848, round time 8.337712287902832\n",
            "Round 22 : accuracy 89.21827673912048, Precision 96.34305834770203, Recall 77.7576208114624, round time 5.618330240249634\n",
            "Round 23 : accuracy 91.27063155174255, Precision 95.8828330039978, Recall 83.17333459854126, round time 10.61598014831543\n",
            "Round 24 : accuracy 92.34161376953125, Precision 96.45152688026428, Recall 85.24051308631897, round time 5.683903455734253\n",
            "Round 25 : accuracy 90.97382426261902, Precision 93.5964286327362, Recall 84.70350503921509, round time 8.318637371063232\n",
            "Round 26 : accuracy 90.05590081214905, Precision 95.93196511268616, Recall 80.16276359558105, round time 6.091942310333252\n",
            "Round 27 : accuracy 89.15838599205017, Precision 97.37295508384705, Recall 76.73647403717041, round time 7.01303243637085\n",
            "Round 28 : accuracy 83.89840126037598, Precision 97.26617336273193, Recall 64.17893171310425, round time 7.493236780166626\n",
            "Round 29 : accuracy 85.85891723632812, Precision 94.23456192016602, Recall 71.31971716880798, round time 5.788495779037476\n",
            "Round 30 : accuracy 89.74888920783997, Precision 90.87666869163513, Recall 84.53245162963867, round time 8.74159288406372\n",
            "Round 31 : accuracy 90.47515392303467, Precision 87.28039264678955, Recall 91.00559949874878, round time 6.124192476272583\n",
            "Round 32 : accuracy 90.90017676353455, Precision 87.34670281410217, Recall 92.07443594932556, round time 8.778984308242798\n",
            "Round 33 : accuracy 90.19121527671814, Precision 84.34067964553833, Recall 94.6537435054779, round time 5.875616550445557\n",
            "Round 34 : accuracy 90.29547572135925, Precision 84.13609266281128, Recall 95.29027342796326, round time 7.472342491149902\n",
            "Round 35 : accuracy 90.24445414543152, Precision 83.96067023277283, Recall 95.43541073799133, round time 7.262728691101074\n",
            "Round 36 : accuracy 90.23691415786743, Precision 83.85257720947266, Recall 95.5950677394867, round time 6.683333158493042\n",
            "Round 37 : accuracy 90.08340835571289, Precision 83.87205600738525, Recall 95.11818289756775, round time 8.647411584854126\n",
            "Round 38 : accuracy 89.83895182609558, Precision 83.41343402862549, Recall 95.18349766731262, round time 6.081157445907593\n",
            "Round 39 : accuracy 90.45829772949219, Precision 84.45766568183899, Recall 95.22807598114014, round time 11.283485651016235\n",
            "Round 40 : accuracy 90.51108956336975, Precision 84.44870710372925, Recall 95.3939437866211, round time 6.951960563659668\n",
            "Round 41 : accuracy 90.57985544204712, Precision 84.52078104019165, Recall 95.47273516654968, round time 8.928527116775513\n",
            "Round 42 : accuracy 90.54170250892639, Precision 84.4257116317749, Recall 95.51938772201538, round time 5.947398662567139\n",
            "Round 43 : accuracy 90.44986963272095, Precision 84.37402248382568, Recall 95.34107446670532, round time 8.984141826629639\n",
            "Round 44 : accuracy 90.61180353164673, Precision 84.56270694732666, Recall 95.49553990364075, round time 6.077584505081177\n",
            "Round 45 : accuracy 90.48580527305603, Precision 84.37617421150208, Recall 95.44059634208679, round time 8.276169776916504\n",
            "Round 46 : accuracy 90.61091542243958, Precision 84.44038033485413, Recall 95.69355249404907, round time 6.7967119216918945\n",
            "Round 47 : accuracy 90.59005975723267, Precision 84.47533249855042, Recall 95.57640552520752, round time 8.834419965744019\n",
            "Round 48 : accuracy 90.57586789131165, Precision 84.46635603904724, Recall 95.55048942565918, round time 5.973222017288208\n",
            "Round 49 : accuracy 90.58518409729004, Precision 84.48640704154968, Recall 95.54426670074463, round time 7.016862630844116\n",
            "Round 50 : accuracy 90.56122303009033, Precision 84.50974225997925, Recall 95.43748497962952, round time 7.4249348640441895\n",
            "Round 51 : accuracy 90.65883159637451, Precision 84.52831506729126, Recall 95.68629264831543, round time 5.971744775772095\n",
            "Round 52 : accuracy 90.62555432319641, Precision 84.52590703964233, Recall 95.5950677394867, round time 9.088211059570312\n",
            "Round 53 : accuracy 90.64950942993164, Precision 84.51901078224182, Recall 95.6748902797699, round time 6.194748640060425\n",
            "Round 54 : accuracy 90.4334545135498, Precision 84.05616283416748, Recall 95.82106471061707, round time 8.951865434646606\n",
            "Round 55 : accuracy 88.90061974525452, Precision 81.48223161697388, Recall 95.84594368934631, round time 6.051578998565674\n",
            "Round 56 : accuracy 90.66770076751709, Precision 84.37941670417786, Recall 95.9568738937378, round time 8.652167320251465\n",
            "Round 57 : accuracy 90.55101871490479, Precision 84.28297638893127, Recall 95.78167200088501, round time 6.3761396408081055\n",
            "Round 58 : accuracy 90.53460359573364, Precision 84.19466614723206, Recall 95.88119387626648, round time 7.3235602378845215\n",
            "Round 59 : accuracy 90.38332104682922, Precision 84.09501314163208, Recall 95.61164975166321, round time 7.520218133926392\n",
            "Round 60 : accuracy 90.65660834312439, Precision 84.45943593978882, Recall 95.79307436943054, round time 6.353368282318115\n",
            "Round 61 : accuracy 90.52795171737671, Precision 84.34322476387024, Recall 95.61579823493958, round time 8.717196702957153\n",
            "Round 62 : accuracy 90.71206450462341, Precision 84.51624512672424, Recall 95.85838913917542, round time 6.123557806015015\n",
            "Round 63 : accuracy 90.74888825416565, Precision 84.56524014472961, Recall 95.88326811790466, round time 8.817306995391846\n",
            "Round 64 : accuracy 90.74888825416565, Precision 84.60890650749207, Recall 95.81173658370972, round time 6.178994655609131\n",
            "Round 65 : accuracy 90.40860533714294, Precision 84.16180610656738, Recall 95.57329416275024, round time 8.738826274871826\n",
            "Round 66 : accuracy 90.5199646949768, Precision 84.55365300178528, Recall 95.24776935577393, round time 9.01893401145935\n",
            "Round 67 : accuracy 91.47737622261047, Precision 88.03619742393494, Recall 92.67987012863159, round time 8.959285974502563\n",
            "Round 68 : accuracy 91.06876850128174, Precision 92.69484877586365, Recall 85.89985370635986, round time 6.062476873397827\n",
            "Round 69 : accuracy 91.54614210128784, Precision 96.9320297241211, Recall 82.8685462474823, round time 8.186254739761353\n",
            "Round 70 : accuracy 91.04880094528198, Precision 96.09305262565613, Recall 82.43520855903625, round time 6.9366209506988525\n",
            "Round 71 : accuracy 90.94764590263367, Precision 97.08883166313171, Recall 81.28446936607361, round time 7.0460429191589355\n",
            "Round 72 : accuracy 92.04480648040771, Precision 97.19574451446533, Recall 83.82956385612488, round time 8.159939050674438\n",
            "Round 73 : accuracy 90.83939790725708, Precision 95.35403847694397, Recall 82.61973857879639, round time 6.4225239753723145\n",
            "Round 74 : accuracy 87.72448897361755, Precision 94.82841491699219, Recall 75.42919516563416, round time 8.768398761749268\n",
            "Round 75 : accuracy 90.1526153087616, Precision 94.50036883354187, Recall 81.74684047698975, round time 6.077784299850464\n",
            "Round 76 : accuracy 90.44986963272095, Precision 94.98162865638733, Recall 82.01741576194763, round time 9.236344337463379\n",
            "Round 77 : accuracy 90.13708829879761, Precision 94.39905285835266, Recall 81.80696368217468, round time 6.297430992126465\n",
            "Round 78 : accuracy 90.6503975391388, Precision 97.00578451156616, Recall 80.6417167186737, round time 9.183650970458984\n",
            "Round 79 : accuracy 89.86468315124512, Precision 96.55700325965881, Recall 79.13850545883179, round time 6.294991493225098\n",
            "Round 80 : accuracy 90.95386266708374, Precision 93.88890266418457, Recall 84.35206413269043, round time 9.076954364776611\n",
            "Round 81 : accuracy 89.53770995140076, Precision 83.36782455444336, Recall 94.38212513923645, round time 6.887963771820068\n",
            "Round 82 : accuracy 89.53593373298645, Precision 82.58016109466553, Recall 95.74538469314575, round time 8.0557279586792\n",
            "Round 83 : accuracy 90.0297224521637, Precision 83.63137245178223, Recall 95.36802768707275, round time 7.525724649429321\n",
            "Round 84 : accuracy 90.24445414543152, Precision 83.73116850852966, Recall 95.82210183143616, round time 6.817018508911133\n",
            "Round 85 : accuracy 87.79680728912354, Precision 79.69595193862915, Recall 95.92266082763672, round time 8.258981704711914\n",
            "Round 86 : accuracy 87.97116279602051, Precision 79.95887398719788, Recall 95.93821167945862, round time 6.150511264801025\n",
            "Round 87 : accuracy 88.26486468315125, Precision 80.36713600158691, Recall 96.03980779647827, round time 9.232290983200073\n",
            "Round 88 : accuracy 88.43744397163391, Precision 80.6755781173706, Recall 95.96931338310242, round time 6.158497095108032\n",
            "Round 89 : accuracy 89.86113667488098, Precision 83.10292363166809, Recall 95.7837462425232, round time 9.15359091758728\n",
            "Round 90 : accuracy 89.41881060600281, Precision 82.23958611488342, Recall 96.00870609283447, round time 5.975902557373047\n",
            "Round 91 : accuracy 89.52928185462952, Precision 82.50283002853394, Recall 95.8635687828064, round time 8.33953046798706\n",
            "Round 92 : accuracy 87.82032132148743, Precision 79.61953282356262, Recall 96.15177512168884, round time 9.628010034561157\n",
            "Round 93 : accuracy 88.01419734954834, Precision 79.93327379226685, Recall 96.12378478050232, round time 7.165019273757935\n",
            "Round 94 : accuracy 89.03017044067383, Precision 81.59086108207703, Recall 96.03462815284729, round time 7.646507024765015\n",
            "Round 95 : accuracy 90.35625457763672, Precision 83.73712301254272, Recall 96.13622426986694, round time 6.243726015090942\n",
            "Round 96 : accuracy 90.05101919174194, Precision 83.36262702941895, Recall 95.88949084281921, round time 8.682419538497925\n",
            "Round 97 : accuracy 90.22626280784607, Precision 83.68909955024719, Recall 95.84076404571533, round time 6.3899619579315186\n",
            "Round 98 : accuracy 90.50266146659851, Precision 83.95540714263916, Recall 96.1901307106018, round time 8.833655595779419\n",
            "Round 99 : accuracy 90.55634140968323, Precision 84.03509855270386, Recall 96.21086716651917, round time 6.232215881347656\n",
            "Round 100 : accuracy 90.31233191490173, Precision 83.8916540145874, Recall 95.74745893478394, round time 10.615949153900146\n"
          ]
        }
      ],
      "source": [
        "evaluate_test(100)"
      ]
    },
    {
      "cell_type": "code",
      "execution_count": null,
      "metadata": {
        "id": "M8WLYYfzOlRR"
      },
      "outputs": [],
      "source": []
    },
    {
      "cell_type": "code",
      "execution_count": null,
      "metadata": {
        "id": "aKto0qvpOlRV"
      },
      "outputs": [],
      "source": []
    },
    {
      "cell_type": "code",
      "execution_count": null,
      "metadata": {
        "id": "qytOP0HAOlRV"
      },
      "outputs": [],
      "source": []
    },
    {
      "cell_type": "code",
      "execution_count": null,
      "metadata": {
        "id": "qLuXE4f8OlRV"
      },
      "outputs": [],
      "source": []
    },
    {
      "cell_type": "code",
      "execution_count": null,
      "metadata": {
        "id": "xont2eivOlRV"
      },
      "outputs": [],
      "source": []
    }
  ],
  "metadata": {
    "kernelspec": {
      "display_name": "Python 3",
      "name": "python3"
    },
    "language_info": {
      "codemirror_mode": {
        "name": "ipython",
        "version": 3
      },
      "file_extension": ".py",
      "mimetype": "text/x-python",
      "name": "python",
      "nbconvert_exporter": "python",
      "pygments_lexer": "ipython3",
      "version": "3.10.13"
    },
    "colab": {
      "provenance": [],
      "gpuType": "T4"
    },
    "accelerator": "GPU"
  },
  "nbformat": 4,
  "nbformat_minor": 0
}